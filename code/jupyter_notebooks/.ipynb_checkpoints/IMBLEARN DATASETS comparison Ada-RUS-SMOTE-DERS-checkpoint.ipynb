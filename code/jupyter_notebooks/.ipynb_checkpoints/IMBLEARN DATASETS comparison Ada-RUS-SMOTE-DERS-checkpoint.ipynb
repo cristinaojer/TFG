{
 "cells": [
  {
   "cell_type": "code",
   "execution_count": 1,
   "metadata": {},
   "outputs": [],
   "source": [
    "import matplotlib.pyplot as plt\n",
    "import numpy as np\n",
    "import statistics as stats\n",
    "import math\n",
    "import random\n",
    "import array\n",
    "\n",
    "from time import time\n",
    "\n",
    "#metrics\n",
    "from sklearn import metrics\n",
    "from imblearn.metrics import geometric_mean_score\n",
    "from sklearn.metrics import classification_report\n",
    "\n",
    "#model_selection\n",
    "from sklearn.model_selection import KFold, StratifiedKFold\n",
    "from sklearn.model_selection import train_test_split\n",
    "\n",
    "#resampling\n",
    "from imblearn.over_sampling import SMOTE\n",
    "from imblearn.combine import SMOTETomek, SMOTEENN\n",
    "\n",
    "#clasificadores\n",
    "from sklearn.ensemble import AdaBoostClassifier\n",
    "from sklearn.tree import DecisionTreeClassifier\n",
    "from imblearn.ensemble import RUSBoostClassifier\n",
    "\n",
    "#DEAP library for evolutionary algorithms\n",
    "from deap import base\n",
    "from deap import creator\n",
    "from deap import tools\n",
    "\n",
    "#datasets\n",
    "from imblearn.datasets import fetch_datasets"
   ]
  },
  {
   "cell_type": "code",
   "execution_count": 4,
   "metadata": {},
   "outputs": [],
   "source": [
    "from collections import Counter\n",
    "\n",
    "import numpy as np\n",
    "from sklearn.base import is_regressor\n",
    "from sklearn.ensemble.forest import BaseForest\n",
    "from sklearn.neighbors import NearestNeighbors\n",
    "from sklearn.preprocessing import normalize\n",
    "from sklearn.tree.tree import BaseDecisionTree\n",
    "from sklearn.utils import check_random_state\n",
    "from sklearn.utils import check_X_y\n",
    "\n",
    "class OversampleBoost(AdaBoostClassifier):\n",
    "    \"\"\"Implementation of a boosting method integrating an oversampling technique.\n",
    "    OversampleBoost introduces data sampling into the AdaBoost algorithm by\n",
    "    using a resampling method (SMOTE, SMOTETomek or SMOTEENN) on each boosting iteration [1].\n",
    "    This implementation inherits methods from the scikit-learn \n",
    "    AdaBoostClassifier class, only modifying the `fit` method.\n",
    "    Parameters\n",
    "    ----------\n",
    "    oversampling_algorithm: string\n",
    "        Name of the oversampling technique to implement on each boosting iteration\n",
    "        (SMOTE, SMOTETomek or SMOTEENN)\n",
    "    k_neighbors : int, optional (default=5)\n",
    "        Number of nearest neighbors for the oversampling algorithm\n",
    "    base_estimator : object, optional (default=DecisionTreeClassifier)\n",
    "        The base estimator from which the boosted ensemble is built.\n",
    "        Support for sample weighting is required, as well as proper `classes_`\n",
    "        and `n_classes_` attributes.\n",
    "    n_estimators : int, optional (default=50)\n",
    "        The maximum number of estimators at which boosting is terminated.\n",
    "        In case of perfect fit, the learning procedure is stopped early.\n",
    "    learning_rate : float, optional (default=1.)\n",
    "        Learning rate shrinks the contribution of each classifier by\n",
    "        ``learning_rate``. There is a trade-off between ``learning_rate`` and\n",
    "        ``n_estimators``.\n",
    "    algorithm : {'SAMME', 'SAMME.R'}, optional (default='SAMME.R')\n",
    "        If 'SAMME.R' then use the SAMME.R real boosting algorithm.\n",
    "        ``base_estimator`` must support calculation of class probabilities.\n",
    "        If 'SAMME' then use the SAMME discrete boosting algorithm.\n",
    "        The SAMME.R algorithm typically converges faster than SAMME,\n",
    "        achieving a lower test error with fewer boosting iterations.\n",
    "    random_state : int or None, optional (default=None)\n",
    "        If int, random_state is the seed used by the random number generator.\n",
    "        If None, the random number generator is the RandomState instance used\n",
    "        by np.random.\n",
    "    References\n",
    "    ----------\n",
    "    .. [1] N. V. Chawla, A. Lazarevic, L. O. Hall, and K. W. Bowyer.\n",
    "           \"SMOTEBoost: Improving Prediction of the Minority Class in\n",
    "           Boosting.\" European Conference on Principles of Data Mining and\n",
    "           Knowledge Discovery (PKDD), 2003.\n",
    "    \"\"\"\n",
    "\n",
    "    def __init__(self,\n",
    "                 oversampling_algorithm,\n",
    "                 k_neighbors=5,\n",
    "                 base_estimator=None,\n",
    "                 n_estimators=50,\n",
    "                 learning_rate=1.,\n",
    "                 algorithm='SAMME.R',\n",
    "                 random_state=None):\n",
    "\n",
    "        self.smote_kneighbors = k_neighbors\n",
    "        self.algorithm = algorithm\n",
    "        \n",
    "        if oversampling_algorithm=='SMOTE':\n",
    "            self.smote = SMOTE(k_neighbors = self.smote_kneighbors)\n",
    "        elif oversampling_algorithm=='SMOTE-TOMEK':\n",
    "            self.smote = SMOTETomek()\n",
    "        elif oversampling_algorithm=='SMOTE-ENN':\n",
    "            self.smote = SMOTEENN()\n",
    "        \n",
    "        super(OversampleBoost, self).__init__(\n",
    "            base_estimator=base_estimator,\n",
    "            n_estimators=n_estimators,\n",
    "            learning_rate=learning_rate,\n",
    "            random_state=random_state)\n",
    "\n",
    "    def fit(self, X, y, sample_weight=None, minority_target=None):\n",
    "        \"\"\"Build a boosted classifier/regressor from the training set (X, y),\n",
    "        performing the instantiated oversampling method during each boosting step.\n",
    "        Parameters\n",
    "        ----------\n",
    "        X : {array-like, sparse matrix} of shape = [n_samples, n_features]\n",
    "            The training input samples. Sparse matrix can be CSC, CSR, COO,\n",
    "            DOK, or LIL. COO, DOK, and LIL are converted to CSR. The dtype is\n",
    "            forced to DTYPE from tree._tree if the base classifier of this\n",
    "            ensemble weighted boosting classifier is a tree or forest.\n",
    "        y : array-like of shape = [n_samples]\n",
    "            The target values (class labels in classification, real numbers in\n",
    "            regression).\n",
    "        sample_weight : array-like of shape = [n_samples], optional\n",
    "            Sample weights. If None, the sample weights are initialized to\n",
    "            1 / n_samples.\n",
    "        minority_target : int\n",
    "            Minority class label.\n",
    "        Returns\n",
    "        -------\n",
    "        self : object\n",
    "            Returns self.\n",
    "        Notes\n",
    "        -----\n",
    "        Based on the scikit-learn v0.18 AdaBoostClassifier and\n",
    "        BaseWeightBoosting `fit` methods.\n",
    "        \"\"\"\n",
    "        # Check that algorithm is supported.\n",
    "        if self.algorithm not in ('SAMME', 'SAMME.R'):\n",
    "            raise ValueError(\"algorithm %s is not supported\" % self.algorithm)\n",
    "\n",
    "        # Check parameters.\n",
    "        if self.learning_rate <= 0:\n",
    "            raise ValueError(\"learning_rate must be greater than zero\")\n",
    "\n",
    "        if (self.base_estimator is None or\n",
    "                isinstance(self.base_estimator, (BaseDecisionTree,\n",
    "                                                 BaseForest))):\n",
    "            DTYPE = np.float64  # from fast_dict.pxd\n",
    "            dtype = DTYPE\n",
    "            accept_sparse = 'csc'\n",
    "        else:\n",
    "            dtype = None\n",
    "            accept_sparse = ['csr', 'csc']\n",
    "\n",
    "        X, y = check_X_y(X, y, accept_sparse=accept_sparse, dtype=dtype,\n",
    "                         y_numeric=is_regressor(self))\n",
    "\n",
    "        if sample_weight is None:\n",
    "            # Initialize weights to 1 / n_samples.\n",
    "            sample_weight = np.empty(X.shape[0], dtype=np.float64)\n",
    "            sample_weight[:] = 1. / X.shape[0]\n",
    "        else:\n",
    "            sample_weight = check_array(sample_weight, ensure_2d=False)\n",
    "            # Normalize existing weights.\n",
    "            sample_weight = sample_weight / sample_weight.sum(dtype=np.float64)\n",
    "\n",
    "            # Check that the sample weights sum is positive.\n",
    "            if sample_weight.sum() <= 0:\n",
    "                raise ValueError(\n",
    "                    \"Attempting to fit with a non-positive \"\n",
    "                    \"weighted number of samples.\")\n",
    "\n",
    "        if minority_target is None:\n",
    "            # Determine the minority class label.\n",
    "            stats_c_ = Counter(y)\n",
    "            maj_c_ = max(stats_c_, key=stats_c_.get)\n",
    "            min_c_ = min(stats_c_, key=stats_c_.get)\n",
    "            self.minority_target = min_c_\n",
    "        else:\n",
    "            self.minority_target = minority_target\n",
    "\n",
    "        # Check parameters.\n",
    "        self._validate_estimator()\n",
    "\n",
    "        # Clear any previous fit results.\n",
    "        self.estimators_ = []\n",
    "        self.estimator_weights_ = np.zeros(self.n_estimators, dtype=np.float64)\n",
    "        self.estimator_errors_ = np.ones(self.n_estimators, dtype=np.float64)\n",
    "\n",
    "        random_state = check_random_state(self.random_state)\n",
    "\n",
    "        for iboost in range(self.n_estimators):\n",
    "            X_min = X[np.where(y == self.minority_target)]\n",
    "\n",
    "            # oversampling step.\n",
    "            if len(X_min) >= self.smote_kneighbors:\n",
    "                #oversample\n",
    "                X_res, y_res = self.smote.fit_resample(X, y)\n",
    "                #number of generated synthetic samples\n",
    "                n_syn = X_res.shape[0]-X.shape[0]\n",
    "                #weights for the synthetics\n",
    "                sample_weight_syn = np.empty(n_syn, dtype=np.float64)\n",
    "                sample_weight_syn[:] = 1. / X.shape[0]\n",
    "\n",
    "                # Combine the weights.\n",
    "                sample_weight = \\\n",
    "                    np.append(sample_weight, sample_weight_syn).reshape(-1, 1)\n",
    "                sample_weight = \\\n",
    "                    np.squeeze(normalize(sample_weight, axis=0, norm='l1'))\n",
    "                \n",
    "            # Boosting step.\n",
    "            sample_weight, estimator_weight, estimator_error = self._boost(\n",
    "                iboost,\n",
    "                X_res, y_res,\n",
    "                sample_weight,\n",
    "                random_state)\n",
    "\n",
    "            # Early termination.\n",
    "            if sample_weight is None:\n",
    "                break\n",
    "\n",
    "            self.estimator_weights_[iboost] = estimator_weight\n",
    "            self.estimator_errors_[iboost] = estimator_error\n",
    "\n",
    "            # Stop if error is zero.\n",
    "            if estimator_error == 0:\n",
    "                break\n",
    "            sample_weight = sample_weight[:X.shape[0]]\n",
    "            sample_weight_sum = np.sum(sample_weight)\n",
    "\n",
    "            # Stop if the sum of sample weights has become non-positive.\n",
    "            if sample_weight_sum <= 0:\n",
    "                break\n",
    "\n",
    "            if iboost < self.n_estimators - 1:\n",
    "                # Normalize.\n",
    "                sample_weight /= sample_weight_sum\n",
    "\n",
    "        return self"
   ]
  },
  {
   "cell_type": "markdown",
   "metadata": {},
   "source": [
    "# DERSBoost"
   ]
  },
  {
   "cell_type": "markdown",
   "metadata": {},
   "source": [
    "## Differential evolution guided clustering"
   ]
  },
  {
   "cell_type": "code",
   "execution_count": 5,
   "metadata": {},
   "outputs": [],
   "source": [
    "class DEClustering(object):\n",
    "\t\n",
    "    \"\"\"\n",
    "    DOCUMENTARRRRR\n",
    "    \"\"\"\n",
    "    def __init__(self, CR=0.6,F=0.5,POP_SIZE=10,NGEN=100):\n",
    "        \n",
    "        self.CR = CR\n",
    "        self.F = F\n",
    "        self.POP_SIZE = POP_SIZE\n",
    "        self.NGEN = NGEN\n",
    "        \n",
    "        \n",
    "    def fit(self, X_train, y_train,maj_class,min_class):\n",
    "        creator.create(\"FitnessMin\", base.Fitness, weights=(-1.0,))\n",
    "        creator.create(\"Individual\", array.array, typecode='d', fitness=creator.FitnessMin)\n",
    "        self.toolbox = base.Toolbox()\n",
    "        self.toolbox.register(\"select\", tools.selRandom, k=3)\n",
    "        self.toolbox.register(\"population\",load_individuals, X_train, y_train, maj_class, min_class,\n",
    "                              creator.Individual)\n",
    "        self.toolbox.register(\"evaluate\", evaluate, X_train)\n",
    "        \n",
    "        NDIM = X_train.shape[1]\n",
    "        \n",
    "        pop = self.toolbox.population(n=self.POP_SIZE);\n",
    "        hof = tools.HallOfFame(1)\n",
    "        stats = tools.Statistics(lambda ind: ind.fitness.values)\n",
    "        stats.register(\"avg\", np.mean)\n",
    "        stats.register(\"std\", np.std)\n",
    "        stats.register(\"min\", np.min)\n",
    "        stats.register(\"max\", np.max)\n",
    "\n",
    "        logbook = tools.Logbook()\n",
    "        logbook.header = \"gen\", \"evals\", \"std\", \"min\", \"avg\", \"max\"\n",
    "\n",
    "        # Evaluate the individuals\n",
    "        fitnesses = self.toolbox.map(self.toolbox.evaluate, pop)\n",
    "        for ind, fit in zip(pop, fitnesses):\n",
    "            ind.fitness.values = fit\n",
    "\n",
    "        record = stats.compile(pop)\n",
    "        logbook.record(gen=0, evals=len(pop), **record)\n",
    "#         print(logbook.stream)\n",
    "        \n",
    "        last_fitness = float('inf')\n",
    "        for g in range(1, self.NGEN):\n",
    "            for k, agent in enumerate(pop):\n",
    "                a,b,c = self.toolbox.select(pop)\n",
    "                y = self.toolbox.clone(agent)\n",
    "                index = random.randrange(NDIM)\n",
    "                for i, value in enumerate(agent):\n",
    "                    if i == index or random.random() < self.CR:\n",
    "                        y[i] = a[i] + self.F*(b[i]-c[i])\n",
    "                y.fitness.values = self.toolbox.evaluate(y)\n",
    "                if y.fitness > agent.fitness:\n",
    "                    pop[k] = y\n",
    "                #print(pop[k].fitness)\n",
    "                \n",
    "            hof.update(pop)\n",
    "            record = stats.compile(pop)\n",
    "            logbook.record(gen=g, evals=len(pop), **record)\n",
    "#             print(logbook.stream)\n",
    "\n",
    "#         print(\"Best individual is \", hof[0], hof[0].fitness.values[0])\n",
    "#         return hof[0]\n",
    "        self.best_ind = hof[0]\n",
    "        self.best_fitness = hof[0].fitness.values[0]\n",
    "#         print(self.best_ind)\n",
    "#         print(self.best_fitness)\n",
    "        return self"
   ]
  },
  {
   "cell_type": "code",
   "execution_count": 6,
   "metadata": {},
   "outputs": [],
   "source": [
    "class DECLUndersampling(object):\n",
    "    def __init__(self, H=6, alpha=0.8, CR=None, F=None, POP_SIZE=None, NGEN=None):\n",
    "        self.H = H\n",
    "        self.alpha = alpha\n",
    "         \n",
    "        self.decl = DEClustering(CR, F, POP_SIZE, NGEN)\n",
    "    \n",
    "    \n",
    "    def clustering_centers(self,X,y,maj_class,min_class):\n",
    "        clustering_centers = []\n",
    "        for i in range(int(self.H)):\n",
    "            self.decl.fit(X,y,maj_class,min_class)\n",
    "            centers = self.decl.best_ind\n",
    "            clustering_centers.append(centers)\n",
    "        return clustering_centers\n",
    "    \n",
    "    def cluster_stabilities(self,majority_samples,maj_class,min_class,clustering_centers):\n",
    "        classes = [maj_class,min_class]\n",
    "    \n",
    "        cluster_stabilities = []\n",
    "        for sample in majority_samples:\n",
    "            S = 0\n",
    "            for clustering in clustering_centers:\n",
    "                c = classes[classify(sample,clustering)]\n",
    "                if c==maj_class:\n",
    "                    S += 1\n",
    "            cluster_stabilities.append(S/self.H)\n",
    "        return cluster_stabilities\n",
    "\n",
    "    def undersample(self,X,y):\n",
    "        \n",
    "        classes,maj_class,min_class = convert_classes(y)\n",
    "        \n",
    "        #compute H clustering processes\n",
    "        cl_c = self.clustering_centers(X,y,maj_class,min_class)\n",
    "        \n",
    "        #compute cluster stability for each majority sample\n",
    "        majority_samples = X[y==maj_class]\n",
    "        cl_st = self.cluster_stabilities(majority_samples,maj_class,min_class,cl_c)\n",
    "            \n",
    "        #compute boundary and non-boundary samples\n",
    "        boundary_points = majority_samples[np.array(cl_st)<=self.alpha]\n",
    "        non_boundary_points = majority_samples[np.array(cl_st)>self.alpha]\n",
    "        \n",
    "        #undersample non-boundary samples\n",
    "        nbp_us = rus(non_boundary_points)\n",
    "        \n",
    "        #build undersampled training set\n",
    "        X_US, y_US = unify_training_set(X,y,maj_class,min_class,boundary_points,nbp_us)\n",
    "\n",
    "        return X_US, y_US\n",
    "\n",
    "\n",
    "#classifies sample x to the class which center is closer to\n",
    "def classify(x,centers):\n",
    "    dist_majcenter = euclidean(x,centers[:len(x)])\n",
    "    dist_mincenter = euclidean(x,centers[len(x):])\n",
    "    return np.argmin([dist_majcenter,dist_mincenter])\n",
    "\n",
    "# function to generate the initial random population from the training set\n",
    "def load_individuals(X,y,maj_class,min_class,creator,n):\n",
    "    \"\"\"\n",
    "    \"\"\"\n",
    "    maj_samples = X[y == maj_class]\n",
    "    min_samples = X[y == min_class]\n",
    "    individuals = []\n",
    "    for i in range(n):\n",
    "        random_maj = maj_samples[random.randint(0,maj_samples.shape[0]-1)]\n",
    "        random_min = min_samples[random.randint(0,min_samples.shape[0]-1)]\n",
    "        individual = np.asarray(np.concatenate((random_maj,random_min)))\n",
    "\n",
    "        individual = creator(individual)\n",
    "        individuals.append(individual)\n",
    "    return individuals\n",
    "\n",
    "# returns the euclidean distance between two points\n",
    "def euclidean(v1, v2):\n",
    "    return sum((p-q)**2 for p, q in zip(v1, v2)) ** .5\n",
    "\n",
    "#returns the sum of the distances from each sample in X_train to the closest center\n",
    "#we are interested in minimizing this sum of distances\n",
    "def evaluate(X,individual):\n",
    "    D = X.shape[1]\n",
    "    S = 0\n",
    "    for x in X:\n",
    "        dist = dist_to_closest_center(x,individual[:D],individual[D:])\n",
    "        S += dist\n",
    "\n",
    "    return S,\n",
    "\n",
    "#computes the euclidean distance for both centers and returns the shortest one\n",
    "def dist_to_closest_center(x,maj_center,min_center):\n",
    "    dist_majcenter = euclidean(x,maj_center)\n",
    "    dist_mincenter = euclidean(x,min_center)\n",
    "    return min(dist_majcenter,dist_mincenter)\n",
    "\n",
    "def unify_training_set(X,y,maj_class,min_class,boundary_points,nbp_us):\n",
    "    new_majorityclass_training = np.vstack((boundary_points,nbp_us))\n",
    "    print(\"Conjunto de entrenamiento original de tamaño: {}\".format(X.shape[0]))\n",
    "    n_may,n_min = sum(y == maj_class),sum(y == min_class)\n",
    "    print(\"De los cuales:\\n \\t nº de ejemplos clase MAYORITARIA: {}\\n \\t nº de ejemplos clase MINORITARIA: {}\"\n",
    "          .format(n_may,n_min))\n",
    "#         print(\"IR = {}\".format(n_may/n_min))\n",
    "    minority_samples = X[y==min_class]\n",
    "\n",
    "    X_US = np.vstack((new_majorityclass_training,minority_samples))\n",
    "    y_US = np.hstack((np.full(new_majorityclass_training.shape[0],maj_class),\n",
    "                      np.full(minority_samples.shape[0],min_class)))\n",
    "    print(\"nº de ejemplos clase MAYORITARIA tras aplicar DE-guided UNDERSAMPLING: {}\"\n",
    "          .format(new_majorityclass_training.shape[0]))\n",
    "    print(\"Conjunto de entrenamiento actual de tamaño: {}\".format(new_majorityclass_training.shape[0]+n_min))\n",
    "    return X_US,y_US\n",
    "\n",
    "def rus(nbp,p=0.4):\n",
    "    RUSsize = int(nbp.shape[0]*p)\n",
    "    #RUS PURO\n",
    "    indices = np.random.randint(nbp.shape[0], size=RUSsize)\n",
    "    nbp_us = nbp[indices]\n",
    "#         #RUS ponderado por el cluster stability de cada ejemplo\n",
    "#         C_non_boundary = np.array(cluster_stabilities)[np.array(cluster_stabilities)>self.alpha]\n",
    "#         indices = np.random.choice(np.arange(non_boundary_points.shape[0]),size=RUSsize,\n",
    "#                                    p = C_non_boundary/sum(C_non_boundary))\n",
    "#         nbp_us = non_boundary_points[indices]\n",
    "    return nbp_us"
   ]
  },
  {
   "cell_type": "markdown",
   "metadata": {},
   "source": [
    "## DE-guided SMOTE "
   ]
  },
  {
   "cell_type": "code",
   "execution_count": 7,
   "metadata": {},
   "outputs": [],
   "source": [
    "class DESMOTE(object):\n",
    "    \"\"\"\n",
    "    DOCUMENTARRRRR\n",
    "    \"\"\"\n",
    "    def __init__(self, CR, F ,POP_SIZE, NGEN, p=0.2):\n",
    "        self.CR = CR\n",
    "        self.F = F\n",
    "        self.POP_SIZE = POP_SIZE\n",
    "        self.NGEN = NGEN\n",
    "        self.p = p\n",
    "    \n",
    "    \n",
    "    def fit(self, X, y, maj_class, min_class, syn):\n",
    "        \n",
    "        creator.create(\"FitnessMax\", base.Fitness, weights=(1.0,))\n",
    "        creator.create(\"Individual\", array.array, typecode='d', fitness=creator.FitnessMax, clf=None)\n",
    "        self.toolbox = base.Toolbox()\n",
    "        self.toolbox.register(\"attr_int\", random.randint, 0, 1)\n",
    "\n",
    "        self.toolbox.register(\"select\", tools.selRandom, k=3)\n",
    "        NDIM = syn.shape[0]\n",
    "        \n",
    "        self.toolbox.register(\"individual\", tools.initRepeat, creator.Individual, self.toolbox.attr_int, NDIM)\n",
    "        self.toolbox.register(\"population\", tools.initRepeat, list, self.toolbox.individual)     \n",
    "        self.toolbox.register(\"evaluate\", compute_fitness, self.p, X, y, maj_class, min_class, syn)    \n",
    "        \n",
    "        pop = self.toolbox.population(n=self.POP_SIZE);\n",
    "        hof = tools.HallOfFame(1)\n",
    "        stats = tools.Statistics(lambda ind: ind.fitness.values)\n",
    "        stats.register(\"avg\", np.mean)\n",
    "        stats.register(\"std\", np.std)\n",
    "        stats.register(\"min\", np.min)\n",
    "        stats.register(\"max\", np.max)\n",
    "\n",
    "        logbook = tools.Logbook()\n",
    "        logbook.header = \"gen\", \"evals\", \"std\", \"min\", \"avg\", \"max\"\n",
    "        #print(pop)\n",
    "        # Evaluate the individuals\n",
    "        fitnesses = self.toolbox.map(self.toolbox.evaluate, pop)\n",
    "        for ind, fit in zip(pop, fitnesses):\n",
    "            ind.fitness.values = fit\n",
    "\n",
    "        record = stats.compile(pop)\n",
    "        logbook.record(gen=0, evals=len(pop), **record)\n",
    "        #print(logbook.stream)\n",
    "\n",
    "        for g in range(1, self.NGEN):\n",
    "            for k, agent in enumerate(pop):\n",
    "                a,b,c = self.toolbox.select(pop)\n",
    "                #we adopt a self-adaptative operator\n",
    "                l = math.exp(1-(self.NGEN/(self.NGEN+1-g)))\n",
    "                F_g = self.F*(2**l)\n",
    "                d = self.toolbox.clone(agent) #donor vector\n",
    "                sig_d = self.toolbox.clone(agent)\n",
    "                y = self.toolbox.clone(agent)\n",
    "                index = random.randrange(NDIM)\n",
    "                for i, value in enumerate(agent):\n",
    "                    d[i] = a[i] + F_g*(b[i]-c[i]) #donor vector\n",
    "                    #the mutated donor is mapped to binary space by a sigmoid function with displacement\n",
    "                    sig_d[i] = round(1/(1+math.exp(-(d[i]))))\n",
    "                    if i == index or random.random() < self.CR:\n",
    "#                         y[i] = a[i] + F*(b[i]-c[i])\n",
    "                        y[i] = sig_d[i]\n",
    "                y.fitness.values = self.toolbox.evaluate(y)\n",
    "                if y.fitness > agent.fitness:\n",
    "                    pop[k] = y\n",
    "                #print(pop[k].fitness)\n",
    "            hof.update(pop)\n",
    "            record = stats.compile(pop)\n",
    "            logbook.record(gen=g, evals=len(pop), **record)\n",
    "#             print(logbook.stream)\n",
    "\n",
    "#         print(\"Best individual is \", hof[0], hof[0].fitness.values[0])\n",
    "#         return hof[0]\n",
    "        self.best_ind = hof[0]\n",
    "        self.best_fitness = hof[0].fitness.values[0]\n",
    "#         print(self.best_ind)\n",
    "#         print(self.best_fitness)\n",
    "        return self\n",
    "\n",
    "\n",
    "\n",
    "\n",
    "\n",
    "def Gmean(clf,X_test,y_test):\n",
    "    y_pred = clf.predict(X_test)\n",
    "    gmean = geometric_mean_score(y_test, y_pred)\n",
    "    #print(\"Gmean:\",gmean)\n",
    "    return gmean\n",
    "    \n",
    "def compute_fitness(p,X_before_SMOTE,y_before_SMOTE,maj_class,min_class,synthetic_samples, individual):\n",
    "    selected_syn = []\n",
    "    for i, value in enumerate(individual):\n",
    "        if individual[i]>0:\n",
    "            selected_syn.append(synthetic_samples[i-1])\n",
    "    if len(selected_syn)>0:\n",
    "        selected_syn = np.array(selected_syn)\n",
    "        X = np.vstack((X_before_SMOTE,selected_syn))\n",
    "        y = np.hstack((y_before_SMOTE,np.full(selected_syn.shape[0],min_class)))\n",
    "        #realizar splitTest??????????????''\n",
    "        Xtr, Xtst, ytr, ytst = train_test_split(X, y, test_size=0.3)\n",
    "        #dt = trainDT(Xtr,ytr,weights)\n",
    "        dt = trainDT(Xtr,ytr)\n",
    "        #test??????????????????????????\n",
    "        #G = Gmean(dt,X_before_SMOTE,y_before_SMOTE)\n",
    "        G = Gmean(dt,Xtst,ytst)\n",
    "        n_minority = len(individual)+sum(individual)\n",
    "        n_majority = X_before_SMOTE[y_before_SMOTE==maj_class].shape[0]\n",
    "        f = G - abs(1-(n_minority/n_majority*p))\n",
    "#         print(\"f: \",f)\n",
    "        return G,\n",
    "#         return f,\n",
    "    else:\n",
    "        return 0,\n",
    "\n",
    "def trainDT(X_train,y_train,w=None):\n",
    "    clf = DecisionTreeClassifier()\n",
    "    clf = clf.fit(X_train,y_train,sample_weight=w)\n",
    "    return clf"
   ]
  },
  {
   "cell_type": "code",
   "execution_count": 9,
   "metadata": {},
   "outputs": [],
   "source": [
    "class DERSBoost(AdaBoostClassifier):\n",
    "    \"\"\"Implementation of DERSBoost.\n",
    "    DERSBoost introduces data sampling into the AdaBoost algorithm by both\n",
    "    undersampling the majority class guided by a Differential Evolutionary algorithm, and\n",
    "    oversampling the minority class using also a DE-guided SMOTE procedure on each boosting iteration [1].\n",
    "    This implementation inherits methods from the scikit-learn \n",
    "    AdaBoostClassifier class, only modifying the `fit` method.\n",
    "    Parameters\n",
    "    ----------\n",
    "    n_samples : int, optional (default=100)\n",
    "        Number of new synthetic samples per boosting step.\n",
    "    k_neighbors : int, optional (default=5)\n",
    "        Number of nearest neighbors.\n",
    "    base_estimator : object, optional (default=DecisionTreeClassifier)\n",
    "        The base estimator from which the boosted ensemble is built.\n",
    "        Support for sample weighting is required, as well as proper `classes_`\n",
    "        and `n_classes_` attributes.\n",
    "    n_estimators : int, optional (default=50)\n",
    "        The maximum number of estimators at which boosting is terminated.\n",
    "        In case of perfect fit, the learning procedure is stopped early.\n",
    "    learning_rate : float, optional (default=1.)\n",
    "        Learning rate shrinks the contribution of each classifier by\n",
    "        ``learning_rate``. There is a trade-off between ``learning_rate`` and\n",
    "        ``n_estimators``.\n",
    "    algorithm : {'SAMME', 'SAMME.R'}, optional (default='SAMME.R')\n",
    "        If 'SAMME.R' then use the SAMME.R real boosting algorithm.\n",
    "        ``base_estimator`` must support calculation of class probabilities.\n",
    "        If 'SAMME' then use the SAMME discrete boosting algorithm.\n",
    "        The SAMME.R algorithm typically converges faster than SAMME,\n",
    "        achieving a lower test error with fewer boosting iterations.\n",
    "    random_state : int or None, optional (default=None)\n",
    "        If int, random_state is the seed used by the random number generator.\n",
    "        If None, the random number generator is the RandomState instance used\n",
    "        by np.random.\n",
    "    References\n",
    "    ----------\n",
    "    .. [1] N. V. Chawla, A. Lazarevic, L. O. Hall, and K. W. Bowyer.\n",
    "           \"SMOTEBoost: Improving Prediction of the Minority Class in\n",
    "           Boosting.\" European Conference on Principles of Data Mining and\n",
    "           Knowledge Discovery (PKDD), 2003.\n",
    "    \"\"\"\n",
    "\n",
    "    def __init__(self,\n",
    "                 k_neighbors=5,\n",
    "                 base_estimator=None,\n",
    "                 n_estimators=50,\n",
    "                 learning_rate=1.,\n",
    "                 algorithm='SAMME.R',\n",
    "                 random_state=None,\n",
    "                 H=6,\n",
    "                 CR=0.6,\n",
    "                 F=0.5,\n",
    "                 POP_SIZE=10,\n",
    "                 NGEN=100,\n",
    "                 us_alpha=0.8\n",
    "                ):\n",
    "        \n",
    "        self.smote_kneighbors = k_neighbors\n",
    "        self.algorithm = algorithm\n",
    "        self.H = H\n",
    "        self.CR = CR\n",
    "        self.F = F\n",
    "        self.POP_SIZE = POP_SIZE\n",
    "        self.NGEN = NGEN\n",
    "        self.us_alpha = us_alpha\n",
    "        \n",
    "        self.desmote = DESMOTE(self.CR,self.F,self.POP_SIZE,self.NGEN)\n",
    "\n",
    "        super(DERSBoost, self).__init__(\n",
    "            base_estimator=base_estimator,\n",
    "            n_estimators=n_estimators,\n",
    "            learning_rate=learning_rate,\n",
    "            random_state=random_state)\n",
    "        \n",
    "    def fit(self, X, y, sample_weight=None, minority_target=None):\n",
    "        \"\"\"Build a boosted classifier/regressor from the training set (X, y),\n",
    "        performing SMOTE during each boosting step.\n",
    "        Parameters\n",
    "        ----------\n",
    "        X : {array-like, sparse matrix} of shape = [n_samples, n_features]\n",
    "            The training input samples. Sparse matrix can be CSC, CSR, COO,\n",
    "            DOK, or LIL. COO, DOK, and LIL are converted to CSR. The dtype is\n",
    "            forced to DTYPE from tree._tree if the base classifier of this\n",
    "            ensemble weighted boosting classifier is a tree or forest.\n",
    "        y : array-like of shape = [n_samples]\n",
    "            The target values (class labels in classification, real numbers in\n",
    "            regression).\n",
    "        sample_weight : array-like of shape = [n_samples], optional\n",
    "            Sample weights. If None, the sample weights are initialized to\n",
    "            1 / n_samples.\n",
    "        minority_target : int\n",
    "            Minority class label.\n",
    "        Returns\n",
    "        -------\n",
    "        self : object\n",
    "            Returns self.\n",
    "        Notes\n",
    "        -----\n",
    "        Based on the scikit-learn v0.18 AdaBoostClassifier and\n",
    "        BaseWeightBoosting `fit` methods.\n",
    "        \"\"\"\n",
    "        # Check that algorithm is supported.\n",
    "        if self.algorithm not in ('SAMME', 'SAMME.R'):\n",
    "            raise ValueError(\"algorithm %s is not supported\" % self.algorithm)\n",
    "\n",
    "        # Check parameters.\n",
    "        if self.learning_rate <= 0:\n",
    "            raise ValueError(\"learning_rate must be greater than zero\")\n",
    "\n",
    "        if (self.base_estimator is None or\n",
    "                isinstance(self.base_estimator, (BaseDecisionTree,\n",
    "                                                 BaseForest))):\n",
    "            DTYPE = np.float64  # from fast_dict.pxd\n",
    "            dtype = DTYPE\n",
    "            accept_sparse = 'csc'\n",
    "        else:\n",
    "            dtype = None\n",
    "            accept_sparse = ['csr', 'csc']\n",
    "\n",
    "        X, y = check_X_y(X, y, accept_sparse=accept_sparse, dtype=dtype,\n",
    "                         y_numeric=is_regressor(self))\n",
    "\n",
    "        declu = DECLUndersampling(H=self.H, alpha=self.us_alpha, CR=self.CR, F=self.F, POP_SIZE=self.POP_SIZE,\n",
    "                                  NGEN=self.NGEN)\n",
    "        X, y = declu.undersample(X,y)\n",
    "        \n",
    "        if sample_weight is None:\n",
    "            # Initialize weights to 1 / n_samples.\n",
    "            sample_weight = np.empty(X.shape[0], dtype=np.float64)\n",
    "            sample_weight[:] = 1. / X.shape[0]\n",
    "        else:\n",
    "            sample_weight = check_array(sample_weight, ensure_2d=False)\n",
    "            # Normalize existing weights.\n",
    "            sample_weight = sample_weight / sample_weight.sum(dtype=np.float64)\n",
    "\n",
    "            # Check that the sample weights sum is positive.\n",
    "            if sample_weight.sum() <= 0:\n",
    "                raise ValueError(\n",
    "                    \"Attempting to fit with a non-positive \"\n",
    "                    \"weighted number of samples.\")\n",
    "\n",
    "        if minority_target is None:\n",
    "            # Determine the minority class label.\n",
    "            stats_c_ = Counter(y)\n",
    "            maj_c_ = max(stats_c_, key=stats_c_.get)\n",
    "            min_c_ = min(stats_c_, key=stats_c_.get)\n",
    "            self.minority_target = min_c_\n",
    "            self.majority_target = maj_c_\n",
    "        else:\n",
    "            self.minority_target = minority_target\n",
    "\n",
    "        # Check parameters.\n",
    "        self._validate_estimator()\n",
    "\n",
    "        # Clear any previous fit results.\n",
    "        self.estimators_ = []\n",
    "        self.estimator_weights_ = np.zeros(self.n_estimators, dtype=np.float64)\n",
    "        self.estimator_errors_ = np.ones(self.n_estimators, dtype=np.float64)\n",
    "\n",
    "        random_state = check_random_state(self.random_state)\n",
    "        \n",
    "        for iboost in range(self.n_estimators):\n",
    "            X_min = X[np.where(y == self.minority_target)]\n",
    "            \n",
    "            # SMOTE step.\n",
    "            if len(X_min) >= self.smote_kneighbors:\n",
    "                #create smote model\n",
    "                n_maj = X[y==self.majority_target].shape[0]\n",
    "                n_min = X_min.shape[0]\n",
    "#                 self.smote = SMOTE(k_neighbors = self.smote_kneighbors,\n",
    "#                                    sampling_strategy = {self.majority_target: n_maj,self.minority_target: n_min*2})\n",
    "                self.smote = SMOTE(k_neighbors = self.smote_kneighbors)\n",
    "                #fit and resample with smote\n",
    "                X_res, y_res = self.smote.fit_resample(X, y)\n",
    "                #select synthetic samples\n",
    "                X_syn = X_res[y_res==self.minority_target][n_min:]\n",
    "\n",
    "                #DEguided selection of best synthetics\n",
    "                self.desmote.fit(X,y,self.majority_target,self.minority_target,X_syn)\n",
    "                selected_syn = []\n",
    "                for i, value in enumerate(self.desmote.best_ind):\n",
    "                    if self.desmote.best_ind[i]>0:\n",
    "                        selected_syn.append(X_syn[i])\n",
    "                selected_syn = np.array(selected_syn)\n",
    "                y_syn = np.full(selected_syn.shape[0], fill_value=self.minority_target,\n",
    "                                dtype=np.int64)\n",
    "                \n",
    "                # Normalize synthetic sample weights based on current training set.\n",
    "                sample_weight_syn = np.empty(selected_syn.shape[0], dtype=np.float64)\n",
    "                sample_weight_syn[:] = 1. / X.shape[0]\n",
    "                \n",
    "                # Combine the original and synthetic samples.\n",
    "                print(\" SE HAN INCLUIDO {} EJEMPLOS SINTÉTICOS\".format(selected_syn.shape[0]))\n",
    "                X_train = np.vstack((X, selected_syn))\n",
    "                y_train = np.append(y, y_syn)\n",
    "                \n",
    "                # Combine the weights.\n",
    "                sample_weight = \\\n",
    "                    np.append(sample_weight, sample_weight_syn).reshape(-1, 1)\n",
    "                sample_weight = \\\n",
    "                    np.squeeze(normalize(sample_weight, axis=0, norm='l1'))\n",
    "                \n",
    "            # Boosting step.\n",
    "            sample_weight, estimator_weight, estimator_error = self._boost(\n",
    "                iboost,\n",
    "                X_train, y_train,\n",
    "                sample_weight,\n",
    "                random_state)\n",
    "\n",
    "            # Early termination.\n",
    "            if sample_weight is None:\n",
    "                break\n",
    "\n",
    "            self.estimator_weights_[iboost] = estimator_weight\n",
    "            self.estimator_errors_[iboost] = estimator_error\n",
    "\n",
    "            # Stop if error is zero.\n",
    "            if estimator_error == 0:\n",
    "                break\n",
    "                \n",
    "            sample_weight = sample_weight[:X.shape[0]]\n",
    "            sample_weight_sum = np.sum(sample_weight)\n",
    "\n",
    "            # Stop if the sum of sample weights has become non-positive.\n",
    "            if sample_weight_sum <= 0:\n",
    "                break\n",
    "\n",
    "            if iboost < self.n_estimators - 1:\n",
    "                # Normalize.\n",
    "                sample_weight /= sample_weight_sum\n",
    "\n",
    "        return self\n",
    "\n",
    "\n"
   ]
  },
  {
   "cell_type": "markdown",
   "metadata": {},
   "source": [
    "# GENERAL FUNCTIONS"
   ]
  },
  {
   "cell_type": "code",
   "execution_count": 10,
   "metadata": {},
   "outputs": [],
   "source": [
    "def obtain_data(dataset_name):\n",
    "    dataset = fetch_datasets()[dataset_name]\n",
    "    return dataset.data,dataset.target\n",
    "\n",
    "def convert_classes(y):\n",
    "    default_classes = np.unique(y)\n",
    "#     print(\"Default classes of the dataset were: \",default_classes)\n",
    "    maj_class = -1\n",
    "    min_class = 1\n",
    "    if sum(y == default_classes[0]) > sum(y == default_classes[1]):\n",
    "    #     maj_class = default_classes[0]\n",
    "    #     min_class = default_classes[1]\n",
    "        y[y==default_classes[0]] = maj_class\n",
    "        y[y==default_classes[1]] = min_class\n",
    "    else:\n",
    "    #     maj_class = default_classes[1]\n",
    "    #     min_class = default_classes[0]\n",
    "        y[y==default_classes[1]] = maj_class\n",
    "        y[y==default_classes[0]] = min_class\n",
    "\n",
    "#     print(\"There are {} instances for the majoritary class\".format(sum(y == maj_class)))\n",
    "#     print(\"There are {} instanes for the minoritary class\".format(sum(y == min_class)))\n",
    "    return [maj_class,min_class], maj_class, min_class\n",
    "\n",
    "def train(X_train, y_train, method_name, base_classifier, T):\n",
    "    if method_name=='adaboost':\n",
    "        clf = AdaBoostClassifier(base_estimator=base_classifier, n_estimators=T)\n",
    "    elif method_name=='RUSBoost':\n",
    "        clf = RUSBoostClassifier(base_estimator=base_classifier,n_estimators=T,sampling_strategy='majority')\n",
    "    elif method_name=='SMOTEBoost':\n",
    "        clf = OversampleBoost(oversampling_algorithm='SMOTE',base_estimator=base_classifier, n_estimators=T)\n",
    "    elif method_name=='SMOTETomekBoost':\n",
    "        clf = OversampleBoost(oversampling_algorithm='SMOTE-TOMEK',base_estimator=base_classifier, n_estimators=T)\n",
    "    elif method_name=='SMOTEENNBoost':\n",
    "        clf = OversampleBoost(oversampling_algorithm='SMOTE-ENN',base_estimator=base_classifier, n_estimators=T)\n",
    "    elif method_name=='DERSBoost':\n",
    "        clf = DERSBoost(base_estimator=base_classifier, n_estimators=T, NGEN = 50)    \n",
    "    start_time = time()\n",
    "    clf.fit(X_train,y_train)\n",
    "    elapsed_time = time() - start_time\n",
    "    return clf,elapsed_time\n",
    "\n",
    "def gmean_test(clf, X_test, y_test):\n",
    "    y_pred = clf.predict(X_test)\n",
    "    gmean = geometric_mean_score(y_test, y_pred)*100\n",
    "    \n",
    "    return gmean\n",
    "\n",
    "def train_ensemble_method(dataset_name,method_name, T=10, k=5):\n",
    "    #fetch data from dataset\n",
    "    X, y = obtain_data(dataset_name)\n",
    "    print(\"Dataset of size {}\".format(X.shape))\n",
    "    \n",
    "    #convert, just in case, class labels to -1 (majoritary class) and 1 (minoritari class)\n",
    "    classes, maj_class, min_class = convert_classes(y)\n",
    "    \n",
    "    #number of instances of each class and IR\n",
    "    n_maj = X[y==maj_class].shape[0]\n",
    "    n_min = X[y==min_class].shape[0]\n",
    "    IR = n_maj/n_min\n",
    "    print(\"There are {} instances for the majoritary class\".format(n_maj))\n",
    "    print(\"There are {} instanes for the minoritary class\".format(n_min))\n",
    "    print(\"IR of the dataset: \",IR)\n",
    "    \n",
    "    # Llamada al constructor del clasificador \n",
    "    dtc = DecisionTreeClassifier(criterion='entropy', max_depth=1)\n",
    "\n",
    "    kf = StratifiedKFold(n_splits=k)\n",
    "\n",
    "    gmean = []\n",
    "    exec_time_mean = []\n",
    "    for train_index, test_index in kf.split(X,y):\n",
    "    #     print(\"TRAIN:\", train_index, \"TEST:\", test_index)\n",
    "        X_train, X_test = X[train_index], X[test_index]\n",
    "        y_train, y_test = y[train_index], y[test_index]\n",
    "        \n",
    "        clf,exec_time = train(X_train, y_train, method_name, dtc, T)\n",
    "    \n",
    "        partial_gmean = gmean_test(clf, X_test, y_test)\n",
    "        \n",
    "        gmean.append(partial_gmean)\n",
    "        print(\"Gmean parcial: {}\".format(partial_gmean))\n",
    "        exec_time_mean.append(exec_time)\n",
    "        \n",
    "    print(gmean)\n",
    "    rend = stats.mean(gmean)\n",
    "    time = stats.mean(exec_time_mean)\n",
    "    print(\"Rendimiento del clasificador {}: {}\".format(method_name,rend))\n",
    "    print(\"Tiempo medio de entrenamiento: {}\".format(time))\n",
    "    return rend, IR, time"
   ]
  },
  {
   "cell_type": "code",
   "execution_count": 11,
   "metadata": {},
   "outputs": [],
   "source": [
    "imblearn_datasets = [\n",
    "    'ecoli',\n",
    "    'optical_digits',\n",
    "    'satimage',\n",
    "    'pen_digits',\n",
    "    'abalone',\n",
    "    'sick_euthyroid',\n",
    "    'spectrometer',\n",
    "    'car_eval_34',\n",
    "    'isolet',\n",
    "    'us_crime',\n",
    "    'yeast_ml8',\n",
    "    'scene',\n",
    "    'libras_move',\n",
    "    'thyroid_sick',\n",
    "    'coil_2000',\n",
    "    'arrhythmia',\n",
    "    'solar_flare_m0',\n",
    "    'oil',\n",
    "    'car_eval_4',\n",
    "    'wine_quality',\n",
    "    'letter_img',\n",
    "    'yeast_me2',\n",
    "#     'webpage',\n",
    "    'ozone_level',\n",
    "    'mammography',\n",
    "#     'protein_homo',\n",
    "    'abalone_19'\n",
    "]"
   ]
  },
  {
   "cell_type": "markdown",
   "metadata": {},
   "source": [
    "Ejecución de SMOTEBoost utilizando la clase imblearn.oversampling.SMOTE para el remuestreo. Mejores resultados"
   ]
  },
  {
   "cell_type": "code",
   "execution_count": null,
   "metadata": {},
   "outputs": [],
   "source": [
    "rend = np.empty((3,len(imblearn_datasets)))\n",
    "IRlista = []\n",
    "for i,algorithm in enumerate(['SMOTEBoost','RUSBoost','adaboost']):\n",
    "    for j,dataset in enumerate(imblearn_datasets):\n",
    "        print(dataset.upper()+' with '+algorithm)\n",
    "        r, IR = train_ensemble_method(dataset,algorithm)\n",
    "        rend[i,j] = r\n",
    "        if i==0:\n",
    "            IRlista.append(IR)\n",
    "        print()"
   ]
  },
  {
   "cell_type": "code",
   "execution_count": 10,
   "metadata": {},
   "outputs": [
    {
     "data": {
      "image/png": "[encoded data removed]",
      "text/plain": [
       "<Figure size 720x720 with 1 Axes>"
      ]
     },
     "metadata": {
      "needs_background": "light"
     },
     "output_type": "display_data"
    },
    {
     "name": "stdout",
     "output_type": "stream",
     "text": [
      "Media del rendimiento para todos los datasets con SMOTEBoost:  77.17023809200626\n",
      "Media del rendimiento para todos los datasets con RUSBoost:  76.80705356536978\n",
      "Media del rendimiento para todos los datasets con AdaBoost:  51.59867318519848\n"
     ]
    }
   ],
   "source": [
    "plt.figure(figsize=(10,10))\n",
    "plt.plot(imblearn_datasets, rend[0,:], label = 'SMOTE-Boost')\n",
    "plt.plot(imblearn_datasets, rend[1,:], label = 'RUS-Boost')\n",
    "plt.plot(imblearn_datasets, rend[2,:], label = 'Ada-Boost')\n",
    "plt.xticks(imblearn_datasets, size = 'small', rotation = 45)\n",
    "plt.legend(loc='upper right')\n",
    "plt.ylabel('Rendimiento')\n",
    "plt.xlabel('datasets')\n",
    "plt.show()\n",
    "\n",
    "print(\"Media del rendimiento para todos los datasets con SMOTEBoost: \",stats.mean(rend[0]))\n",
    "print(\"Media del rendimiento para todos los datasets con RUSBoost: \",stats.mean(rend[1]))\n",
    "print(\"Media del rendimiento para todos los datasets con AdaBoost: \",stats.mean(rend[2]))"
   ]
  },
  {
   "cell_type": "markdown",
   "metadata": {},
   "source": [
    "# ADA vs. RUS vs. SMOTE vs. SMOTETomek vs. SMOTEENN"
   ]
  },
  {
   "cell_type": "code",
   "execution_count": 10,
   "metadata": {},
   "outputs": [
    {
     "name": "stdout",
     "output_type": "stream",
     "text": [
      "ECOLI with adaboost\n",
      "Dataset of size (336, 7)\n",
      "There are 301 instances for the majoritary class\n",
      "There are 35 instanes for the minoritary class\n",
      "IR of the dataset:  8.6\n",
      "[75.59289460184544, 53.45224838248488, 69.69320524371696, 48.30458915396479, 75.59289460184544]\n",
      "Rendimiento del clasificador adaboost: 64.5271663967715\n",
      "Tiempo medio de entrenamiento: 0.015325164794921875\n",
      "\n",
      "OPTICAL_DIGITS with adaboost\n",
      "Dataset of size (5620, 64)\n",
      "There are 5066 instances for the majoritary class\n",
      "There are 554 instanes for the minoritary class\n",
      "IR of the dataset:  9.144404332129964\n",
      "[82.83353798577706, 85.95508552072386, 85.39662638543291, 84.43308197798834, 81.67688390300208]\n",
      "Rendimiento del clasificador adaboost: 84.05904315458484\n",
      "Tiempo medio de entrenamiento: 0.10294547080993652\n",
      "\n",
      "SATIMAGE with adaboost\n",
      "Dataset of size (6435, 36)\n",
      "There are 5809 instances for the majoritary class\n",
      "There are 626 instanes for the minoritary class\n",
      "IR of the dataset:  9.279552715654953\n",
      "[68.14785990000041, 37.46438354522076, 81.97812562443112, 62.87763709083991, 0.0]\n",
      "Rendimiento del clasificador adaboost: 50.09360123209844\n",
      "Tiempo medio de entrenamiento: 0.10654745101928711\n",
      "\n",
      "PEN_DIGITS with adaboost\n",
      "Dataset of size (10992, 16)\n",
      "There are 9937 instances for the majoritary class\n",
      "There are 1055 instanes for the minoritary class\n",
      "IR of the dataset:  9.418957345971563\n",
      "[79.53084131195848, 75.29966263205286, 76.67756284384643, 76.83293800387699, 79.45034510250986]\n",
      "Rendimiento del clasificador adaboost: 77.55826997884893\n",
      "Tiempo medio de entrenamiento: 0.10214505195617676\n",
      "\n",
      "ABALONE with adaboost\n",
      "Dataset of size (4177, 10)\n",
      "There are 3786 instances for the majoritary class\n",
      "There are 391 instanes for the minoritary class\n",
      "IR of the dataset:  9.682864450127877\n",
      "[0.0, 0.0, 0.0, 0.0, 0.0]\n",
      "Rendimiento del clasificador adaboost: 0.0\n",
      "Tiempo medio de entrenamiento: 0.04674172401428223\n",
      "\n",
      "SICK_EUTHYROID with adaboost\n",
      "Dataset of size (3163, 42)\n",
      "There are 2870 instances for the majoritary class\n",
      "There are 293 instanes for the minoritary class\n",
      "IR of the dataset:  9.795221843003413\n",
      "[94.495024377368, 85.67785993467557, 92.40482853009306, 89.54743570655504, 92.03533791020743]\n",
      "Rendimiento del clasificador adaboost: 90.83209729177982\n",
      "Tiempo medio de entrenamiento: 0.04674224853515625\n",
      "\n",
      "SPECTROMETER with adaboost\n",
      "Dataset of size (531, 93)\n",
      "There are 486 instances for the majoritary class\n",
      "There are 45 instanes for the minoritary class\n",
      "IR of the dataset:  10.8\n",
      "[81.23201004396181, 81.6496580927726, 93.79366108168786, 79.94843699109812, 65.62764204030879]\n",
      "Rendimiento del clasificador adaboost: 80.45028164996583\n",
      "Tiempo medio de entrenamiento: 0.11160759925842285\n",
      "\n",
      "CAR_EVAL_34 with adaboost\n",
      "Dataset of size (1728, 21)\n",
      "There are 1594 instances for the majoritary class\n",
      "There are 134 instanes for the minoritary class\n",
      "IR of the dataset:  11.895522388059701\n",
      "[63.82847385042254, 57.735026918962575, 67.67780740219332, 83.7970379766953, 90.24773730155408]\n",
      "Rendimiento del clasificador adaboost: 72.65721668996557\n",
      "Tiempo medio de entrenamiento: 0.019667863845825195\n",
      "\n",
      "ISOLET with adaboost\n",
      "Dataset of size (7797, 617)\n",
      "There are 7197 instances for the majoritary class\n",
      "There are 600 instanes for the minoritary class\n",
      "IR of the dataset:  11.995\n",
      "[75.63006946583751, 79.75657409336932, 73.99116889125288, 79.57933179315401, 76.43007677971521]\n",
      "Rendimiento del clasificador adaboost: 77.07744420466578\n",
      "Tiempo medio de entrenamiento: 6.138695430755615\n",
      "\n",
      "US_CRIME with adaboost\n",
      "Dataset of size (1994, 100)\n",
      "There are 1844 instances for the majoritary class\n",
      "There are 150 instanes for the minoritary class\n",
      "IR of the dataset:  12.293333333333333\n",
      "[59.1417081600042, 63.92746567171792, 60.223912215409584, 67.09887000476903, 44.10954742357989]\n",
      "Rendimiento del clasificador adaboost: 58.90030069509612\n",
      "Tiempo medio de entrenamiento: 0.10361313819885254\n",
      "\n",
      "YEAST_ML8 with adaboost\n",
      "Dataset of size (2417, 103)\n",
      "There are 2239 instances for the majoritary class\n",
      "There are 178 instanes for the minoritary class\n",
      "IR of the dataset:  12.57865168539326\n",
      "[0.0, 0.0, 0.0, 0.0, 0.0]\n",
      "Rendimiento del clasificador adaboost: 0.0\n",
      "Tiempo medio de entrenamiento: 0.4898838996887207\n",
      "\n",
      "SCENE with adaboost\n",
      "Dataset of size (2407, 294)\n",
      "There are 2230 instances for the majoritary class\n",
      "There are 177 instanes for the minoritary class\n",
      "IR of the dataset:  12.598870056497175\n",
      "[0.0, 23.30448782884155, 16.865143217106226, 0.0, 29.046341290163397]\n",
      "Rendimiento del clasificador adaboost: 13.843194467222235\n",
      "Tiempo medio de entrenamiento: 1.3240535259246826\n",
      "\n",
      "LIBRAS_MOVE with adaboost\n",
      "Dataset of size (360, 90)\n",
      "There are 336 instances for the majoritary class\n",
      "There are 24 instanes for the minoritary class\n",
      "IR of the dataset:  14.0\n",
      "[83.93316459780952, 63.245553203367585, 44.721359549995796, 76.87943653015435, 0.0]\n",
      "Rendimiento del clasificador adaboost: 53.75590277626545\n",
      "Tiempo medio de entrenamiento: 0.055372762680053714\n",
      "\n",
      "THYROID_SICK with adaboost\n",
      "Dataset of size (3772, 52)\n",
      "There are 3541 instances for the majoritary class\n",
      "There are 231 instanes for the minoritary class\n",
      "IR of the dataset:  15.329004329004329\n",
      "[80.18574744512986, 74.0082483228057, 89.11358289205138, 85.1184387317731, 75.96104963179704]\n",
      "Rendimiento del clasificador adaboost: 80.87741340471142\n",
      "Tiempo medio de entrenamiento: 0.04604473114013672\n",
      "\n",
      "COIL_2000 with adaboost\n",
      "Dataset of size (9822, 85)\n",
      "There are 9236 instances for the majoritary class\n",
      "There are 586 instanes for the minoritary class\n",
      "IR of the dataset:  15.761092150170649\n",
      "[0.0, 0.0, 9.239996498718089, 9.242500223597723, 13.070869166448265]\n",
      "Rendimiento del clasificador adaboost: 6.3106731777528156\n",
      "Tiempo medio de entrenamiento: 0.16871824264526367\n",
      "\n",
      "ARRHYTHMIA with adaboost\n",
      "Dataset of size (452, 278)\n",
      "There are 427 instances for the majoritary class\n",
      "There are 25 instanes for the minoritary class\n",
      "IR of the dataset:  17.08\n",
      "[76.55367474053136, 62.87677132370128, 62.49705875432201, 87.85013977691514, 77.00267375036975]\n",
      "Rendimiento del clasificador adaboost: 73.35606366916791\n",
      "Tiempo medio de entrenamiento: 0.062357854843139646\n",
      "\n",
      "SOLAR_FLARE_M0 with adaboost\n",
      "Dataset of size (1389, 32)\n",
      "There are 1321 instances for the majoritary class\n",
      "There are 68 instanes for the minoritary class\n",
      "IR of the dataset:  19.426470588235293\n",
      "[66.94667852012252, 26.522880753477807, 0.0, 0.0, 0.0]\n",
      "Rendimiento del clasificador adaboost: 18.693911854720064\n",
      "Tiempo medio de entrenamiento: 0.019594669342041016\n",
      "\n",
      "OIL with adaboost\n",
      "Dataset of size (937, 49)\n",
      "There are 896 instances for the majoritary class\n",
      "There are 41 instanes for the minoritary class\n",
      "IR of the dataset:  21.853658536585368\n",
      "[80.26956446571657, 50.0, 0.0, 34.85805213838952, 0.0]\n",
      "Rendimiento del clasificador adaboost: 33.025523320821215\n",
      "Tiempo medio de entrenamiento: 0.05300722122192383\n",
      "\n",
      "CAR_EVAL_4 with adaboost\n",
      "Dataset of size (1728, 21)\n",
      "There are 1663 instances for the majoritary class\n",
      "There are 65 instanes for the minoritary class\n",
      "IR of the dataset:  25.584615384615386\n",
      "[67.93662204867574, 67.93662204867574, 0.0, 97.86885742161317, 98.6352658162921]\n",
      "Rendimiento del clasificador adaboost: 66.47547346705136\n",
      "Tiempo medio de entrenamiento: 0.02026066780090332\n",
      "\n",
      "WINE_QUALITY with adaboost\n",
      "Dataset of size (4898, 11)\n",
      "There are 4715 instances for the majoritary class\n",
      "There are 183 instanes for the minoritary class\n",
      "IR of the dataset:  25.76502732240437\n",
      "[36.66314470714624, 23.187808691785822, 36.70221040251974, 40.73815202918409, 28.77552964582964]\n",
      "Rendimiento del clasificador adaboost: 33.2133690952931\n",
      "Tiempo medio de entrenamiento: 0.046561241149902344\n",
      "\n",
      "LETTER_IMG with adaboost\n",
      "Dataset of size (20000, 16)\n",
      "There are 19266 instances for the majoritary class\n",
      "There are 734 instanes for the minoritary class\n",
      "IR of the dataset:  26.247956403269754\n",
      "[86.89907845802145, 82.07088172356379, 87.23110907342186, 83.72910708985802, 88.65680772255664]\n",
      "Rendimiento del clasificador adaboost: 85.71739681348436\n",
      "Tiempo medio de entrenamiento: 0.12620749473571777\n",
      "\n",
      "YEAST_ME2 with adaboost\n",
      "Dataset of size (1484, 8)\n",
      "There are 1433 instances for the majoritary class\n",
      "There are 51 instanes for the minoritary class\n",
      "IR of the dataset:  28.098039215686274\n",
      "[69.96763811416862, 44.25141978863621, 44.48701020135037, 60.19675305358698, 75.54001394157739]\n",
      "Rendimiento del clasificador adaboost: 58.88856701986391\n",
      "Tiempo medio de entrenamiento: 0.020541000366210937\n",
      "\n",
      "OZONE_LEVEL with adaboost\n"
     ]
    },
    {
     "name": "stdout",
     "output_type": "stream",
     "text": [
      "Dataset of size (2536, 72)\n",
      "There are 2463 instances for the majoritary class\n",
      "There are 73 instanes for the minoritary class\n",
      "IR of the dataset:  33.73972602739726\n",
      "[36.47778506496024, 37.294787679532796, 46.29100498862757, 44.447831849231534, 25.688355317458324]\n",
      "Rendimiento del clasificador adaboost: 38.039952979962095\n",
      "Tiempo medio de entrenamiento: 0.13117594718933107\n",
      "\n",
      "MAMMOGRAPHY with adaboost\n",
      "Dataset of size (11183, 6)\n",
      "There are 10923 instances for the majoritary class\n",
      "There are 260 instanes for the minoritary class\n",
      "IR of the dataset:  42.011538461538464\n",
      "[73.22865689613238, 64.85057907262873, 69.2104744451828, 69.22631752068968, 74.30171788297136]\n",
      "Rendimiento del clasificador adaboost: 70.16354916352098\n",
      "Tiempo medio de entrenamiento: 0.07352395057678222\n",
      "\n",
      "ABALONE_19 with adaboost\n",
      "Dataset of size (4177, 10)\n",
      "There are 4145 instances for the majoritary class\n",
      "There are 32 instanes for the minoritary class\n",
      "IR of the dataset:  129.53125\n",
      "[0.0, 0.0, 0.0, 0.0, 0.0]\n",
      "Rendimiento del clasificador adaboost: 0.0\n",
      "Tiempo medio de entrenamiento: 0.0428565502166748\n",
      "\n",
      "ECOLI with RUSBoost\n",
      "Dataset of size (336, 7)\n",
      "There are 301 instances for the majoritary class\n",
      "There are 35 instanes for the minoritary class\n",
      "IR of the dataset:  8.6\n",
      "[100.0, 92.58200997725514, 84.65616732800197, 66.90433824641325, 79.43251103624894]\n",
      "Rendimiento del clasificador RUSBoost: 84.71500531758386\n",
      "Tiempo medio de entrenamiento: 0.03203239440917969\n",
      "\n",
      "OPTICAL_DIGITS with RUSBoost\n",
      "Dataset of size (5620, 64)\n",
      "There are 5066 instances for the majoritary class\n",
      "There are 554 instanes for the minoritary class\n",
      "IR of the dataset:  9.144404332129964\n",
      "[90.63658278017249, 87.98389986548553, 91.5776794187055, 86.23295884582541, 83.64575073817191]\n",
      "Rendimiento del clasificador RUSBoost: 88.01537432967217\n",
      "Tiempo medio de entrenamiento: 0.06537833213806152\n",
      "\n",
      "SATIMAGE with RUSBoost\n",
      "Dataset of size (6435, 36)\n",
      "There are 5809 instances for the majoritary class\n",
      "There are 626 instanes for the minoritary class\n",
      "IR of the dataset:  9.279552715654953\n",
      "[80.62748748647759, 69.66257499232354, 90.86503391835889, 84.65460858023404, 87.00633541382918]\n",
      "Rendimiento del clasificador RUSBoost: 82.56320807824464\n",
      "Tiempo medio de entrenamiento: 0.0667679786682129\n",
      "\n",
      "PEN_DIGITS with RUSBoost\n",
      "Dataset of size (10992, 16)\n",
      "There are 9937 instances for the majoritary class\n",
      "There are 1055 instanes for the minoritary class\n",
      "IR of the dataset:  9.418957345971563\n",
      "[92.39487700539823, 91.57265022065954, 91.14185673561647, 90.83777882566854, 90.01216752929743]\n",
      "Rendimiento del clasificador RUSBoost: 91.19186606332804\n",
      "Tiempo medio de entrenamiento: 0.07727365493774414\n",
      "\n",
      "ABALONE with RUSBoost\n",
      "Dataset of size (4177, 10)\n",
      "There are 3786 instances for the majoritary class\n",
      "There are 391 instanes for the minoritary class\n",
      "IR of the dataset:  9.682864450127877\n",
      "[73.35227412522669, 76.91178260337577, 78.06013591210301, 79.01435287701287, 79.04221218511339]\n",
      "Rendimiento del clasificador RUSBoost: 77.27615154056635\n",
      "Tiempo medio de entrenamiento: 0.04191303253173828\n",
      "\n",
      "SICK_EUTHYROID with RUSBoost\n",
      "Dataset of size (3163, 42)\n",
      "There are 2870 instances for the majoritary class\n",
      "There are 293 instanes for the minoritary class\n",
      "IR of the dataset:  9.795221843003413\n",
      "[94.07222572694621, 86.56929023988845, 92.39683938674533, 90.94864954742089, 94.01308254714138]\n",
      "Rendimiento del clasificador RUSBoost: 91.60001748962846\n",
      "Tiempo medio de entrenamiento: 0.0395808219909668\n",
      "\n",
      "SPECTROMETER with RUSBoost\n",
      "Dataset of size (531, 93)\n",
      "There are 486 instances for the majoritary class\n",
      "There are 45 instanes for the minoritary class\n",
      "IR of the dataset:  10.8\n",
      "[84.51542547285166, 86.81720998511231, 57.735026918962575, 91.31845766434479, 63.858377095843935]\n",
      "Rendimiento del clasificador RUSBoost: 76.84889942742305\n",
      "Tiempo medio de entrenamiento: 0.038195228576660155\n",
      "\n",
      "CAR_EVAL_34 with RUSBoost\n",
      "Dataset of size (1728, 21)\n",
      "There are 1594 instances for the majoritary class\n",
      "There are 134 instanes for the minoritary class\n",
      "IR of the dataset:  11.895522388059701\n",
      "[81.6496580927726, 92.29582069908973, 89.05635565617213, 88.17196079733282, 90.24773730155408]\n",
      "Rendimiento del clasificador RUSBoost: 88.28430650938427\n",
      "Tiempo medio de entrenamiento: 0.028900957107543944\n",
      "\n",
      "ISOLET with RUSBoost\n",
      "Dataset of size (7797, 617)\n",
      "There are 7197 instances for the majoritary class\n",
      "There are 600 instanes for the minoritary class\n",
      "IR of the dataset:  11.995\n",
      "[83.29269842615925, 85.10138289340762, 89.23237097404854, 90.12191572659842, 93.38157279461271]\n",
      "Rendimiento del clasificador RUSBoost: 88.22598816296531\n",
      "Tiempo medio de entrenamiento: 1.2484718322753907\n",
      "\n",
      "US_CRIME with RUSBoost\n",
      "Dataset of size (1994, 100)\n",
      "There are 1844 instances for the majoritary class\n",
      "There are 150 instanes for the minoritary class\n",
      "IR of the dataset:  12.293333333333333\n",
      "[74.47497654842185, 74.55377644798301, 31.234752377721215, 79.21247426696208, 81.00925873009825]\n",
      "Rendimiento del clasificador RUSBoost: 68.09704767423727\n",
      "Tiempo medio de entrenamiento: 0.05717597007751465\n",
      "\n",
      "YEAST_ML8 with RUSBoost\n",
      "Dataset of size (2417, 103)\n",
      "There are 2239 instances for the majoritary class\n",
      "There are 178 instanes for the minoritary class\n",
      "IR of the dataset:  12.57865168539326\n",
      "[41.7410051141142, 47.60509468200373, 51.328026715729216, 51.234753829797995, 52.308146425302695]\n",
      "Rendimiento del clasificador RUSBoost: 48.84340535338957\n",
      "Tiempo medio de entrenamiento: 0.10226221084594726\n",
      "\n",
      "SCENE with RUSBoost\n",
      "Dataset of size (2407, 294)\n",
      "There are 2230 instances for the majoritary class\n",
      "There are 177 instanes for the minoritary class\n",
      "IR of the dataset:  12.598870056497175\n",
      "[51.364054247687086, 66.42332269397566, 60.03949159452379, 64.80641848614937, 68.09384186876541]\n",
      "Rendimiento del clasificador RUSBoost: 62.145425778220265\n",
      "Tiempo medio de entrenamiento: 0.2548229217529297\n",
      "\n",
      "LIBRAS_MOVE with RUSBoost\n",
      "Dataset of size (360, 90)\n",
      "There are 336 instances for the majoritary class\n",
      "There are 24 instanes for the minoritary class\n",
      "IR of the dataset:  14.0\n",
      "[83.93316459780952, 75.70563574518141, 73.9099896303888, 0.0, 44.55663943395034]\n",
      "Rendimiento del clasificador RUSBoost: 55.621085881466016\n",
      "Tiempo medio de entrenamiento: 0.04597492218017578\n",
      "\n",
      "THYROID_SICK with RUSBoost\n",
      "Dataset of size (3772, 52)\n",
      "There are 3541 instances for the majoritary class\n",
      "There are 231 instanes for the minoritary class\n",
      "IR of the dataset:  15.329004329004329\n",
      "[93.77673572699533, 85.77093589278101, 94.40403767141625, 93.06590454642593, 92.39704780795566]\n",
      "Rendimiento del clasificador RUSBoost: 91.88293232911484\n",
      "Tiempo medio de entrenamiento: 0.06108026504516602\n",
      "\n",
      "COIL_2000 with RUSBoost\n",
      "Dataset of size (9822, 85)\n",
      "There are 9236 instances for the majoritary class\n",
      "There are 586 instanes for the minoritary class\n",
      "IR of the dataset:  15.761092150170649\n",
      "[66.89936080056727, 67.45116077478798, 67.0563210463636, 63.04196667085071, 65.03137850375046]\n",
      "Rendimiento del clasificador RUSBoost: 65.896037559264\n",
      "Tiempo medio de entrenamiento: 0.09588322639465333\n",
      "\n",
      "ARRHYTHMIA with RUSBoost\n",
      "Dataset of size (452, 278)\n",
      "There are 427 instances for the majoritary class\n",
      "There are 25 instanes for the minoritary class\n",
      "IR of the dataset:  17.08\n",
      "[98.83036912035246, 97.6467291870559, 86.77218312746247, 87.85013977691514, 88.38418809879035]\n",
      "Rendimiento del clasificador RUSBoost: 91.89672186211526\n",
      "Tiempo medio de entrenamiento: 0.05662627220153808\n",
      "\n",
      "SOLAR_FLARE_M0 with RUSBoost\n",
      "Dataset of size (1389, 32)\n",
      "There are 1321 instances for the majoritary class\n",
      "There are 68 instanes for the minoritary class\n",
      "IR of the dataset:  19.426470588235293\n",
      "[49.1436093467161, 63.386569104638745, 70.36546526030153, 0.0, 62.5786218774744]\n",
      "Rendimiento del clasificador RUSBoost: 49.094853117826155\n",
      "Tiempo medio de entrenamiento: 0.02818408012390137\n",
      "\n",
      "OIL with RUSBoost\n",
      "Dataset of size (937, 49)\n",
      "There are 896 instances for the majoritary class\n",
      "There are 41 instanes for the minoritary class\n",
      "IR of the dataset:  21.853658536585368\n",
      "[90.92940352042899, 60.66758241067098, 76.36102138258877, 79.804229736267, 50.0]\n",
      "Rendimiento del clasificador RUSBoost: 71.55244740999115\n",
      "Tiempo medio de entrenamiento: 0.03697891235351562\n",
      "\n",
      "CAR_EVAL_4 with RUSBoost\n",
      "Dataset of size (1728, 21)\n",
      "There are 1663 instances for the majoritary class\n",
      "There are 65 instanes for the minoritary class\n",
      "IR of the dataset:  25.584615384615386\n",
      "[88.0344123059713, 100.0, 0.0, 97.25138212540327, 98.6352658162921]\n",
      "Rendimiento del clasificador RUSBoost: 76.78421204953334\n",
      "Tiempo medio de entrenamiento: 0.028499507904052736\n",
      "\n",
      "WINE_QUALITY with RUSBoost\n"
     ]
    },
    {
     "name": "stdout",
     "output_type": "stream",
     "text": [
      "Dataset of size (4898, 11)\n",
      "There are 4715 instances for the majoritary class\n",
      "There are 183 instanes for the minoritary class\n",
      "IR of the dataset:  25.76502732240437\n",
      "[45.30333027778552, 77.44745570201108, 66.5782375699562, 46.78921444048888, 70.43101494475447]\n",
      "Rendimiento del clasificador RUSBoost: 61.30985058699923\n",
      "Tiempo medio de entrenamiento: 0.047325515747070314\n",
      "\n",
      "LETTER_IMG with RUSBoost\n",
      "Dataset of size (20000, 16)\n",
      "There are 19266 instances for the majoritary class\n",
      "There are 734 instanes for the minoritary class\n",
      "IR of the dataset:  26.247956403269754\n",
      "[95.18433997457022, 94.30630654761299, 94.50025009565647, 95.42428625378288, 94.47586540525496]\n",
      "Rendimiento del clasificador RUSBoost: 94.7782096553755\n",
      "Tiempo medio de entrenamiento: 0.11191754341125489\n",
      "\n",
      "YEAST_ME2 with RUSBoost\n",
      "Dataset of size (1484, 8)\n",
      "There are 1433 instances for the majoritary class\n",
      "There are 51 instanes for the minoritary class\n",
      "IR of the dataset:  28.098039215686274\n",
      "[27.050089040022968, 63.43808196897538, 82.8078671210825, 51.30217871596147, 70.83419031430032]\n",
      "Rendimiento del clasificador RUSBoost: 59.086481432068524\n",
      "Tiempo medio de entrenamiento: 0.028000593185424805\n",
      "\n",
      "OZONE_LEVEL with RUSBoost\n",
      "Dataset of size (2536, 72)\n",
      "There are 2463 instances for the majoritary class\n",
      "There are 73 instanes for the minoritary class\n",
      "IR of the dataset:  33.73972602739726\n",
      "[73.92227703876787, 68.98905712428393, 84.12021037932877, 75.16017223579856, 73.98820678018508]\n",
      "Rendimiento del clasificador RUSBoost: 75.23598471167284\n",
      "Tiempo medio de entrenamiento: 0.057614374160766604\n",
      "\n",
      "MAMMOGRAPHY with RUSBoost\n",
      "Dataset of size (11183, 6)\n",
      "There are 10923 instances for the majoritary class\n",
      "There are 260 instanes for the minoritary class\n",
      "IR of the dataset:  42.011538461538464\n",
      "[70.54868322517078, 87.06624832017229, 87.65360445657605, 82.04126541423669, 80.97936210234828]\n",
      "Rendimiento del clasificador RUSBoost: 81.65783270370082\n",
      "Tiempo medio de entrenamiento: 0.0697852611541748\n",
      "\n",
      "ABALONE_19 with RUSBoost\n",
      "Dataset of size (4177, 10)\n",
      "There are 4145 instances for the majoritary class\n",
      "There are 32 instanes for the minoritary class\n",
      "IR of the dataset:  129.53125\n",
      "[0.0, 67.5766489325871, 46.120068470479886, 81.88324187254496, 83.78846361223839]\n",
      "Rendimiento del clasificador RUSBoost: 55.87368457757007\n",
      "Tiempo medio de entrenamiento: 0.03728618621826172\n",
      "\n",
      "ECOLI with SMOTEBoost\n",
      "Dataset of size (336, 7)\n",
      "There are 301 instances for the majoritary class\n",
      "There are 35 instanes for the minoritary class\n",
      "IR of the dataset:  8.6\n",
      "[100.0, 92.58200997725514, 81.94074514114278, 57.32115042211109, 74.96030695673291]\n",
      "Rendimiento del clasificador SMOTEBoost: 81.36084249944838\n",
      "Tiempo medio de entrenamiento: 0.03881707191467285\n",
      "\n",
      "OPTICAL_DIGITS with SMOTEBoost\n",
      "Dataset of size (5620, 64)\n",
      "There are 5066 instances for the majoritary class\n",
      "There are 554 instanes for the minoritary class\n",
      "IR of the dataset:  9.144404332129964\n",
      "[91.9871084200078, 92.34168618099892, 92.79323746147114, 90.79745067844793, 84.4157006249]\n",
      "Rendimiento del clasificador SMOTEBoost: 90.46703667316515\n",
      "Tiempo medio de entrenamiento: 0.7187304496765137\n",
      "\n",
      "SATIMAGE with SMOTEBoost\n",
      "Dataset of size (6435, 36)\n",
      "There are 5809 instances for the majoritary class\n",
      "There are 626 instanes for the minoritary class\n",
      "IR of the dataset:  9.279552715654953\n",
      "[85.72581678030605, 60.7072487569245, 92.7202221034824, 83.43527900793842, 85.6901856935978]\n",
      "Rendimiento del clasificador SMOTEBoost: 81.65575046844984\n",
      "Tiempo medio de entrenamiento: 0.6746616840362549\n",
      "\n",
      "PEN_DIGITS with SMOTEBoost\n",
      "Dataset of size (10992, 16)\n",
      "There are 9937 instances for the majoritary class\n",
      "There are 1055 instanes for the minoritary class\n",
      "IR of the dataset:  9.418957345971563\n",
      "[88.09029819477144, 85.03033694151257, 85.00376252534066, 83.44392794550657, 85.44246474316546]\n",
      "Rendimiento del clasificador SMOTEBoost: 85.40215807005934\n",
      "Tiempo medio de entrenamiento: 0.5287342071533203\n",
      "\n",
      "ABALONE with SMOTEBoost\n",
      "Dataset of size (4177, 10)\n",
      "There are 3786 instances for the majoritary class\n",
      "There are 391 instanes for the minoritary class\n",
      "IR of the dataset:  9.682864450127877\n",
      "[78.92043558697117, 77.75506763301617, 80.79475163070916, 78.79542262184954, 78.06013591210301]\n",
      "Rendimiento del clasificador SMOTEBoost: 78.86516267692981\n",
      "Tiempo medio de entrenamiento: 0.14765233993530275\n",
      "\n",
      "SICK_EUTHYROID with SMOTEBoost\n",
      "Dataset of size (3163, 42)\n",
      "There are 2870 instances for the majoritary class\n",
      "There are 293 instanes for the minoritary class\n",
      "IR of the dataset:  9.795221843003413\n",
      "[96.05703142655419, 91.58634625344278, 93.6159817889025, 89.07321823857689, 94.58802328384098]\n",
      "Rendimiento del clasificador SMOTEBoost: 92.98412019826347\n",
      "Tiempo medio de entrenamiento: 0.14677829742431642\n",
      "\n",
      "SPECTROMETER with SMOTEBoost\n",
      "Dataset of size (531, 93)\n",
      "There are 486 instances for the majoritary class\n",
      "There are 45 instanes for the minoritary class\n",
      "IR of the dataset:  10.8\n",
      "[91.84429296183767, 85.88865697797326, 98.44146306046318, 92.31650323620067, 79.51744497267764]\n",
      "Rendimiento del clasificador SMOTEBoost: 89.60167224183049\n",
      "Tiempo medio de entrenamiento: 0.21603407859802246\n",
      "\n",
      "CAR_EVAL_34 with SMOTEBoost\n",
      "Dataset of size (1728, 21)\n",
      "There are 1594 instances for the majoritary class\n",
      "There are 134 instanes for the minoritary class\n",
      "IR of the dataset:  11.895522388059701\n",
      "[100.0, 100.0, 70.07981716050449, 83.7970379766953, 49.842519293869444]\n",
      "Rendimiento del clasificador SMOTEBoost: 80.74387488621385\n",
      "Tiempo medio de entrenamiento: 0.057257890701293945\n",
      "\n",
      "ISOLET with SMOTEBoost\n",
      "Dataset of size (7797, 617)\n",
      "There are 7197 instances for the majoritary class\n",
      "There are 600 instanes for the minoritary class\n",
      "IR of the dataset:  11.995\n",
      "[90.20135654313755, 90.8180415262665, 89.98043696475277, 88.99354891732152, 91.68335392575011]\n",
      "Rendimiento del clasificador SMOTEBoost: 90.3353475754457\n",
      "Tiempo medio de entrenamiento: 17.127019453048707\n",
      "\n",
      "US_CRIME with SMOTEBoost\n",
      "Dataset of size (1994, 100)\n",
      "There are 1844 instances for the majoritary class\n",
      "There are 150 instanes for the minoritary class\n",
      "IR of the dataset:  12.293333333333333\n",
      "[74.83797614776475, 76.68610570102041, 87.7707451472511, 82.7704567432432, 83.53598547671068]\n",
      "Rendimiento del clasificador SMOTEBoost: 81.12025384319803\n",
      "Tiempo medio de entrenamiento: 0.4801796436309814\n",
      "\n",
      "YEAST_ML8 with SMOTEBoost\n",
      "Dataset of size (2417, 103)\n",
      "There are 2239 instances for the majoritary class\n",
      "There are 178 instanes for the minoritary class\n",
      "IR of the dataset:  12.57865168539326\n",
      "[57.00006961844816, 51.94624816493197, 53.35671256280885, 48.86466107567735, 56.075124497165476]\n",
      "Rendimiento del clasificador SMOTEBoost: 53.448563183806364\n",
      "Tiempo medio de entrenamiento: 1.0000969409942626\n",
      "\n",
      "SCENE with SMOTEBoost\n",
      "Dataset of size (2407, 294)\n",
      "There are 2230 instances for the majoritary class\n",
      "There are 177 instanes for the minoritary class\n",
      "IR of the dataset:  12.598870056497175\n",
      "[51.94282242231177, 68.76372898205629, 54.567192298452774, 71.98120617411595, 70.79669261213708]\n",
      "Rendimiento del clasificador SMOTEBoost: 63.61032849781478\n",
      "Tiempo medio de entrenamiento: 2.7936473846435548\n",
      "\n",
      "LIBRAS_MOVE with SMOTEBoost\n",
      "Dataset of size (360, 90)\n",
      "There are 336 instances for the majoritary class\n",
      "There are 24 instanes for the minoritary class\n",
      "IR of the dataset:  14.0\n",
      "[88.09763918432064, 77.45966692414834, 73.9099896303888, 76.87943653015435, 99.26198253344826]\n",
      "Rendimiento del clasificador SMOTEBoost: 83.12174296049207\n",
      "Tiempo medio de entrenamiento: 0.12516498565673828\n",
      "\n",
      "THYROID_SICK with SMOTEBoost\n",
      "Dataset of size (3772, 52)\n",
      "There are 3541 instances for the majoritary class\n",
      "There are 231 instanes for the minoritary class\n",
      "IR of the dataset:  15.329004329004329\n",
      "[88.28823276013358, 85.665759966165, 94.82268290767708, 95.35387039528777, 93.09229499202837]\n",
      "Rendimiento del clasificador SMOTEBoost: 91.44456820425836\n",
      "Tiempo medio de entrenamiento: 0.19570837020874024\n",
      "\n",
      "COIL_2000 with SMOTEBoost\n",
      "Dataset of size (9822, 85)\n",
      "There are 9236 instances for the majoritary class\n",
      "There are 586 instanes for the minoritary class\n",
      "IR of the dataset:  15.761092150170649\n",
      "[62.85626620242568, 63.68532928949193, 65.51417295845707, 60.48177922300771, 65.58159345445175]\n",
      "Rendimiento del clasificador SMOTEBoost: 63.623828225566825\n",
      "Tiempo medio de entrenamiento: 1.1304245948791505\n",
      "\n",
      "ARRHYTHMIA with SMOTEBoost\n",
      "Dataset of size (452, 278)\n",
      "There are 427 instances for the majoritary class\n",
      "There are 25 instanes for the minoritary class\n",
      "IR of the dataset:  17.08\n"
     ]
    },
    {
     "name": "stdout",
     "output_type": "stream",
     "text": [
      "[98.83036912035246, 76.55367474053136, 76.54295218641468, 97.61870601839527, 88.38418809879035]\n",
      "Rendimiento del clasificador SMOTEBoost: 87.58597803289682\n",
      "Tiempo medio de entrenamiento: 0.20083513259887695\n",
      "\n",
      "SOLAR_FLARE_M0 with SMOTEBoost\n",
      "Dataset of size (1389, 32)\n",
      "There are 1321 instances for the majoritary class\n",
      "There are 68 instanes for the minoritary class\n",
      "IR of the dataset:  19.426470588235293\n",
      "[52.70615753486479, 51.6240572799474, 82.915619758885, 57.922174984873934, 58.01193511153214]\n",
      "Rendimiento del clasificador SMOTEBoost: 60.63598893402065\n",
      "Tiempo medio de entrenamiento: 0.058755111694335935\n",
      "\n",
      "OIL with SMOTEBoost\n",
      "Dataset of size (937, 49)\n",
      "There are 896 instances for the majoritary class\n",
      "There are 41 instanes for the minoritary class\n",
      "IR of the dataset:  21.853658536585368\n",
      "[83.64003152049769, 57.735026918962575, 61.40805908568021, 64.0792107582221, 35.35533905932738]\n",
      "Rendimiento del clasificador SMOTEBoost: 60.44353346853799\n",
      "Tiempo medio de entrenamiento: 0.1475292205810547\n",
      "\n",
      "CAR_EVAL_4 with SMOTEBoost\n",
      "Dataset of size (1728, 21)\n",
      "There are 1663 instances for the majoritary class\n",
      "There are 65 instanes for the minoritary class\n",
      "IR of the dataset:  25.584615384615386\n",
      "[100.0, 100.0, 0.0, 97.25138212540327, 71.76769753613776]\n",
      "Rendimiento del clasificador SMOTEBoost: 73.80381593230821\n",
      "Tiempo medio de entrenamiento: 0.05397820472717285\n",
      "\n",
      "WINE_QUALITY with SMOTEBoost\n",
      "Dataset of size (4898, 11)\n",
      "There are 4715 instances for the majoritary class\n",
      "There are 183 instanes for the minoritary class\n",
      "IR of the dataset:  25.76502732240437\n",
      "[74.01875952699883, 75.7487251681016, 58.16694936518781, 73.56097576602568, 72.8810888813495]\n",
      "Rendimiento del clasificador SMOTEBoost: 70.87529974153269\n",
      "Tiempo medio de entrenamiento: 0.1806734561920166\n",
      "\n",
      "LETTER_IMG with SMOTEBoost\n",
      "Dataset of size (20000, 16)\n",
      "There are 19266 instances for the majoritary class\n",
      "There are 734 instanes for the minoritary class\n",
      "IR of the dataset:  26.247956403269754\n",
      "[93.66413541985649, 93.68984887726552, 91.99411372578037, 93.50961362204005, 93.42092477855654]\n",
      "Rendimiento del clasificador SMOTEBoost: 93.25572728469979\n",
      "Tiempo medio de entrenamiento: 0.5568482398986816\n",
      "\n",
      "YEAST_ME2 with SMOTEBoost\n",
      "Dataset of size (1484, 8)\n",
      "There are 1433 instances for the majoritary class\n",
      "There are 51 instanes for the minoritary class\n",
      "IR of the dataset:  28.098039215686274\n",
      "[79.78629994263792, 76.02951929926986, 80.54691103977099, 65.62816910278583, 88.69685939836239]\n",
      "Rendimiento del clasificador SMOTEBoost: 78.1375517565654\n",
      "Tiempo medio de entrenamiento: 0.05328812599182129\n",
      "\n",
      "OZONE_LEVEL with SMOTEBoost\n",
      "Dataset of size (2536, 72)\n",
      "There are 2463 instances for the majoritary class\n",
      "There are 73 instanes for the minoritary class\n",
      "IR of the dataset:  33.73972602739726\n",
      "[74.25082211112883, 77.16732282117867, 82.49408362829057, 79.59075541093618, 64.2340739807355]\n",
      "Rendimiento del clasificador SMOTEBoost: 75.54741159045395\n",
      "Tiempo medio de entrenamiento: 0.5149723529815674\n",
      "\n",
      "MAMMOGRAPHY with SMOTEBoost\n",
      "Dataset of size (11183, 6)\n",
      "There are 10923 instances for the majoritary class\n",
      "There are 260 instanes for the minoritary class\n",
      "IR of the dataset:  42.011538461538464\n",
      "[84.64178429923076, 84.22482716098314, 80.2785153584946, 83.41113584179023, 89.0112716497118]\n",
      "Rendimiento del clasificador SMOTEBoost: 84.3135068620421\n",
      "Tiempo medio de entrenamiento: 0.24835057258605958\n",
      "\n",
      "ABALONE_19 with SMOTEBoost\n",
      "Dataset of size (4177, 10)\n",
      "There are 4145 instances for the majoritary class\n",
      "There are 32 instanes for the minoritary class\n",
      "IR of the dataset:  129.53125\n",
      "[78.8291013985078, 73.61800422633836, 62.564803557188434, 59.349103139186646, 72.96357414760081]\n",
      "Rendimiento del clasificador SMOTEBoost: 69.46491729376442\n",
      "Tiempo medio de entrenamiento: 0.13212385177612304\n",
      "\n",
      "ECOLI with SMOTETomekBoost\n",
      "Dataset of size (336, 7)\n",
      "There are 301 instances for the majoritary class\n",
      "There are 35 instanes for the minoritary class\n",
      "IR of the dataset:  8.6\n",
      "[100.0, 100.0, 82.8078671210825, 70.71067811865474, 83.80817098475258]\n",
      "Rendimiento del clasificador SMOTETomekBoost: 87.46534324489797\n",
      "Tiempo medio de entrenamiento: 0.061606979370117186\n",
      "\n",
      "OPTICAL_DIGITS with SMOTETomekBoost\n",
      "Dataset of size (5620, 64)\n",
      "There are 5066 instances for the majoritary class\n",
      "There are 554 instanes for the minoritary class\n",
      "IR of the dataset:  9.144404332129964\n",
      "[89.75890645184197, 89.91901885127118, 92.39079104284814, 90.29358126844488, 83.84645877544413]\n",
      "Rendimiento del clasificador SMOTETomekBoost: 89.24175127797005\n",
      "Tiempo medio de entrenamiento: 47.44120531082153\n",
      "\n",
      "SATIMAGE with SMOTETomekBoost\n",
      "Dataset of size (6435, 36)\n",
      "There are 5809 instances for the majoritary class\n",
      "There are 626 instanes for the minoritary class\n",
      "IR of the dataset:  9.279552715654953\n",
      "[82.90134733950758, 64.02237130518304, 91.26308172562726, 85.00966837794425, 86.26621856275072]\n",
      "Rendimiento del clasificador SMOTETomekBoost: 81.89253746220257\n",
      "Tiempo medio de entrenamiento: 8.906692838668823\n",
      "\n",
      "PEN_DIGITS with SMOTETomekBoost\n",
      "Dataset of size (10992, 16)\n",
      "There are 9937 instances for the majoritary class\n",
      "There are 1055 instanes for the minoritary class\n",
      "IR of the dataset:  9.418957345971563\n",
      "[88.83731225166045, 87.74551969232867, 86.03875347294283, 86.54044625390495, 84.27006434392354]\n",
      "Rendimiento del clasificador SMOTETomekBoost: 86.68641920295208\n",
      "Tiempo medio de entrenamiento: 5.3734602451324465\n",
      "\n",
      "ABALONE with SMOTETomekBoost\n",
      "Dataset of size (4177, 10)\n",
      "There are 3786 instances for the majoritary class\n",
      "There are 391 instanes for the minoritary class\n",
      "IR of the dataset:  9.682864450127877\n",
      "[78.75953748772973, 76.6504438164843, 76.13250900199151, 77.97873336643259, 79.0689907244137]\n",
      "Rendimiento del clasificador SMOTETomekBoost: 77.71804287941036\n",
      "Tiempo medio de entrenamiento: 1.1437432765960693\n",
      "\n",
      "SICK_EUTHYROID with SMOTETomekBoost\n",
      "Dataset of size (3163, 42)\n",
      "There are 2870 instances for the majoritary class\n",
      "There are 293 instanes for the minoritary class\n",
      "IR of the dataset:  9.795221843003413\n",
      "[95.36596467219644, 91.09820984133546, 92.62027491378345, 90.44525209261323, 92.2390913982659]\n",
      "Rendimiento del clasificador SMOTETomekBoost: 92.35375858363889\n",
      "Tiempo medio de entrenamiento: 1.459604835510254\n",
      "\n",
      "SPECTROMETER with SMOTETomekBoost\n",
      "Dataset of size (531, 93)\n",
      "There are 486 instances for the majoritary class\n",
      "There are 45 instanes for the minoritary class\n",
      "IR of the dataset:  10.8\n",
      "[89.84743935292003, 93.30387360299768, 96.32419486019033, 57.13672033812024, 80.37711801039123]\n",
      "Rendimiento del clasificador SMOTETomekBoost: 83.39786923292391\n",
      "Tiempo medio de entrenamiento: 0.4769768238067627\n",
      "\n",
      "CAR_EVAL_34 with SMOTETomekBoost\n",
      "Dataset of size (1728, 21)\n",
      "There are 1594 instances for the majoritary class\n",
      "There are 134 instanes for the minoritary class\n",
      "IR of the dataset:  11.895522388059701\n",
      "[100.0, 100.0, 69.53929433351414, 46.84396830725552, 60.13611395208258]\n",
      "Rendimiento del clasificador SMOTETomekBoost: 75.30387531857045\n",
      "Tiempo medio de entrenamiento: 1.3195059299468994\n",
      "\n",
      "ISOLET with SMOTETomekBoost\n",
      "Dataset of size (7797, 617)\n",
      "There are 7197 instances for the majoritary class\n",
      "There are 600 instanes for the minoritary class\n",
      "IR of the dataset:  11.995\n",
      "[90.79892314584157, 91.6515138991168, 90.6105586450397, 88.82419852805333, 91.48986888398419]\n",
      "Rendimiento del clasificador SMOTETomekBoost: 90.67501262040712\n",
      "Tiempo medio de entrenamiento: 890.9401989459991\n",
      "\n",
      "US_CRIME with SMOTETomekBoost\n",
      "Dataset of size (1994, 100)\n",
      "There are 1844 instances for the majoritary class\n",
      "There are 150 instanes for the minoritary class\n",
      "IR of the dataset:  12.293333333333333\n",
      "[69.44092131984476, 79.34351236194135, 84.20948627703685, 85.190683613443, 83.1447140728794]\n",
      "Rendimiento del clasificador SMOTETomekBoost: 80.26586352902908\n",
      "Tiempo medio de entrenamiento: 7.4763774394989015\n",
      "\n",
      "YEAST_ML8 with SMOTETomekBoost\n",
      "Dataset of size (2417, 103)\n",
      "There are 2239 instances for the majoritary class\n",
      "There are 178 instanes for the minoritary class\n",
      "IR of the dataset:  12.57865168539326\n",
      "[55.979286843935014, 49.90069503603497, 54.104490741225405, 53.332801868100276, 53.75532160673953]\n",
      "Rendimiento del clasificador SMOTETomekBoost: 53.41451921920704\n",
      "Tiempo medio de entrenamiento: 16.97675938606262\n",
      "\n",
      "SCENE with SMOTETomekBoost\n",
      "Dataset of size (2407, 294)\n",
      "There are 2230 instances for the majoritary class\n",
      "There are 177 instanes for the minoritary class\n",
      "IR of the dataset:  12.598870056497175\n"
     ]
    },
    {
     "name": "stdout",
     "output_type": "stream",
     "text": [
      "[52.69871874769093, 69.6993329269612, 58.570412953492145, 62.506886231785195, 64.42969142974552]\n",
      "Rendimiento del clasificador SMOTETomekBoost: 61.581008457935\n",
      "Tiempo medio de entrenamiento: 51.11591067314148\n",
      "\n",
      "LIBRAS_MOVE with SMOTETomekBoost\n",
      "Dataset of size (360, 90)\n",
      "There are 336 instances for the majoritary class\n",
      "There are 24 instanes for the minoritary class\n",
      "IR of the dataset:  14.0\n",
      "[88.77272675166272, 77.45966692414834, 84.6414739030318, 76.87943653015435, 95.4863710632231]\n",
      "Rendimiento del clasificador SMOTETomekBoost: 84.64793503444406\n",
      "Tiempo medio de entrenamiento: 0.3356799602508545\n",
      "\n",
      "THYROID_SICK with SMOTETomekBoost\n",
      "Dataset of size (3772, 52)\n",
      "There are 3541 instances for the majoritary class\n",
      "There are 231 instanes for the minoritary class\n",
      "IR of the dataset:  15.329004329004329\n",
      "[89.37550347728873, 85.6008370618289, 92.7105542432542, 95.13303720511766, 93.06590454642593]\n",
      "Rendimiento del clasificador SMOTETomekBoost: 91.17716730678308\n",
      "Tiempo medio de entrenamiento: 2.6808220863342287\n",
      "\n",
      "COIL_2000 with SMOTETomekBoost\n",
      "Dataset of size (9822, 85)\n",
      "There are 9236 instances for the majoritary class\n",
      "There are 586 instanes for the minoritary class\n",
      "IR of the dataset:  15.761092150170649\n",
      "[63.06562238868912, 60.157492913517366, 65.99273427120166, 61.5631559113616, 63.83560253324742]\n",
      "Rendimiento del clasificador SMOTETomekBoost: 62.922921603603434\n",
      "Tiempo medio de entrenamiento: 48.587985563278195\n",
      "\n",
      "ARRHYTHMIA with SMOTETomekBoost\n",
      "Dataset of size (452, 278)\n",
      "There are 427 instances for the majoritary class\n",
      "There are 25 instanes for the minoritary class\n",
      "IR of the dataset:  17.08\n",
      "[87.86882400805271, 88.92118276421004, 62.49705875432201, 87.85013977691514, 88.38418809879035]\n",
      "Rendimiento del clasificador SMOTETomekBoost: 83.10427868045805\n",
      "Tiempo medio de entrenamiento: 1.9116491794586181\n",
      "\n",
      "SOLAR_FLARE_M0 with SMOTETomekBoost\n",
      "Dataset of size (1389, 32)\n",
      "There are 1321 instances for the majoritary class\n",
      "There are 68 instanes for the minoritary class\n",
      "IR of the dataset:  19.426470588235293\n",
      "[49.73077007263628, 48.905775648433305, 77.5015709937128, 45.67317550859542, 67.89371922024237]\n",
      "Rendimiento del clasificador SMOTETomekBoost: 57.941002288724036\n",
      "Tiempo medio de entrenamiento: 1.2114465236663818\n",
      "\n",
      "OIL with SMOTETomekBoost\n",
      "Dataset of size (937, 49)\n",
      "There are 896 instances for the majoritary class\n",
      "There are 41 instanes for the minoritary class\n",
      "IR of the dataset:  21.853658536585368\n",
      "[93.05491860774997, 92.49624617007738, 66.01168002286671, 81.23522641793512, 49.860139586177176]\n",
      "Rendimiento del clasificador SMOTETomekBoost: 76.53164216096127\n",
      "Tiempo medio de entrenamiento: 0.36249446868896484\n",
      "\n",
      "CAR_EVAL_4 with SMOTETomekBoost\n",
      "Dataset of size (1728, 21)\n",
      "There are 1663 instances for the majoritary class\n",
      "There are 65 instanes for the minoritary class\n",
      "IR of the dataset:  25.584615384615386\n",
      "[100.0, 100.0, 0.0, 97.25138212540327, 71.76769753613776]\n",
      "Rendimiento del clasificador SMOTETomekBoost: 73.80381593230821\n",
      "Tiempo medio de entrenamiento: 1.205540132522583\n",
      "\n",
      "WINE_QUALITY with SMOTETomekBoost\n",
      "Dataset of size (4898, 11)\n",
      "There are 4715 instances for the majoritary class\n",
      "There are 183 instanes for the minoritary class\n",
      "IR of the dataset:  25.76502732240437\n",
      "[62.97670797694968, 53.089470469156886, 54.630003179825124, 62.28533300601799, 72.12744504022798]\n",
      "Rendimiento del clasificador SMOTETomekBoost: 61.021791934435534\n",
      "Tiempo medio de entrenamiento: 0.7098644256591797\n",
      "\n",
      "LETTER_IMG with SMOTETomekBoost\n",
      "Dataset of size (20000, 16)\n",
      "There are 19266 instances for the majoritary class\n",
      "There are 734 instanes for the minoritary class\n",
      "IR of the dataset:  26.247956403269754\n",
      "[93.66413541985649, 94.09845497075503, 91.99411372578037, 93.50961362204005, 93.42092477855654]\n",
      "Rendimiento del clasificador SMOTETomekBoost: 93.3374485033977\n",
      "Tiempo medio de entrenamiento: 23.81321339607239\n",
      "\n",
      "YEAST_ME2 with SMOTETomekBoost\n",
      "Dataset of size (1484, 8)\n",
      "There are 1433 instances for the majoritary class\n",
      "There are 51 instanes for the minoritary class\n",
      "IR of the dataset:  28.098039215686274\n",
      "[85.29514244106643, 90.29568153865176, 79.63330593811955, 65.38555027191477, 79.15639118690459]\n",
      "Rendimiento del clasificador SMOTETomekBoost: 79.95321427533142\n",
      "Tiempo medio de entrenamiento: 0.3471193313598633\n",
      "\n",
      "OZONE_LEVEL with SMOTETomekBoost\n",
      "Dataset of size (2536, 72)\n",
      "There are 2463 instances for the majoritary class\n",
      "There are 73 instanes for the minoritary class\n",
      "IR of the dataset:  33.73972602739726\n",
      "[65.91530616030616, 81.03217072233312, 81.52238796309899, 79.40326220490243, 62.58869045955295]\n",
      "Rendimiento del clasificador SMOTETomekBoost: 74.09236350203874\n",
      "Tiempo medio de entrenamiento: 3.1023677825927733\n",
      "\n",
      "MAMMOGRAPHY with SMOTETomekBoost\n",
      "Dataset of size (11183, 6)\n",
      "There are 10923 instances for the majoritary class\n",
      "There are 260 instanes for the minoritary class\n",
      "IR of the dataset:  42.011538461538464\n",
      "[82.81272573974606, 84.61890504910357, 83.4748548929647, 84.95809717484603, 87.59429166546937]\n",
      "Rendimiento del clasificador SMOTETomekBoost: 84.69177490442594\n",
      "Tiempo medio de entrenamiento: 3.0209930896759034\n",
      "\n",
      "ABALONE_19 with SMOTETomekBoost\n",
      "Dataset of size (4177, 10)\n",
      "There are 4145 instances for the majoritary class\n",
      "There are 32 instanes for the minoritary class\n",
      "IR of the dataset:  129.53125\n",
      "[67.29555747471886, 36.52112903182335, 61.10166733819824, 47.06931811360703, 73.05995026641644]\n",
      "Rendimiento del clasificador SMOTETomekBoost: 57.00952444495278\n",
      "Tiempo medio de entrenamiento: 1.0077571392059326\n",
      "\n",
      "ECOLI with SMOTEENNBoost\n",
      "Dataset of size (336, 7)\n",
      "There are 301 instances for the majoritary class\n",
      "There are 35 instanes for the minoritary class\n",
      "IR of the dataset:  8.6\n",
      "[100.0, 100.0, 79.28249671720918, 71.54752000627009, 91.02589898327994]\n",
      "Rendimiento del clasificador SMOTEENNBoost: 88.37118314135185\n",
      "Tiempo medio de entrenamiento: 0.0694197654724121\n",
      "\n",
      "OPTICAL_DIGITS with SMOTEENNBoost\n",
      "Dataset of size (5620, 64)\n",
      "There are 5066 instances for the majoritary class\n",
      "There are 554 instanes for the minoritary class\n",
      "IR of the dataset:  9.144404332129964\n",
      "[92.79736089067009, 88.61540389390625, 85.21626987696392, 91.64854458328081, 82.34542442006688]\n",
      "Rendimiento del clasificador SMOTEENNBoost: 88.12460073297758\n",
      "Tiempo medio de entrenamiento: 62.38821382522583\n",
      "\n",
      "SATIMAGE with SMOTEENNBoost\n",
      "Dataset of size (6435, 36)\n",
      "There are 5809 instances for the majoritary class\n",
      "There are 626 instanes for the minoritary class\n",
      "IR of the dataset:  9.279552715654953\n",
      "[73.37546382756635, 65.06980231903437, 91.46879493851607, 82.84111661735155, 86.7840966462418]\n",
      "Rendimiento del clasificador SMOTEENNBoost: 79.90785486974202\n",
      "Tiempo medio de entrenamiento: 11.362272167205811\n",
      "\n",
      "PEN_DIGITS with SMOTEENNBoost\n",
      "Dataset of size (10992, 16)\n",
      "There are 9937 instances for the majoritary class\n",
      "There are 1055 instanes for the minoritary class\n",
      "IR of the dataset:  9.418957345971563\n",
      "[86.4163904430971, 84.1436787713823, 83.60327522873853, 77.17922521752067, 71.47253024892511]\n",
      "Rendimiento del clasificador SMOTEENNBoost: 80.56301998193274\n",
      "Tiempo medio de entrenamiento: 7.035804271697998\n",
      "\n",
      "ABALONE with SMOTEENNBoost\n",
      "Dataset of size (4177, 10)\n",
      "There are 3786 instances for the majoritary class\n",
      "There are 391 instanes for the minoritary class\n",
      "IR of the dataset:  9.682864450127877\n",
      "[78.75953748772973, 79.36212091930798, 76.37238097077243, 76.9621890201051, 77.57698891046094]\n",
      "Rendimiento del clasificador SMOTEENNBoost: 77.80664346167524\n",
      "Tiempo medio de entrenamiento: 1.2197498321533202\n",
      "\n",
      "SICK_EUTHYROID with SMOTEENNBoost\n",
      "Dataset of size (3163, 42)\n",
      "There are 2870 instances for the majoritary class\n",
      "There are 293 instanes for the minoritary class\n",
      "IR of the dataset:  9.795221843003413\n",
      "[94.14439227998486, 91.09820984133546, 90.61884915600456, 88.56255260491103, 95.14844192229475]\n",
      "Rendimiento del clasificador SMOTEENNBoost: 91.91448916090613\n",
      "Tiempo medio de entrenamiento: 1.7784260749816894\n",
      "\n",
      "SPECTROMETER with SMOTEENNBoost\n",
      "Dataset of size (531, 93)\n",
      "There are 486 instances for the majoritary class\n",
      "There are 45 instanes for the minoritary class\n",
      "IR of the dataset:  10.8\n",
      "[90.35079029052511, 84.47669246189307, 98.96370260347827, 92.31650323620067, 72.98260396217484]\n",
      "Rendimiento del clasificador SMOTEENNBoost: 87.81805851085439\n",
      "Tiempo medio de entrenamiento: 0.5188266277313233\n",
      "\n",
      "CAR_EVAL_34 with SMOTEENNBoost\n"
     ]
    },
    {
     "name": "stdout",
     "output_type": "stream",
     "text": [
      "Dataset of size (1728, 21)\n",
      "There are 1594 instances for the majoritary class\n",
      "There are 134 instanes for the minoritary class\n",
      "IR of the dataset:  11.895522388059701\n",
      "[100.0, 96.81446561517085, 73.90204103005695, 83.7970379766953, 90.24773730155408]\n",
      "Rendimiento del clasificador SMOTEENNBoost: 88.95225638469543\n",
      "Tiempo medio de entrenamiento: 1.402709674835205\n",
      "\n",
      "ISOLET with SMOTEENNBoost\n",
      "Dataset of size (7797, 617)\n",
      "There are 7197 instances for the majoritary class\n",
      "There are 600 instanes for the minoritary class\n",
      "IR of the dataset:  11.995\n",
      "[83.83080678764023, 88.66192813152666, 86.29506406510971, 86.88760349147098, 87.89352751912088]\n",
      "Rendimiento del clasificador SMOTEENNBoost: 86.71378599897369\n",
      "Tiempo medio de entrenamiento: 1099.8834102630615\n",
      "\n",
      "US_CRIME with SMOTEENNBoost\n",
      "Dataset of size (1994, 100)\n",
      "There are 1844 instances for the majoritary class\n",
      "There are 150 instanes for the minoritary class\n",
      "IR of the dataset:  12.293333333333333\n",
      "[75.19922350595665, 79.80328117086951, 89.093598965884, 87.16139801785178, 87.58019099700836]\n",
      "Rendimiento del clasificador SMOTEENNBoost: 83.76753853151406\n",
      "Tiempo medio de entrenamiento: 8.699755811691285\n",
      "\n",
      "YEAST_ML8 with SMOTEENNBoost\n",
      "Dataset of size (2417, 103)\n",
      "There are 2239 instances for the majoritary class\n",
      "There are 178 instanes for the minoritary class\n",
      "IR of the dataset:  12.57865168539326\n",
      "[48.64228025670084, 45.670707155281626, 54.03371963082735, 45.91751699892906, 53.87656785429441]\n",
      "Rendimiento del clasificador SMOTEENNBoost: 49.62815837920666\n",
      "Tiempo medio de entrenamiento: 19.906200647354126\n",
      "\n",
      "SCENE with SMOTEENNBoost\n",
      "Dataset of size (2407, 294)\n",
      "There are 2230 instances for the majoritary class\n",
      "There are 177 instanes for the minoritary class\n",
      "IR of the dataset:  12.598870056497175\n",
      "[59.283842579841185, 63.159820532882215, 56.55042026396223, 65.043227138117, 66.69655533289213]\n",
      "Rendimiento del clasificador SMOTEENNBoost: 62.14677316953895\n",
      "Tiempo medio de entrenamiento: 60.265548610687254\n",
      "\n",
      "LIBRAS_MOVE with SMOTEENNBoost\n",
      "Dataset of size (360, 90)\n",
      "There are 336 instances for the majoritary class\n",
      "There are 24 instanes for the minoritary class\n",
      "IR of the dataset:  14.0\n",
      "[88.09763918432064, 77.45966692414834, 71.44562696162934, 76.87943653015435, 47.74318553161155]\n",
      "Rendimiento del clasificador SMOTEENNBoost: 72.32511102637284\n",
      "Tiempo medio de entrenamiento: 0.42527165412902834\n",
      "\n",
      "THYROID_SICK with SMOTEENNBoost\n",
      "Dataset of size (3772, 52)\n",
      "There are 3541 instances for the majoritary class\n",
      "There are 231 instanes for the minoritary class\n",
      "IR of the dataset:  15.329004329004329\n",
      "[89.37550347728873, 85.98963923086718, 92.7105542432542, 84.12970008127432, 93.06590454642593]\n",
      "Rendimiento del clasificador SMOTEENNBoost: 89.05426031582208\n",
      "Tiempo medio de entrenamiento: 3.333037281036377\n",
      "\n",
      "COIL_2000 with SMOTEENNBoost\n",
      "Dataset of size (9822, 85)\n",
      "There are 9236 instances for the majoritary class\n",
      "There are 586 instanes for the minoritary class\n",
      "IR of the dataset:  15.761092150170649\n",
      "[65.8232810843119, 66.80901940269989, 66.84101146112188, 63.56827578940597, 64.58081007895174]\n",
      "Rendimiento del clasificador SMOTEENNBoost: 65.52447956329827\n",
      "Tiempo medio de entrenamiento: 79.61863002777099\n",
      "\n",
      "ARRHYTHMIA with SMOTEENNBoost\n",
      "Dataset of size (452, 278)\n",
      "There are 427 instances for the majoritary class\n",
      "There are 25 instanes for the minoritary class\n",
      "IR of the dataset:  17.08\n",
      "[97.04949588309458, 95.84386527904594, 87.85013977691514, 96.40600420647473, 97.61870601839527]\n",
      "Rendimiento del clasificador SMOTEENNBoost: 94.95364223278513\n",
      "Tiempo medio de entrenamiento: 2.2180877208709715\n",
      "\n",
      "SOLAR_FLARE_M0 with SMOTEENNBoost\n",
      "Dataset of size (1389, 32)\n",
      "There are 1321 instances for the majoritary class\n",
      "There are 68 instanes for the minoritary class\n",
      "IR of the dataset:  19.426470588235293\n",
      "[62.15762537189045, 66.93668262260597, 70.7489311255743, 26.420672740336272, 67.29020751916305]\n",
      "Rendimiento del clasificador SMOTEENNBoost: 58.71082387591401\n",
      "Tiempo medio de entrenamiento: 1.421973466873169\n",
      "\n",
      "OIL with SMOTEENNBoost\n",
      "Dataset of size (937, 49)\n",
      "There are 896 instances for the majoritary class\n",
      "There are 41 instanes for the minoritary class\n",
      "IR of the dataset:  21.853658536585368\n",
      "[95.1329560647042, 93.68979548370132, 75.62588011399775, 77.67573336037856, 61.06595024503925]\n",
      "Rendimiento del clasificador SMOTEENNBoost: 80.63806305356421\n",
      "Tiempo medio de entrenamiento: 0.3499880790710449\n",
      "\n",
      "CAR_EVAL_4 with SMOTEENNBoost\n",
      "Dataset of size (1728, 21)\n",
      "There are 1663 instances for the majoritary class\n",
      "There are 65 instanes for the minoritary class\n",
      "IR of the dataset:  25.584615384615386\n",
      "[100.0, 0.0, 77.25960114475073, 87.6397335206256, 92.32603308678527]\n",
      "Rendimiento del clasificador SMOTEENNBoost: 71.44507355043233\n",
      "Tiempo medio de entrenamiento: 1.281724786758423\n",
      "\n",
      "WINE_QUALITY with SMOTEENNBoost\n",
      "Dataset of size (4898, 11)\n",
      "There are 4715 instances for the majoritary class\n",
      "There are 183 instanes for the minoritary class\n",
      "IR of the dataset:  25.76502732240437\n",
      "[62.97670797694968, 73.06001769861882, 54.630003179825124, 66.1788444185028, 70.8293045659433]\n",
      "Rendimiento del clasificador SMOTEENNBoost: 65.53497556796795\n",
      "Tiempo medio de entrenamiento: 0.7532111167907715\n",
      "\n",
      "LETTER_IMG with SMOTEENNBoost\n",
      "Dataset of size (20000, 16)\n",
      "There are 19266 instances for the majoritary class\n",
      "There are 734 instanes for the minoritary class\n",
      "IR of the dataset:  26.247956403269754\n",
      "[88.64845955334025, 89.61440740142802, 89.18525981725209, 87.21511794310935, 92.10497754748054]\n",
      "Rendimiento del clasificador SMOTEENNBoost: 89.35364445252205\n",
      "Tiempo medio de entrenamiento: 32.46044950485229\n",
      "\n",
      "YEAST_ME2 with SMOTEENNBoost\n",
      "Dataset of size (1484, 8)\n",
      "There are 1433 instances for the majoritary class\n",
      "There are 51 instanes for the minoritary class\n",
      "IR of the dataset:  28.098039215686274\n",
      "[84.96771266264588, 89.42323903461845, 79.32643271211222, 65.01992457106479, 91.03138627261087]\n",
      "Rendimiento del clasificador SMOTEENNBoost: 81.95373905061044\n",
      "Tiempo medio de entrenamiento: 0.4073206424713135\n",
      "\n",
      "OZONE_LEVEL with SMOTEENNBoost\n",
      "Dataset of size (2536, 72)\n",
      "There are 2463 instances for the majoritary class\n",
      "There are 73 instanes for the minoritary class\n",
      "IR of the dataset:  33.73972602739726\n",
      "[72.25714729136212, 74.70603066082747, 78.53519883345244, 78.70909700421872, 70.51878990026196]\n",
      "Rendimiento del clasificador SMOTEENNBoost: 74.94525273802454\n",
      "Tiempo medio de entrenamiento: 3.626064920425415\n",
      "\n",
      "MAMMOGRAPHY with SMOTEENNBoost\n",
      "Dataset of size (11183, 6)\n",
      "There are 10923 instances for the majoritary class\n",
      "There are 260 instanes for the minoritary class\n",
      "IR of the dataset:  42.011538461538464\n",
      "[89.6010049105012, 86.975222421454, 77.08722145283502, 84.89744447136431, 85.70724118699094]\n",
      "Rendimiento del clasificador SMOTEENNBoost: 84.8536268886291\n",
      "Tiempo medio de entrenamiento: 3.200674629211426\n",
      "\n",
      "ABALONE_19 with SMOTEENNBoost\n",
      "Dataset of size (4177, 10)\n",
      "There are 4145 instances for the majoritary class\n",
      "There are 32 instanes for the minoritary class\n",
      "IR of the dataset:  129.53125\n",
      "[66.31534750336834, 65.70184719209095, 54.14094994360682, 77.35057972215489, 71.95081642286183]\n",
      "Rendimiento del clasificador SMOTEENNBoost: 67.09190815681657\n",
      "Tiempo medio de entrenamiento: 1.0863182544708252\n",
      "\n"
     ]
    }
   ],
   "source": [
    "rend = np.empty((5,len(imblearn_datasets)))\n",
    "IRlista = []\n",
    "execution_times = []\n",
    "for i,algorithm in enumerate(['adaboost','RUSBoost','SMOTEBoost','SMOTETomekBoost','SMOTEENNBoost']):\n",
    "    times = []\n",
    "    for j,dataset in enumerate(imblearn_datasets):\n",
    "        print(dataset.upper()+' with '+algorithm)\n",
    "        r, IR, exec_time = train_ensemble_method(dataset,algorithm)\n",
    "        rend[i,j] = r\n",
    "        times.append(exec_time)\n",
    "        if i==0:\n",
    "            IRlista.append(IR)\n",
    "        print()\n",
    "    execution_times.append(stats.mean(times))"
   ]
  },
  {
   "cell_type": "code",
   "execution_count": 13,
   "metadata": {},
   "outputs": [
    {
     "name": "stdout",
     "output_type": "stream",
     "text": [
      "[0.37896763610839845, 0.11031727981567384, 1.1011304664611816, 44.83955903053283, 56.18852358627319]\n"
     ]
    }
   ],
   "source": [
    "print(execution_times)"
   ]
  },
  {
   "cell_type": "code",
   "execution_count": 11,
   "metadata": {},
   "outputs": [
    {
     "data": {
      "image/png": "[encoded data removed]",
      "text/plain": [
       "<Figure size 720x720 with 1 Axes>"
      ]
     },
     "metadata": {
      "needs_background": "light"
     },
     "output_type": "display_data"
    },
    {
     "name": "stdout",
     "output_type": "stream",
     "text": [
      "Media del rendimiento para todos los datasets con Adaboost:  51.54065650014455\n",
      "Media del rendimiento para todos los datasets con RUSBoost:  75.13908118405364\n",
      "Media del rendimiento para todos los datasets con SMOTEBoost:  78.47395924407058\n",
      "Media del rendimiento para todos los datasets con SMOTETOMEK:  77.60923526404035\n",
      "Media del rendimiento para todos los datasets con SMOTEENN:  78.48395851184513\n"
     ]
    }
   ],
   "source": [
    "plt.figure(figsize=(10,10))\n",
    "plt.plot(imblearn_datasets, rend[0,:], label = 'Ada-Boost')\n",
    "plt.plot(imblearn_datasets, rend[1,:], label = 'RUS-Boost')\n",
    "plt.plot(imblearn_datasets, rend[2,:], label = 'SMOTE-Boost')\n",
    "plt.plot(imblearn_datasets, rend[3,:], label = 'SMOTETomek-Boost')\n",
    "plt.plot(imblearn_datasets, rend[4,:], label = 'SMOTEENN-Boost')\n",
    "plt.xticks(imblearn_datasets, size = 'small', rotation = 45)\n",
    "plt.legend(loc='upper right')\n",
    "plt.ylabel('Rendimiento')\n",
    "plt.xlabel('datasets')\n",
    "plt.show()\n",
    "\n",
    "print(\"Media del rendimiento para todos los datasets con Adaboost: \",stats.mean(rend[0]))\n",
    "print(\"Media del rendimiento para todos los datasets con RUSBoost: \",stats.mean(rend[1]))\n",
    "print(\"Media del rendimiento para todos los datasets con SMOTEBoost: \",stats.mean(rend[2]))\n",
    "print(\"Media del rendimiento para todos los datasets con SMOTETOMEK: \",stats.mean(rend[3]))\n",
    "print(\"Media del rendimiento para todos los datasets con SMOTEENN: \",stats.mean(rend[4]))"
   ]
  },
  {
   "cell_type": "markdown",
   "metadata": {},
   "source": [
    "# TESTEO DERS-BOOST"
   ]
  },
  {
   "cell_type": "code",
   "execution_count": 36,
   "metadata": {},
   "outputs": [
    {
     "name": "stdout",
     "output_type": "stream",
     "text": [
      "ECOLI\n",
      "Dataset of size (336, 7)\n",
      "There are 301 instances for the majoritary class\n",
      "There are 35 instanes for the minoritary class\n",
      "IR of the dataset:  8.6\n"
     ]
    },
    {
     "name": "stderr",
     "output_type": "stream",
     "text": [
      "/home/cristina/anaconda3/lib/python3.8/site-packages/deap/creator.py:138: RuntimeWarning: A class named 'FitnessMin' has already been created and it will be overwritten. Consider deleting previous creation of that class or rename it.\n",
      "  warnings.warn(\"A class named '{0}' has already been created and it \"\n",
      "/home/cristina/anaconda3/lib/python3.8/site-packages/deap/creator.py:138: RuntimeWarning: A class named 'Individual' has already been created and it will be overwritten. Consider deleting previous creation of that class or rename it.\n",
      "  warnings.warn(\"A class named '{0}' has already been created and it \"\n"
     ]
    },
    {
     "name": "stdout",
     "output_type": "stream",
     "text": [
      "Conjunto de entrenamiento original de tamaño: 268\n",
      "De los cuales:\n",
      " \t nº de ejemplos clase MAYORITARIA: 240\n",
      " \t nº de ejemplos clase MINORITARIA: 28\n",
      "nº de ejemplos clase MAYORITARIA tras aplicar DE-guided UNDERSAMPLING: 139\n",
      "Conjunto de entrenamiento actual de tamaño: 167\n"
     ]
    },
    {
     "name": "stderr",
     "output_type": "stream",
     "text": [
      "/home/cristina/anaconda3/lib/python3.8/site-packages/deap/creator.py:138: RuntimeWarning: A class named 'FitnessMax' has already been created and it will be overwritten. Consider deleting previous creation of that class or rename it.\n",
      "  warnings.warn(\"A class named '{0}' has already been created and it \"\n",
      "/home/cristina/anaconda3/lib/python3.8/site-packages/deap/creator.py:138: RuntimeWarning: A class named 'Individual' has already been created and it will be overwritten. Consider deleting previous creation of that class or rename it.\n",
      "  warnings.warn(\"A class named '{0}' has already been created and it \"\n"
     ]
    },
    {
     "name": "stdout",
     "output_type": "stream",
     "text": [
      " SE HAN INCLUIDO 21 EJEMPLOS SINTÉTICOS\n"
     ]
    },
    {
     "name": "stderr",
     "output_type": "stream",
     "text": [
      "/home/cristina/anaconda3/lib/python3.8/site-packages/deap/creator.py:138: RuntimeWarning: A class named 'FitnessMax' has already been created and it will be overwritten. Consider deleting previous creation of that class or rename it.\n",
      "  warnings.warn(\"A class named '{0}' has already been created and it \"\n",
      "/home/cristina/anaconda3/lib/python3.8/site-packages/deap/creator.py:138: RuntimeWarning: A class named 'Individual' has already been created and it will be overwritten. Consider deleting previous creation of that class or rename it.\n",
      "  warnings.warn(\"A class named '{0}' has already been created and it \"\n"
     ]
    },
    {
     "name": "stdout",
     "output_type": "stream",
     "text": [
      " SE HAN INCLUIDO 18 EJEMPLOS SINTÉTICOS\n"
     ]
    },
    {
     "name": "stderr",
     "output_type": "stream",
     "text": [
      "/home/cristina/anaconda3/lib/python3.8/site-packages/deap/creator.py:138: RuntimeWarning: A class named 'FitnessMax' has already been created and it will be overwritten. Consider deleting previous creation of that class or rename it.\n",
      "  warnings.warn(\"A class named '{0}' has already been created and it \"\n",
      "/home/cristina/anaconda3/lib/python3.8/site-packages/deap/creator.py:138: RuntimeWarning: A class named 'Individual' has already been created and it will be overwritten. Consider deleting previous creation of that class or rename it.\n",
      "  warnings.warn(\"A class named '{0}' has already been created and it \"\n"
     ]
    },
    {
     "name": "stdout",
     "output_type": "stream",
     "text": [
      " SE HAN INCLUIDO 21 EJEMPLOS SINTÉTICOS\n"
     ]
    },
    {
     "name": "stderr",
     "output_type": "stream",
     "text": [
      "/home/cristina/anaconda3/lib/python3.8/site-packages/deap/creator.py:138: RuntimeWarning: A class named 'FitnessMax' has already been created and it will be overwritten. Consider deleting previous creation of that class or rename it.\n",
      "  warnings.warn(\"A class named '{0}' has already been created and it \"\n",
      "/home/cristina/anaconda3/lib/python3.8/site-packages/deap/creator.py:138: RuntimeWarning: A class named 'Individual' has already been created and it will be overwritten. Consider deleting previous creation of that class or rename it.\n",
      "  warnings.warn(\"A class named '{0}' has already been created and it \"\n"
     ]
    },
    {
     "name": "stdout",
     "output_type": "stream",
     "text": [
      " SE HAN INCLUIDO 22 EJEMPLOS SINTÉTICOS\n"
     ]
    },
    {
     "name": "stderr",
     "output_type": "stream",
     "text": [
      "/home/cristina/anaconda3/lib/python3.8/site-packages/deap/creator.py:138: RuntimeWarning: A class named 'FitnessMax' has already been created and it will be overwritten. Consider deleting previous creation of that class or rename it.\n",
      "  warnings.warn(\"A class named '{0}' has already been created and it \"\n",
      "/home/cristina/anaconda3/lib/python3.8/site-packages/deap/creator.py:138: RuntimeWarning: A class named 'Individual' has already been created and it will be overwritten. Consider deleting previous creation of that class or rename it.\n",
      "  warnings.warn(\"A class named '{0}' has already been created and it \"\n"
     ]
    },
    {
     "name": "stdout",
     "output_type": "stream",
     "text": [
      " SE HAN INCLUIDO 11 EJEMPLOS SINTÉTICOS\n"
     ]
    },
    {
     "name": "stderr",
     "output_type": "stream",
     "text": [
      "/home/cristina/anaconda3/lib/python3.8/site-packages/deap/creator.py:138: RuntimeWarning: A class named 'FitnessMax' has already been created and it will be overwritten. Consider deleting previous creation of that class or rename it.\n",
      "  warnings.warn(\"A class named '{0}' has already been created and it \"\n",
      "/home/cristina/anaconda3/lib/python3.8/site-packages/deap/creator.py:138: RuntimeWarning: A class named 'Individual' has already been created and it will be overwritten. Consider deleting previous creation of that class or rename it.\n",
      "  warnings.warn(\"A class named '{0}' has already been created and it \"\n"
     ]
    },
    {
     "name": "stdout",
     "output_type": "stream",
     "text": [
      " SE HAN INCLUIDO 24 EJEMPLOS SINTÉTICOS\n"
     ]
    },
    {
     "name": "stderr",
     "output_type": "stream",
     "text": [
      "/home/cristina/anaconda3/lib/python3.8/site-packages/deap/creator.py:138: RuntimeWarning: A class named 'FitnessMax' has already been created and it will be overwritten. Consider deleting previous creation of that class or rename it.\n",
      "  warnings.warn(\"A class named '{0}' has already been created and it \"\n",
      "/home/cristina/anaconda3/lib/python3.8/site-packages/deap/creator.py:138: RuntimeWarning: A class named 'Individual' has already been created and it will be overwritten. Consider deleting previous creation of that class or rename it.\n",
      "  warnings.warn(\"A class named '{0}' has already been created and it \"\n"
     ]
    },
    {
     "name": "stdout",
     "output_type": "stream",
     "text": [
      " SE HAN INCLUIDO 16 EJEMPLOS SINTÉTICOS\n"
     ]
    },
    {
     "name": "stderr",
     "output_type": "stream",
     "text": [
      "/home/cristina/anaconda3/lib/python3.8/site-packages/deap/creator.py:138: RuntimeWarning: A class named 'FitnessMax' has already been created and it will be overwritten. Consider deleting previous creation of that class or rename it.\n",
      "  warnings.warn(\"A class named '{0}' has already been created and it \"\n",
      "/home/cristina/anaconda3/lib/python3.8/site-packages/deap/creator.py:138: RuntimeWarning: A class named 'Individual' has already been created and it will be overwritten. Consider deleting previous creation of that class or rename it.\n",
      "  warnings.warn(\"A class named '{0}' has already been created and it \"\n"
     ]
    },
    {
     "name": "stdout",
     "output_type": "stream",
     "text": [
      " SE HAN INCLUIDO 18 EJEMPLOS SINTÉTICOS\n"
     ]
    },
    {
     "name": "stderr",
     "output_type": "stream",
     "text": [
      "/home/cristina/anaconda3/lib/python3.8/site-packages/deap/creator.py:138: RuntimeWarning: A class named 'FitnessMax' has already been created and it will be overwritten. Consider deleting previous creation of that class or rename it.\n",
      "  warnings.warn(\"A class named '{0}' has already been created and it \"\n",
      "/home/cristina/anaconda3/lib/python3.8/site-packages/deap/creator.py:138: RuntimeWarning: A class named 'Individual' has already been created and it will be overwritten. Consider deleting previous creation of that class or rename it.\n",
      "  warnings.warn(\"A class named '{0}' has already been created and it \"\n"
     ]
    },
    {
     "name": "stdout",
     "output_type": "stream",
     "text": [
      " SE HAN INCLUIDO 18 EJEMPLOS SINTÉTICOS\n"
     ]
    },
    {
     "name": "stderr",
     "output_type": "stream",
     "text": [
      "/home/cristina/anaconda3/lib/python3.8/site-packages/deap/creator.py:138: RuntimeWarning: A class named 'FitnessMax' has already been created and it will be overwritten. Consider deleting previous creation of that class or rename it.\n",
      "  warnings.warn(\"A class named '{0}' has already been created and it \"\n",
      "/home/cristina/anaconda3/lib/python3.8/site-packages/deap/creator.py:138: RuntimeWarning: A class named 'Individual' has already been created and it will be overwritten. Consider deleting previous creation of that class or rename it.\n",
      "  warnings.warn(\"A class named '{0}' has already been created and it \"\n"
     ]
    },
    {
     "name": "stdout",
     "output_type": "stream",
     "text": [
      " SE HAN INCLUIDO 23 EJEMPLOS SINTÉTICOS\n",
      "Gmean parcial: 84.51542547285166\n"
     ]
    },
    {
     "name": "stderr",
     "output_type": "stream",
     "text": [
      "/home/cristina/anaconda3/lib/python3.8/site-packages/deap/creator.py:138: RuntimeWarning: A class named 'FitnessMin' has already been created and it will be overwritten. Consider deleting previous creation of that class or rename it.\n",
      "  warnings.warn(\"A class named '{0}' has already been created and it \"\n",
      "/home/cristina/anaconda3/lib/python3.8/site-packages/deap/creator.py:138: RuntimeWarning: A class named 'Individual' has already been created and it will be overwritten. Consider deleting previous creation of that class or rename it.\n",
      "  warnings.warn(\"A class named '{0}' has already been created and it \"\n"
     ]
    },
    {
     "name": "stdout",
     "output_type": "stream",
     "text": [
      "Conjunto de entrenamiento original de tamaño: 269\n",
      "De los cuales:\n",
      " \t nº de ejemplos clase MAYORITARIA: 241\n",
      " \t nº de ejemplos clase MINORITARIA: 28\n",
      "nº de ejemplos clase MAYORITARIA tras aplicar DE-guided UNDERSAMPLING: 139\n",
      "Conjunto de entrenamiento actual de tamaño: 167\n"
     ]
    },
    {
     "name": "stderr",
     "output_type": "stream",
     "text": [
      "/home/cristina/anaconda3/lib/python3.8/site-packages/deap/creator.py:138: RuntimeWarning: A class named 'FitnessMax' has already been created and it will be overwritten. Consider deleting previous creation of that class or rename it.\n",
      "  warnings.warn(\"A class named '{0}' has already been created and it \"\n",
      "/home/cristina/anaconda3/lib/python3.8/site-packages/deap/creator.py:138: RuntimeWarning: A class named 'Individual' has already been created and it will be overwritten. Consider deleting previous creation of that class or rename it.\n",
      "  warnings.warn(\"A class named '{0}' has already been created and it \"\n"
     ]
    },
    {
     "name": "stdout",
     "output_type": "stream",
     "text": [
      " SE HAN INCLUIDO 17 EJEMPLOS SINTÉTICOS\n"
     ]
    },
    {
     "name": "stderr",
     "output_type": "stream",
     "text": [
      "/home/cristina/anaconda3/lib/python3.8/site-packages/deap/creator.py:138: RuntimeWarning: A class named 'FitnessMax' has already been created and it will be overwritten. Consider deleting previous creation of that class or rename it.\n",
      "  warnings.warn(\"A class named '{0}' has already been created and it \"\n",
      "/home/cristina/anaconda3/lib/python3.8/site-packages/deap/creator.py:138: RuntimeWarning: A class named 'Individual' has already been created and it will be overwritten. Consider deleting previous creation of that class or rename it.\n",
      "  warnings.warn(\"A class named '{0}' has already been created and it \"\n"
     ]
    },
    {
     "name": "stdout",
     "output_type": "stream",
     "text": [
      " SE HAN INCLUIDO 21 EJEMPLOS SINTÉTICOS\n"
     ]
    },
    {
     "name": "stderr",
     "output_type": "stream",
     "text": [
      "/home/cristina/anaconda3/lib/python3.8/site-packages/deap/creator.py:138: RuntimeWarning: A class named 'FitnessMax' has already been created and it will be overwritten. Consider deleting previous creation of that class or rename it.\n",
      "  warnings.warn(\"A class named '{0}' has already been created and it \"\n",
      "/home/cristina/anaconda3/lib/python3.8/site-packages/deap/creator.py:138: RuntimeWarning: A class named 'Individual' has already been created and it will be overwritten. Consider deleting previous creation of that class or rename it.\n",
      "  warnings.warn(\"A class named '{0}' has already been created and it \"\n"
     ]
    },
    {
     "name": "stdout",
     "output_type": "stream",
     "text": [
      " SE HAN INCLUIDO 20 EJEMPLOS SINTÉTICOS\n"
     ]
    },
    {
     "name": "stderr",
     "output_type": "stream",
     "text": [
      "/home/cristina/anaconda3/lib/python3.8/site-packages/deap/creator.py:138: RuntimeWarning: A class named 'FitnessMax' has already been created and it will be overwritten. Consider deleting previous creation of that class or rename it.\n",
      "  warnings.warn(\"A class named '{0}' has already been created and it \"\n",
      "/home/cristina/anaconda3/lib/python3.8/site-packages/deap/creator.py:138: RuntimeWarning: A class named 'Individual' has already been created and it will be overwritten. Consider deleting previous creation of that class or rename it.\n",
      "  warnings.warn(\"A class named '{0}' has already been created and it \"\n"
     ]
    },
    {
     "name": "stdout",
     "output_type": "stream",
     "text": [
      " SE HAN INCLUIDO 22 EJEMPLOS SINTÉTICOS\n"
     ]
    },
    {
     "name": "stderr",
     "output_type": "stream",
     "text": [
      "/home/cristina/anaconda3/lib/python3.8/site-packages/deap/creator.py:138: RuntimeWarning: A class named 'FitnessMax' has already been created and it will be overwritten. Consider deleting previous creation of that class or rename it.\n",
      "  warnings.warn(\"A class named '{0}' has already been created and it \"\n",
      "/home/cristina/anaconda3/lib/python3.8/site-packages/deap/creator.py:138: RuntimeWarning: A class named 'Individual' has already been created and it will be overwritten. Consider deleting previous creation of that class or rename it.\n",
      "  warnings.warn(\"A class named '{0}' has already been created and it \"\n"
     ]
    },
    {
     "name": "stdout",
     "output_type": "stream",
     "text": [
      " SE HAN INCLUIDO 16 EJEMPLOS SINTÉTICOS\n"
     ]
    },
    {
     "name": "stderr",
     "output_type": "stream",
     "text": [
      "/home/cristina/anaconda3/lib/python3.8/site-packages/deap/creator.py:138: RuntimeWarning: A class named 'FitnessMax' has already been created and it will be overwritten. Consider deleting previous creation of that class or rename it.\n",
      "  warnings.warn(\"A class named '{0}' has already been created and it \"\n",
      "/home/cristina/anaconda3/lib/python3.8/site-packages/deap/creator.py:138: RuntimeWarning: A class named 'Individual' has already been created and it will be overwritten. Consider deleting previous creation of that class or rename it.\n",
      "  warnings.warn(\"A class named '{0}' has already been created and it \"\n"
     ]
    },
    {
     "name": "stdout",
     "output_type": "stream",
     "text": [
      " SE HAN INCLUIDO 18 EJEMPLOS SINTÉTICOS\n"
     ]
    },
    {
     "name": "stderr",
     "output_type": "stream",
     "text": [
      "/home/cristina/anaconda3/lib/python3.8/site-packages/deap/creator.py:138: RuntimeWarning: A class named 'FitnessMax' has already been created and it will be overwritten. Consider deleting previous creation of that class or rename it.\n",
      "  warnings.warn(\"A class named '{0}' has already been created and it \"\n",
      "/home/cristina/anaconda3/lib/python3.8/site-packages/deap/creator.py:138: RuntimeWarning: A class named 'Individual' has already been created and it will be overwritten. Consider deleting previous creation of that class or rename it.\n",
      "  warnings.warn(\"A class named '{0}' has already been created and it \"\n"
     ]
    },
    {
     "name": "stdout",
     "output_type": "stream",
     "text": [
      " SE HAN INCLUIDO 17 EJEMPLOS SINTÉTICOS\n"
     ]
    },
    {
     "name": "stderr",
     "output_type": "stream",
     "text": [
      "/home/cristina/anaconda3/lib/python3.8/site-packages/deap/creator.py:138: RuntimeWarning: A class named 'FitnessMax' has already been created and it will be overwritten. Consider deleting previous creation of that class or rename it.\n",
      "  warnings.warn(\"A class named '{0}' has already been created and it \"\n",
      "/home/cristina/anaconda3/lib/python3.8/site-packages/deap/creator.py:138: RuntimeWarning: A class named 'Individual' has already been created and it will be overwritten. Consider deleting previous creation of that class or rename it.\n",
      "  warnings.warn(\"A class named '{0}' has already been created and it \"\n"
     ]
    },
    {
     "name": "stdout",
     "output_type": "stream",
     "text": [
      " SE HAN INCLUIDO 15 EJEMPLOS SINTÉTICOS\n"
     ]
    },
    {
     "name": "stderr",
     "output_type": "stream",
     "text": [
      "/home/cristina/anaconda3/lib/python3.8/site-packages/deap/creator.py:138: RuntimeWarning: A class named 'FitnessMax' has already been created and it will be overwritten. Consider deleting previous creation of that class or rename it.\n",
      "  warnings.warn(\"A class named '{0}' has already been created and it \"\n",
      "/home/cristina/anaconda3/lib/python3.8/site-packages/deap/creator.py:138: RuntimeWarning: A class named 'Individual' has already been created and it will be overwritten. Consider deleting previous creation of that class or rename it.\n",
      "  warnings.warn(\"A class named '{0}' has already been created and it \"\n"
     ]
    },
    {
     "name": "stdout",
     "output_type": "stream",
     "text": [
      " SE HAN INCLUIDO 16 EJEMPLOS SINTÉTICOS\n"
     ]
    },
    {
     "name": "stderr",
     "output_type": "stream",
     "text": [
      "/home/cristina/anaconda3/lib/python3.8/site-packages/deap/creator.py:138: RuntimeWarning: A class named 'FitnessMax' has already been created and it will be overwritten. Consider deleting previous creation of that class or rename it.\n",
      "  warnings.warn(\"A class named '{0}' has already been created and it \"\n",
      "/home/cristina/anaconda3/lib/python3.8/site-packages/deap/creator.py:138: RuntimeWarning: A class named 'Individual' has already been created and it will be overwritten. Consider deleting previous creation of that class or rename it.\n",
      "  warnings.warn(\"A class named '{0}' has already been created and it \"\n"
     ]
    },
    {
     "name": "stdout",
     "output_type": "stream",
     "text": [
      " SE HAN INCLUIDO 12 EJEMPLOS SINTÉTICOS\n",
      "Gmean parcial: 53.45224838248488\n"
     ]
    },
    {
     "name": "stderr",
     "output_type": "stream",
     "text": [
      "/home/cristina/anaconda3/lib/python3.8/site-packages/deap/creator.py:138: RuntimeWarning: A class named 'FitnessMin' has already been created and it will be overwritten. Consider deleting previous creation of that class or rename it.\n",
      "  warnings.warn(\"A class named '{0}' has already been created and it \"\n",
      "/home/cristina/anaconda3/lib/python3.8/site-packages/deap/creator.py:138: RuntimeWarning: A class named 'Individual' has already been created and it will be overwritten. Consider deleting previous creation of that class or rename it.\n",
      "  warnings.warn(\"A class named '{0}' has already been created and it \"\n"
     ]
    },
    {
     "name": "stdout",
     "output_type": "stream",
     "text": [
      "Conjunto de entrenamiento original de tamaño: 269\n",
      "De los cuales:\n",
      " \t nº de ejemplos clase MAYORITARIA: 241\n",
      " \t nº de ejemplos clase MINORITARIA: 28\n",
      "nº de ejemplos clase MAYORITARIA tras aplicar DE-guided UNDERSAMPLING: 119\n",
      "Conjunto de entrenamiento actual de tamaño: 147\n"
     ]
    },
    {
     "name": "stderr",
     "output_type": "stream",
     "text": [
      "/home/cristina/anaconda3/lib/python3.8/site-packages/deap/creator.py:138: RuntimeWarning: A class named 'FitnessMax' has already been created and it will be overwritten. Consider deleting previous creation of that class or rename it.\n",
      "  warnings.warn(\"A class named '{0}' has already been created and it \"\n",
      "/home/cristina/anaconda3/lib/python3.8/site-packages/deap/creator.py:138: RuntimeWarning: A class named 'Individual' has already been created and it will be overwritten. Consider deleting previous creation of that class or rename it.\n",
      "  warnings.warn(\"A class named '{0}' has already been created and it \"\n"
     ]
    },
    {
     "name": "stdout",
     "output_type": "stream",
     "text": [
      " SE HAN INCLUIDO 14 EJEMPLOS SINTÉTICOS\n"
     ]
    },
    {
     "name": "stderr",
     "output_type": "stream",
     "text": [
      "/home/cristina/anaconda3/lib/python3.8/site-packages/deap/creator.py:138: RuntimeWarning: A class named 'FitnessMax' has already been created and it will be overwritten. Consider deleting previous creation of that class or rename it.\n",
      "  warnings.warn(\"A class named '{0}' has already been created and it \"\n",
      "/home/cristina/anaconda3/lib/python3.8/site-packages/deap/creator.py:138: RuntimeWarning: A class named 'Individual' has already been created and it will be overwritten. Consider deleting previous creation of that class or rename it.\n",
      "  warnings.warn(\"A class named '{0}' has already been created and it \"\n"
     ]
    },
    {
     "name": "stdout",
     "output_type": "stream",
     "text": [
      " SE HAN INCLUIDO 22 EJEMPLOS SINTÉTICOS\n"
     ]
    },
    {
     "name": "stderr",
     "output_type": "stream",
     "text": [
      "/home/cristina/anaconda3/lib/python3.8/site-packages/deap/creator.py:138: RuntimeWarning: A class named 'FitnessMax' has already been created and it will be overwritten. Consider deleting previous creation of that class or rename it.\n",
      "  warnings.warn(\"A class named '{0}' has already been created and it \"\n",
      "/home/cristina/anaconda3/lib/python3.8/site-packages/deap/creator.py:138: RuntimeWarning: A class named 'Individual' has already been created and it will be overwritten. Consider deleting previous creation of that class or rename it.\n",
      "  warnings.warn(\"A class named '{0}' has already been created and it \"\n"
     ]
    },
    {
     "name": "stdout",
     "output_type": "stream",
     "text": [
      " SE HAN INCLUIDO 24 EJEMPLOS SINTÉTICOS\n"
     ]
    },
    {
     "name": "stderr",
     "output_type": "stream",
     "text": [
      "/home/cristina/anaconda3/lib/python3.8/site-packages/deap/creator.py:138: RuntimeWarning: A class named 'FitnessMax' has already been created and it will be overwritten. Consider deleting previous creation of that class or rename it.\n",
      "  warnings.warn(\"A class named '{0}' has already been created and it \"\n",
      "/home/cristina/anaconda3/lib/python3.8/site-packages/deap/creator.py:138: RuntimeWarning: A class named 'Individual' has already been created and it will be overwritten. Consider deleting previous creation of that class or rename it.\n",
      "  warnings.warn(\"A class named '{0}' has already been created and it \"\n"
     ]
    },
    {
     "name": "stdout",
     "output_type": "stream",
     "text": [
      " SE HAN INCLUIDO 19 EJEMPLOS SINTÉTICOS\n"
     ]
    },
    {
     "name": "stderr",
     "output_type": "stream",
     "text": [
      "/home/cristina/anaconda3/lib/python3.8/site-packages/deap/creator.py:138: RuntimeWarning: A class named 'FitnessMax' has already been created and it will be overwritten. Consider deleting previous creation of that class or rename it.\n",
      "  warnings.warn(\"A class named '{0}' has already been created and it \"\n",
      "/home/cristina/anaconda3/lib/python3.8/site-packages/deap/creator.py:138: RuntimeWarning: A class named 'Individual' has already been created and it will be overwritten. Consider deleting previous creation of that class or rename it.\n",
      "  warnings.warn(\"A class named '{0}' has already been created and it \"\n"
     ]
    },
    {
     "name": "stdout",
     "output_type": "stream",
     "text": [
      " SE HAN INCLUIDO 22 EJEMPLOS SINTÉTICOS\n"
     ]
    },
    {
     "name": "stderr",
     "output_type": "stream",
     "text": [
      "/home/cristina/anaconda3/lib/python3.8/site-packages/deap/creator.py:138: RuntimeWarning: A class named 'FitnessMax' has already been created and it will be overwritten. Consider deleting previous creation of that class or rename it.\n",
      "  warnings.warn(\"A class named '{0}' has already been created and it \"\n",
      "/home/cristina/anaconda3/lib/python3.8/site-packages/deap/creator.py:138: RuntimeWarning: A class named 'Individual' has already been created and it will be overwritten. Consider deleting previous creation of that class or rename it.\n",
      "  warnings.warn(\"A class named '{0}' has already been created and it \"\n"
     ]
    },
    {
     "name": "stdout",
     "output_type": "stream",
     "text": [
      " SE HAN INCLUIDO 18 EJEMPLOS SINTÉTICOS\n"
     ]
    },
    {
     "name": "stderr",
     "output_type": "stream",
     "text": [
      "/home/cristina/anaconda3/lib/python3.8/site-packages/deap/creator.py:138: RuntimeWarning: A class named 'FitnessMax' has already been created and it will be overwritten. Consider deleting previous creation of that class or rename it.\n",
      "  warnings.warn(\"A class named '{0}' has already been created and it \"\n",
      "/home/cristina/anaconda3/lib/python3.8/site-packages/deap/creator.py:138: RuntimeWarning: A class named 'Individual' has already been created and it will be overwritten. Consider deleting previous creation of that class or rename it.\n",
      "  warnings.warn(\"A class named '{0}' has already been created and it \"\n"
     ]
    },
    {
     "name": "stdout",
     "output_type": "stream",
     "text": [
      " SE HAN INCLUIDO 18 EJEMPLOS SINTÉTICOS\n"
     ]
    },
    {
     "name": "stderr",
     "output_type": "stream",
     "text": [
      "/home/cristina/anaconda3/lib/python3.8/site-packages/deap/creator.py:138: RuntimeWarning: A class named 'FitnessMax' has already been created and it will be overwritten. Consider deleting previous creation of that class or rename it.\n",
      "  warnings.warn(\"A class named '{0}' has already been created and it \"\n",
      "/home/cristina/anaconda3/lib/python3.8/site-packages/deap/creator.py:138: RuntimeWarning: A class named 'Individual' has already been created and it will be overwritten. Consider deleting previous creation of that class or rename it.\n",
      "  warnings.warn(\"A class named '{0}' has already been created and it \"\n"
     ]
    },
    {
     "name": "stdout",
     "output_type": "stream",
     "text": [
      " SE HAN INCLUIDO 17 EJEMPLOS SINTÉTICOS\n"
     ]
    },
    {
     "name": "stderr",
     "output_type": "stream",
     "text": [
      "/home/cristina/anaconda3/lib/python3.8/site-packages/deap/creator.py:138: RuntimeWarning: A class named 'FitnessMax' has already been created and it will be overwritten. Consider deleting previous creation of that class or rename it.\n",
      "  warnings.warn(\"A class named '{0}' has already been created and it \"\n",
      "/home/cristina/anaconda3/lib/python3.8/site-packages/deap/creator.py:138: RuntimeWarning: A class named 'Individual' has already been created and it will be overwritten. Consider deleting previous creation of that class or rename it.\n",
      "  warnings.warn(\"A class named '{0}' has already been created and it \"\n"
     ]
    },
    {
     "name": "stdout",
     "output_type": "stream",
     "text": [
      " SE HAN INCLUIDO 20 EJEMPLOS SINTÉTICOS\n"
     ]
    },
    {
     "name": "stderr",
     "output_type": "stream",
     "text": [
      "/home/cristina/anaconda3/lib/python3.8/site-packages/deap/creator.py:138: RuntimeWarning: A class named 'FitnessMax' has already been created and it will be overwritten. Consider deleting previous creation of that class or rename it.\n",
      "  warnings.warn(\"A class named '{0}' has already been created and it \"\n",
      "/home/cristina/anaconda3/lib/python3.8/site-packages/deap/creator.py:138: RuntimeWarning: A class named 'Individual' has already been created and it will be overwritten. Consider deleting previous creation of that class or rename it.\n",
      "  warnings.warn(\"A class named '{0}' has already been created and it \"\n"
     ]
    },
    {
     "name": "stdout",
     "output_type": "stream",
     "text": [
      " SE HAN INCLUIDO 18 EJEMPLOS SINTÉTICOS\n",
      "Gmean parcial: 81.94074514114278\n"
     ]
    },
    {
     "name": "stderr",
     "output_type": "stream",
     "text": [
      "/home/cristina/anaconda3/lib/python3.8/site-packages/deap/creator.py:138: RuntimeWarning: A class named 'FitnessMin' has already been created and it will be overwritten. Consider deleting previous creation of that class or rename it.\n",
      "  warnings.warn(\"A class named '{0}' has already been created and it \"\n",
      "/home/cristina/anaconda3/lib/python3.8/site-packages/deap/creator.py:138: RuntimeWarning: A class named 'Individual' has already been created and it will be overwritten. Consider deleting previous creation of that class or rename it.\n",
      "  warnings.warn(\"A class named '{0}' has already been created and it \"\n"
     ]
    },
    {
     "name": "stdout",
     "output_type": "stream",
     "text": [
      "Conjunto de entrenamiento original de tamaño: 269\n",
      "De los cuales:\n",
      " \t nº de ejemplos clase MAYORITARIA: 241\n",
      " \t nº de ejemplos clase MINORITARIA: 28\n",
      "nº de ejemplos clase MAYORITARIA tras aplicar DE-guided UNDERSAMPLING: 119\n",
      "Conjunto de entrenamiento actual de tamaño: 147\n"
     ]
    },
    {
     "name": "stderr",
     "output_type": "stream",
     "text": [
      "/home/cristina/anaconda3/lib/python3.8/site-packages/deap/creator.py:138: RuntimeWarning: A class named 'FitnessMax' has already been created and it will be overwritten. Consider deleting previous creation of that class or rename it.\n",
      "  warnings.warn(\"A class named '{0}' has already been created and it \"\n",
      "/home/cristina/anaconda3/lib/python3.8/site-packages/deap/creator.py:138: RuntimeWarning: A class named 'Individual' has already been created and it will be overwritten. Consider deleting previous creation of that class or rename it.\n",
      "  warnings.warn(\"A class named '{0}' has already been created and it \"\n"
     ]
    },
    {
     "name": "stdout",
     "output_type": "stream",
     "text": [
      " SE HAN INCLUIDO 22 EJEMPLOS SINTÉTICOS\n"
     ]
    },
    {
     "name": "stderr",
     "output_type": "stream",
     "text": [
      "/home/cristina/anaconda3/lib/python3.8/site-packages/deap/creator.py:138: RuntimeWarning: A class named 'FitnessMax' has already been created and it will be overwritten. Consider deleting previous creation of that class or rename it.\n",
      "  warnings.warn(\"A class named '{0}' has already been created and it \"\n",
      "/home/cristina/anaconda3/lib/python3.8/site-packages/deap/creator.py:138: RuntimeWarning: A class named 'Individual' has already been created and it will be overwritten. Consider deleting previous creation of that class or rename it.\n",
      "  warnings.warn(\"A class named '{0}' has already been created and it \"\n"
     ]
    },
    {
     "name": "stdout",
     "output_type": "stream",
     "text": [
      " SE HAN INCLUIDO 22 EJEMPLOS SINTÉTICOS\n"
     ]
    },
    {
     "name": "stderr",
     "output_type": "stream",
     "text": [
      "/home/cristina/anaconda3/lib/python3.8/site-packages/deap/creator.py:138: RuntimeWarning: A class named 'FitnessMax' has already been created and it will be overwritten. Consider deleting previous creation of that class or rename it.\n",
      "  warnings.warn(\"A class named '{0}' has already been created and it \"\n",
      "/home/cristina/anaconda3/lib/python3.8/site-packages/deap/creator.py:138: RuntimeWarning: A class named 'Individual' has already been created and it will be overwritten. Consider deleting previous creation of that class or rename it.\n",
      "  warnings.warn(\"A class named '{0}' has already been created and it \"\n"
     ]
    },
    {
     "name": "stdout",
     "output_type": "stream",
     "text": [
      " SE HAN INCLUIDO 25 EJEMPLOS SINTÉTICOS\n"
     ]
    },
    {
     "name": "stderr",
     "output_type": "stream",
     "text": [
      "/home/cristina/anaconda3/lib/python3.8/site-packages/deap/creator.py:138: RuntimeWarning: A class named 'FitnessMax' has already been created and it will be overwritten. Consider deleting previous creation of that class or rename it.\n",
      "  warnings.warn(\"A class named '{0}' has already been created and it \"\n",
      "/home/cristina/anaconda3/lib/python3.8/site-packages/deap/creator.py:138: RuntimeWarning: A class named 'Individual' has already been created and it will be overwritten. Consider deleting previous creation of that class or rename it.\n",
      "  warnings.warn(\"A class named '{0}' has already been created and it \"\n"
     ]
    },
    {
     "name": "stdout",
     "output_type": "stream",
     "text": [
      " SE HAN INCLUIDO 19 EJEMPLOS SINTÉTICOS\n"
     ]
    },
    {
     "name": "stderr",
     "output_type": "stream",
     "text": [
      "/home/cristina/anaconda3/lib/python3.8/site-packages/deap/creator.py:138: RuntimeWarning: A class named 'FitnessMax' has already been created and it will be overwritten. Consider deleting previous creation of that class or rename it.\n",
      "  warnings.warn(\"A class named '{0}' has already been created and it \"\n",
      "/home/cristina/anaconda3/lib/python3.8/site-packages/deap/creator.py:138: RuntimeWarning: A class named 'Individual' has already been created and it will be overwritten. Consider deleting previous creation of that class or rename it.\n",
      "  warnings.warn(\"A class named '{0}' has already been created and it \"\n"
     ]
    },
    {
     "name": "stdout",
     "output_type": "stream",
     "text": [
      " SE HAN INCLUIDO 15 EJEMPLOS SINTÉTICOS\n"
     ]
    },
    {
     "name": "stderr",
     "output_type": "stream",
     "text": [
      "/home/cristina/anaconda3/lib/python3.8/site-packages/deap/creator.py:138: RuntimeWarning: A class named 'FitnessMax' has already been created and it will be overwritten. Consider deleting previous creation of that class or rename it.\n",
      "  warnings.warn(\"A class named '{0}' has already been created and it \"\n",
      "/home/cristina/anaconda3/lib/python3.8/site-packages/deap/creator.py:138: RuntimeWarning: A class named 'Individual' has already been created and it will be overwritten. Consider deleting previous creation of that class or rename it.\n",
      "  warnings.warn(\"A class named '{0}' has already been created and it \"\n"
     ]
    },
    {
     "name": "stdout",
     "output_type": "stream",
     "text": [
      " SE HAN INCLUIDO 14 EJEMPLOS SINTÉTICOS\n"
     ]
    },
    {
     "name": "stderr",
     "output_type": "stream",
     "text": [
      "/home/cristina/anaconda3/lib/python3.8/site-packages/deap/creator.py:138: RuntimeWarning: A class named 'FitnessMax' has already been created and it will be overwritten. Consider deleting previous creation of that class or rename it.\n",
      "  warnings.warn(\"A class named '{0}' has already been created and it \"\n",
      "/home/cristina/anaconda3/lib/python3.8/site-packages/deap/creator.py:138: RuntimeWarning: A class named 'Individual' has already been created and it will be overwritten. Consider deleting previous creation of that class or rename it.\n",
      "  warnings.warn(\"A class named '{0}' has already been created and it \"\n"
     ]
    },
    {
     "name": "stdout",
     "output_type": "stream",
     "text": [
      " SE HAN INCLUIDO 17 EJEMPLOS SINTÉTICOS\n"
     ]
    },
    {
     "name": "stderr",
     "output_type": "stream",
     "text": [
      "/home/cristina/anaconda3/lib/python3.8/site-packages/deap/creator.py:138: RuntimeWarning: A class named 'FitnessMax' has already been created and it will be overwritten. Consider deleting previous creation of that class or rename it.\n",
      "  warnings.warn(\"A class named '{0}' has already been created and it \"\n",
      "/home/cristina/anaconda3/lib/python3.8/site-packages/deap/creator.py:138: RuntimeWarning: A class named 'Individual' has already been created and it will be overwritten. Consider deleting previous creation of that class or rename it.\n",
      "  warnings.warn(\"A class named '{0}' has already been created and it \"\n"
     ]
    },
    {
     "name": "stdout",
     "output_type": "stream",
     "text": [
      " SE HAN INCLUIDO 18 EJEMPLOS SINTÉTICOS\n"
     ]
    },
    {
     "name": "stderr",
     "output_type": "stream",
     "text": [
      "/home/cristina/anaconda3/lib/python3.8/site-packages/deap/creator.py:138: RuntimeWarning: A class named 'FitnessMax' has already been created and it will be overwritten. Consider deleting previous creation of that class or rename it.\n",
      "  warnings.warn(\"A class named '{0}' has already been created and it \"\n",
      "/home/cristina/anaconda3/lib/python3.8/site-packages/deap/creator.py:138: RuntimeWarning: A class named 'Individual' has already been created and it will be overwritten. Consider deleting previous creation of that class or rename it.\n",
      "  warnings.warn(\"A class named '{0}' has already been created and it \"\n"
     ]
    },
    {
     "name": "stdout",
     "output_type": "stream",
     "text": [
      " SE HAN INCLUIDO 13 EJEMPLOS SINTÉTICOS\n"
     ]
    },
    {
     "name": "stderr",
     "output_type": "stream",
     "text": [
      "/home/cristina/anaconda3/lib/python3.8/site-packages/deap/creator.py:138: RuntimeWarning: A class named 'FitnessMax' has already been created and it will be overwritten. Consider deleting previous creation of that class or rename it.\n",
      "  warnings.warn(\"A class named '{0}' has already been created and it \"\n",
      "/home/cristina/anaconda3/lib/python3.8/site-packages/deap/creator.py:138: RuntimeWarning: A class named 'Individual' has already been created and it will be overwritten. Consider deleting previous creation of that class or rename it.\n",
      "  warnings.warn(\"A class named '{0}' has already been created and it \"\n"
     ]
    },
    {
     "name": "stdout",
     "output_type": "stream",
     "text": [
      " SE HAN INCLUIDO 20 EJEMPLOS SINTÉTICOS\n",
      "Gmean parcial: 47.809144373375744\n"
     ]
    },
    {
     "name": "stderr",
     "output_type": "stream",
     "text": [
      "/home/cristina/anaconda3/lib/python3.8/site-packages/deap/creator.py:138: RuntimeWarning: A class named 'FitnessMin' has already been created and it will be overwritten. Consider deleting previous creation of that class or rename it.\n",
      "  warnings.warn(\"A class named '{0}' has already been created and it \"\n",
      "/home/cristina/anaconda3/lib/python3.8/site-packages/deap/creator.py:138: RuntimeWarning: A class named 'Individual' has already been created and it will be overwritten. Consider deleting previous creation of that class or rename it.\n",
      "  warnings.warn(\"A class named '{0}' has already been created and it \"\n"
     ]
    },
    {
     "name": "stdout",
     "output_type": "stream",
     "text": [
      "Conjunto de entrenamiento original de tamaño: 269\n",
      "De los cuales:\n",
      " \t nº de ejemplos clase MAYORITARIA: 241\n",
      " \t nº de ejemplos clase MINORITARIA: 28\n",
      "nº de ejemplos clase MAYORITARIA tras aplicar DE-guided UNDERSAMPLING: 142\n",
      "Conjunto de entrenamiento actual de tamaño: 170\n"
     ]
    },
    {
     "name": "stderr",
     "output_type": "stream",
     "text": [
      "/home/cristina/anaconda3/lib/python3.8/site-packages/deap/creator.py:138: RuntimeWarning: A class named 'FitnessMax' has already been created and it will be overwritten. Consider deleting previous creation of that class or rename it.\n",
      "  warnings.warn(\"A class named '{0}' has already been created and it \"\n",
      "/home/cristina/anaconda3/lib/python3.8/site-packages/deap/creator.py:138: RuntimeWarning: A class named 'Individual' has already been created and it will be overwritten. Consider deleting previous creation of that class or rename it.\n",
      "  warnings.warn(\"A class named '{0}' has already been created and it \"\n"
     ]
    },
    {
     "name": "stdout",
     "output_type": "stream",
     "text": [
      " SE HAN INCLUIDO 19 EJEMPLOS SINTÉTICOS\n"
     ]
    },
    {
     "name": "stderr",
     "output_type": "stream",
     "text": [
      "/home/cristina/anaconda3/lib/python3.8/site-packages/deap/creator.py:138: RuntimeWarning: A class named 'FitnessMax' has already been created and it will be overwritten. Consider deleting previous creation of that class or rename it.\n",
      "  warnings.warn(\"A class named '{0}' has already been created and it \"\n",
      "/home/cristina/anaconda3/lib/python3.8/site-packages/deap/creator.py:138: RuntimeWarning: A class named 'Individual' has already been created and it will be overwritten. Consider deleting previous creation of that class or rename it.\n",
      "  warnings.warn(\"A class named '{0}' has already been created and it \"\n"
     ]
    },
    {
     "name": "stdout",
     "output_type": "stream",
     "text": [
      " SE HAN INCLUIDO 22 EJEMPLOS SINTÉTICOS\n"
     ]
    },
    {
     "name": "stderr",
     "output_type": "stream",
     "text": [
      "/home/cristina/anaconda3/lib/python3.8/site-packages/deap/creator.py:138: RuntimeWarning: A class named 'FitnessMax' has already been created and it will be overwritten. Consider deleting previous creation of that class or rename it.\n",
      "  warnings.warn(\"A class named '{0}' has already been created and it \"\n",
      "/home/cristina/anaconda3/lib/python3.8/site-packages/deap/creator.py:138: RuntimeWarning: A class named 'Individual' has already been created and it will be overwritten. Consider deleting previous creation of that class or rename it.\n",
      "  warnings.warn(\"A class named '{0}' has already been created and it \"\n"
     ]
    },
    {
     "name": "stdout",
     "output_type": "stream",
     "text": [
      " SE HAN INCLUIDO 23 EJEMPLOS SINTÉTICOS\n"
     ]
    },
    {
     "name": "stderr",
     "output_type": "stream",
     "text": [
      "/home/cristina/anaconda3/lib/python3.8/site-packages/deap/creator.py:138: RuntimeWarning: A class named 'FitnessMax' has already been created and it will be overwritten. Consider deleting previous creation of that class or rename it.\n",
      "  warnings.warn(\"A class named '{0}' has already been created and it \"\n",
      "/home/cristina/anaconda3/lib/python3.8/site-packages/deap/creator.py:138: RuntimeWarning: A class named 'Individual' has already been created and it will be overwritten. Consider deleting previous creation of that class or rename it.\n",
      "  warnings.warn(\"A class named '{0}' has already been created and it \"\n"
     ]
    },
    {
     "name": "stdout",
     "output_type": "stream",
     "text": [
      " SE HAN INCLUIDO 22 EJEMPLOS SINTÉTICOS\n"
     ]
    },
    {
     "name": "stderr",
     "output_type": "stream",
     "text": [
      "/home/cristina/anaconda3/lib/python3.8/site-packages/deap/creator.py:138: RuntimeWarning: A class named 'FitnessMax' has already been created and it will be overwritten. Consider deleting previous creation of that class or rename it.\n",
      "  warnings.warn(\"A class named '{0}' has already been created and it \"\n",
      "/home/cristina/anaconda3/lib/python3.8/site-packages/deap/creator.py:138: RuntimeWarning: A class named 'Individual' has already been created and it will be overwritten. Consider deleting previous creation of that class or rename it.\n",
      "  warnings.warn(\"A class named '{0}' has already been created and it \"\n"
     ]
    },
    {
     "name": "stdout",
     "output_type": "stream",
     "text": [
      " SE HAN INCLUIDO 17 EJEMPLOS SINTÉTICOS\n"
     ]
    },
    {
     "name": "stderr",
     "output_type": "stream",
     "text": [
      "/home/cristina/anaconda3/lib/python3.8/site-packages/deap/creator.py:138: RuntimeWarning: A class named 'FitnessMax' has already been created and it will be overwritten. Consider deleting previous creation of that class or rename it.\n",
      "  warnings.warn(\"A class named '{0}' has already been created and it \"\n",
      "/home/cristina/anaconda3/lib/python3.8/site-packages/deap/creator.py:138: RuntimeWarning: A class named 'Individual' has already been created and it will be overwritten. Consider deleting previous creation of that class or rename it.\n",
      "  warnings.warn(\"A class named '{0}' has already been created and it \"\n"
     ]
    },
    {
     "name": "stdout",
     "output_type": "stream",
     "text": [
      " SE HAN INCLUIDO 24 EJEMPLOS SINTÉTICOS\n"
     ]
    },
    {
     "name": "stderr",
     "output_type": "stream",
     "text": [
      "/home/cristina/anaconda3/lib/python3.8/site-packages/deap/creator.py:138: RuntimeWarning: A class named 'FitnessMax' has already been created and it will be overwritten. Consider deleting previous creation of that class or rename it.\n",
      "  warnings.warn(\"A class named '{0}' has already been created and it \"\n",
      "/home/cristina/anaconda3/lib/python3.8/site-packages/deap/creator.py:138: RuntimeWarning: A class named 'Individual' has already been created and it will be overwritten. Consider deleting previous creation of that class or rename it.\n",
      "  warnings.warn(\"A class named '{0}' has already been created and it \"\n"
     ]
    },
    {
     "name": "stdout",
     "output_type": "stream",
     "text": [
      " SE HAN INCLUIDO 19 EJEMPLOS SINTÉTICOS\n"
     ]
    },
    {
     "name": "stderr",
     "output_type": "stream",
     "text": [
      "/home/cristina/anaconda3/lib/python3.8/site-packages/deap/creator.py:138: RuntimeWarning: A class named 'FitnessMax' has already been created and it will be overwritten. Consider deleting previous creation of that class or rename it.\n",
      "  warnings.warn(\"A class named '{0}' has already been created and it \"\n",
      "/home/cristina/anaconda3/lib/python3.8/site-packages/deap/creator.py:138: RuntimeWarning: A class named 'Individual' has already been created and it will be overwritten. Consider deleting previous creation of that class or rename it.\n",
      "  warnings.warn(\"A class named '{0}' has already been created and it \"\n"
     ]
    },
    {
     "name": "stdout",
     "output_type": "stream",
     "text": [
      " SE HAN INCLUIDO 20 EJEMPLOS SINTÉTICOS\n"
     ]
    },
    {
     "name": "stderr",
     "output_type": "stream",
     "text": [
      "/home/cristina/anaconda3/lib/python3.8/site-packages/deap/creator.py:138: RuntimeWarning: A class named 'FitnessMax' has already been created and it will be overwritten. Consider deleting previous creation of that class or rename it.\n",
      "  warnings.warn(\"A class named '{0}' has already been created and it \"\n",
      "/home/cristina/anaconda3/lib/python3.8/site-packages/deap/creator.py:138: RuntimeWarning: A class named 'Individual' has already been created and it will be overwritten. Consider deleting previous creation of that class or rename it.\n",
      "  warnings.warn(\"A class named '{0}' has already been created and it \"\n"
     ]
    },
    {
     "name": "stdout",
     "output_type": "stream",
     "text": [
      " SE HAN INCLUIDO 24 EJEMPLOS SINTÉTICOS\n"
     ]
    },
    {
     "name": "stderr",
     "output_type": "stream",
     "text": [
      "/home/cristina/anaconda3/lib/python3.8/site-packages/deap/creator.py:138: RuntimeWarning: A class named 'FitnessMax' has already been created and it will be overwritten. Consider deleting previous creation of that class or rename it.\n",
      "  warnings.warn(\"A class named '{0}' has already been created and it \"\n",
      "/home/cristina/anaconda3/lib/python3.8/site-packages/deap/creator.py:138: RuntimeWarning: A class named 'Individual' has already been created and it will be overwritten. Consider deleting previous creation of that class or rename it.\n",
      "  warnings.warn(\"A class named '{0}' has already been created and it \"\n"
     ]
    },
    {
     "name": "stdout",
     "output_type": "stream",
     "text": [
      " SE HAN INCLUIDO 21 EJEMPLOS SINTÉTICOS\n",
      "Gmean parcial: 92.58200997725514\n",
      "[84.51542547285166, 53.45224838248488, 81.94074514114278, 47.809144373375744, 92.58200997725514]\n",
      "Rendimiento del clasificador DERSBoost: 72.05991466942204\n",
      "Tiempo medio de entrenamiento: 21.217141532897948\n",
      "\n",
      "SPECTROMETER\n",
      "Dataset of size (531, 93)\n",
      "There are 486 instances for the majoritary class\n",
      "There are 45 instanes for the minoritary class\n",
      "IR of the dataset:  10.8\n"
     ]
    },
    {
     "name": "stderr",
     "output_type": "stream",
     "text": [
      "/home/cristina/anaconda3/lib/python3.8/site-packages/deap/creator.py:138: RuntimeWarning: A class named 'FitnessMin' has already been created and it will be overwritten. Consider deleting previous creation of that class or rename it.\n",
      "  warnings.warn(\"A class named '{0}' has already been created and it \"\n",
      "/home/cristina/anaconda3/lib/python3.8/site-packages/deap/creator.py:138: RuntimeWarning: A class named 'Individual' has already been created and it will be overwritten. Consider deleting previous creation of that class or rename it.\n",
      "  warnings.warn(\"A class named '{0}' has already been created and it \"\n"
     ]
    },
    {
     "name": "stdout",
     "output_type": "stream",
     "text": [
      "Conjunto de entrenamiento original de tamaño: 424\n",
      "De los cuales:\n",
      " \t nº de ejemplos clase MAYORITARIA: 388\n",
      " \t nº de ejemplos clase MINORITARIA: 36\n",
      "nº de ejemplos clase MAYORITARIA tras aplicar DE-guided UNDERSAMPLING: 261\n",
      "Conjunto de entrenamiento actual de tamaño: 297\n"
     ]
    },
    {
     "name": "stderr",
     "output_type": "stream",
     "text": [
      "/home/cristina/anaconda3/lib/python3.8/site-packages/deap/creator.py:138: RuntimeWarning: A class named 'FitnessMax' has already been created and it will be overwritten. Consider deleting previous creation of that class or rename it.\n",
      "  warnings.warn(\"A class named '{0}' has already been created and it \"\n",
      "/home/cristina/anaconda3/lib/python3.8/site-packages/deap/creator.py:138: RuntimeWarning: A class named 'Individual' has already been created and it will be overwritten. Consider deleting previous creation of that class or rename it.\n",
      "  warnings.warn(\"A class named '{0}' has already been created and it \"\n"
     ]
    },
    {
     "name": "stdout",
     "output_type": "stream",
     "text": [
      " SE HAN INCLUIDO 26 EJEMPLOS SINTÉTICOS\n"
     ]
    },
    {
     "name": "stderr",
     "output_type": "stream",
     "text": [
      "/home/cristina/anaconda3/lib/python3.8/site-packages/deap/creator.py:138: RuntimeWarning: A class named 'FitnessMax' has already been created and it will be overwritten. Consider deleting previous creation of that class or rename it.\n",
      "  warnings.warn(\"A class named '{0}' has already been created and it \"\n",
      "/home/cristina/anaconda3/lib/python3.8/site-packages/deap/creator.py:138: RuntimeWarning: A class named 'Individual' has already been created and it will be overwritten. Consider deleting previous creation of that class or rename it.\n",
      "  warnings.warn(\"A class named '{0}' has already been created and it \"\n"
     ]
    },
    {
     "name": "stdout",
     "output_type": "stream",
     "text": [
      " SE HAN INCLUIDO 27 EJEMPLOS SINTÉTICOS\n"
     ]
    },
    {
     "name": "stderr",
     "output_type": "stream",
     "text": [
      "/home/cristina/anaconda3/lib/python3.8/site-packages/deap/creator.py:138: RuntimeWarning: A class named 'FitnessMax' has already been created and it will be overwritten. Consider deleting previous creation of that class or rename it.\n",
      "  warnings.warn(\"A class named '{0}' has already been created and it \"\n",
      "/home/cristina/anaconda3/lib/python3.8/site-packages/deap/creator.py:138: RuntimeWarning: A class named 'Individual' has already been created and it will be overwritten. Consider deleting previous creation of that class or rename it.\n",
      "  warnings.warn(\"A class named '{0}' has already been created and it \"\n"
     ]
    },
    {
     "name": "stdout",
     "output_type": "stream",
     "text": [
      " SE HAN INCLUIDO 19 EJEMPLOS SINTÉTICOS\n"
     ]
    },
    {
     "name": "stderr",
     "output_type": "stream",
     "text": [
      "/home/cristina/anaconda3/lib/python3.8/site-packages/deap/creator.py:138: RuntimeWarning: A class named 'FitnessMax' has already been created and it will be overwritten. Consider deleting previous creation of that class or rename it.\n",
      "  warnings.warn(\"A class named '{0}' has already been created and it \"\n",
      "/home/cristina/anaconda3/lib/python3.8/site-packages/deap/creator.py:138: RuntimeWarning: A class named 'Individual' has already been created and it will be overwritten. Consider deleting previous creation of that class or rename it.\n",
      "  warnings.warn(\"A class named '{0}' has already been created and it \"\n"
     ]
    },
    {
     "name": "stdout",
     "output_type": "stream",
     "text": [
      " SE HAN INCLUIDO 27 EJEMPLOS SINTÉTICOS\n"
     ]
    },
    {
     "name": "stderr",
     "output_type": "stream",
     "text": [
      "/home/cristina/anaconda3/lib/python3.8/site-packages/deap/creator.py:138: RuntimeWarning: A class named 'FitnessMax' has already been created and it will be overwritten. Consider deleting previous creation of that class or rename it.\n",
      "  warnings.warn(\"A class named '{0}' has already been created and it \"\n",
      "/home/cristina/anaconda3/lib/python3.8/site-packages/deap/creator.py:138: RuntimeWarning: A class named 'Individual' has already been created and it will be overwritten. Consider deleting previous creation of that class or rename it.\n",
      "  warnings.warn(\"A class named '{0}' has already been created and it \"\n"
     ]
    },
    {
     "name": "stdout",
     "output_type": "stream",
     "text": [
      " SE HAN INCLUIDO 29 EJEMPLOS SINTÉTICOS\n"
     ]
    },
    {
     "name": "stderr",
     "output_type": "stream",
     "text": [
      "/home/cristina/anaconda3/lib/python3.8/site-packages/deap/creator.py:138: RuntimeWarning: A class named 'FitnessMax' has already been created and it will be overwritten. Consider deleting previous creation of that class or rename it.\n",
      "  warnings.warn(\"A class named '{0}' has already been created and it \"\n",
      "/home/cristina/anaconda3/lib/python3.8/site-packages/deap/creator.py:138: RuntimeWarning: A class named 'Individual' has already been created and it will be overwritten. Consider deleting previous creation of that class or rename it.\n",
      "  warnings.warn(\"A class named '{0}' has already been created and it \"\n"
     ]
    },
    {
     "name": "stdout",
     "output_type": "stream",
     "text": [
      " SE HAN INCLUIDO 25 EJEMPLOS SINTÉTICOS\n"
     ]
    },
    {
     "name": "stderr",
     "output_type": "stream",
     "text": [
      "/home/cristina/anaconda3/lib/python3.8/site-packages/deap/creator.py:138: RuntimeWarning: A class named 'FitnessMax' has already been created and it will be overwritten. Consider deleting previous creation of that class or rename it.\n",
      "  warnings.warn(\"A class named '{0}' has already been created and it \"\n",
      "/home/cristina/anaconda3/lib/python3.8/site-packages/deap/creator.py:138: RuntimeWarning: A class named 'Individual' has already been created and it will be overwritten. Consider deleting previous creation of that class or rename it.\n",
      "  warnings.warn(\"A class named '{0}' has already been created and it \"\n"
     ]
    },
    {
     "name": "stdout",
     "output_type": "stream",
     "text": [
      " SE HAN INCLUIDO 27 EJEMPLOS SINTÉTICOS\n"
     ]
    },
    {
     "name": "stderr",
     "output_type": "stream",
     "text": [
      "/home/cristina/anaconda3/lib/python3.8/site-packages/deap/creator.py:138: RuntimeWarning: A class named 'FitnessMax' has already been created and it will be overwritten. Consider deleting previous creation of that class or rename it.\n",
      "  warnings.warn(\"A class named '{0}' has already been created and it \"\n",
      "/home/cristina/anaconda3/lib/python3.8/site-packages/deap/creator.py:138: RuntimeWarning: A class named 'Individual' has already been created and it will be overwritten. Consider deleting previous creation of that class or rename it.\n",
      "  warnings.warn(\"A class named '{0}' has already been created and it \"\n"
     ]
    },
    {
     "name": "stdout",
     "output_type": "stream",
     "text": [
      " SE HAN INCLUIDO 27 EJEMPLOS SINTÉTICOS\n"
     ]
    },
    {
     "name": "stderr",
     "output_type": "stream",
     "text": [
      "/home/cristina/anaconda3/lib/python3.8/site-packages/deap/creator.py:138: RuntimeWarning: A class named 'FitnessMax' has already been created and it will be overwritten. Consider deleting previous creation of that class or rename it.\n",
      "  warnings.warn(\"A class named '{0}' has already been created and it \"\n",
      "/home/cristina/anaconda3/lib/python3.8/site-packages/deap/creator.py:138: RuntimeWarning: A class named 'Individual' has already been created and it will be overwritten. Consider deleting previous creation of that class or rename it.\n",
      "  warnings.warn(\"A class named '{0}' has already been created and it \"\n"
     ]
    },
    {
     "name": "stdout",
     "output_type": "stream",
     "text": [
      " SE HAN INCLUIDO 26 EJEMPLOS SINTÉTICOS\n"
     ]
    },
    {
     "name": "stderr",
     "output_type": "stream",
     "text": [
      "/home/cristina/anaconda3/lib/python3.8/site-packages/deap/creator.py:138: RuntimeWarning: A class named 'FitnessMax' has already been created and it will be overwritten. Consider deleting previous creation of that class or rename it.\n",
      "  warnings.warn(\"A class named '{0}' has already been created and it \"\n",
      "/home/cristina/anaconda3/lib/python3.8/site-packages/deap/creator.py:138: RuntimeWarning: A class named 'Individual' has already been created and it will be overwritten. Consider deleting previous creation of that class or rename it.\n",
      "  warnings.warn(\"A class named '{0}' has already been created and it \"\n"
     ]
    },
    {
     "name": "stdout",
     "output_type": "stream",
     "text": [
      " SE HAN INCLUIDO 29 EJEMPLOS SINTÉTICOS\n",
      "Gmean parcial: 87.28715609439696\n"
     ]
    },
    {
     "name": "stderr",
     "output_type": "stream",
     "text": [
      "/home/cristina/anaconda3/lib/python3.8/site-packages/deap/creator.py:138: RuntimeWarning: A class named 'FitnessMin' has already been created and it will be overwritten. Consider deleting previous creation of that class or rename it.\n",
      "  warnings.warn(\"A class named '{0}' has already been created and it \"\n",
      "/home/cristina/anaconda3/lib/python3.8/site-packages/deap/creator.py:138: RuntimeWarning: A class named 'Individual' has already been created and it will be overwritten. Consider deleting previous creation of that class or rename it.\n",
      "  warnings.warn(\"A class named '{0}' has already been created and it \"\n"
     ]
    },
    {
     "name": "stdout",
     "output_type": "stream",
     "text": [
      "Conjunto de entrenamiento original de tamaño: 425\n",
      "De los cuales:\n",
      " \t nº de ejemplos clase MAYORITARIA: 389\n",
      " \t nº de ejemplos clase MINORITARIA: 36\n",
      "nº de ejemplos clase MAYORITARIA tras aplicar DE-guided UNDERSAMPLING: 261\n",
      "Conjunto de entrenamiento actual de tamaño: 297\n"
     ]
    },
    {
     "name": "stderr",
     "output_type": "stream",
     "text": [
      "/home/cristina/anaconda3/lib/python3.8/site-packages/deap/creator.py:138: RuntimeWarning: A class named 'FitnessMax' has already been created and it will be overwritten. Consider deleting previous creation of that class or rename it.\n",
      "  warnings.warn(\"A class named '{0}' has already been created and it \"\n",
      "/home/cristina/anaconda3/lib/python3.8/site-packages/deap/creator.py:138: RuntimeWarning: A class named 'Individual' has already been created and it will be overwritten. Consider deleting previous creation of that class or rename it.\n",
      "  warnings.warn(\"A class named '{0}' has already been created and it \"\n"
     ]
    },
    {
     "name": "stdout",
     "output_type": "stream",
     "text": [
      " SE HAN INCLUIDO 16 EJEMPLOS SINTÉTICOS\n"
     ]
    },
    {
     "name": "stderr",
     "output_type": "stream",
     "text": [
      "/home/cristina/anaconda3/lib/python3.8/site-packages/deap/creator.py:138: RuntimeWarning: A class named 'FitnessMax' has already been created and it will be overwritten. Consider deleting previous creation of that class or rename it.\n",
      "  warnings.warn(\"A class named '{0}' has already been created and it \"\n",
      "/home/cristina/anaconda3/lib/python3.8/site-packages/deap/creator.py:138: RuntimeWarning: A class named 'Individual' has already been created and it will be overwritten. Consider deleting previous creation of that class or rename it.\n",
      "  warnings.warn(\"A class named '{0}' has already been created and it \"\n"
     ]
    },
    {
     "name": "stdout",
     "output_type": "stream",
     "text": [
      " SE HAN INCLUIDO 28 EJEMPLOS SINTÉTICOS\n"
     ]
    },
    {
     "name": "stderr",
     "output_type": "stream",
     "text": [
      "/home/cristina/anaconda3/lib/python3.8/site-packages/deap/creator.py:138: RuntimeWarning: A class named 'FitnessMax' has already been created and it will be overwritten. Consider deleting previous creation of that class or rename it.\n",
      "  warnings.warn(\"A class named '{0}' has already been created and it \"\n",
      "/home/cristina/anaconda3/lib/python3.8/site-packages/deap/creator.py:138: RuntimeWarning: A class named 'Individual' has already been created and it will be overwritten. Consider deleting previous creation of that class or rename it.\n",
      "  warnings.warn(\"A class named '{0}' has already been created and it \"\n"
     ]
    },
    {
     "name": "stdout",
     "output_type": "stream",
     "text": [
      " SE HAN INCLUIDO 24 EJEMPLOS SINTÉTICOS\n"
     ]
    },
    {
     "name": "stderr",
     "output_type": "stream",
     "text": [
      "/home/cristina/anaconda3/lib/python3.8/site-packages/deap/creator.py:138: RuntimeWarning: A class named 'FitnessMax' has already been created and it will be overwritten. Consider deleting previous creation of that class or rename it.\n",
      "  warnings.warn(\"A class named '{0}' has already been created and it \"\n",
      "/home/cristina/anaconda3/lib/python3.8/site-packages/deap/creator.py:138: RuntimeWarning: A class named 'Individual' has already been created and it will be overwritten. Consider deleting previous creation of that class or rename it.\n",
      "  warnings.warn(\"A class named '{0}' has already been created and it \"\n"
     ]
    },
    {
     "name": "stdout",
     "output_type": "stream",
     "text": [
      " SE HAN INCLUIDO 23 EJEMPLOS SINTÉTICOS\n"
     ]
    },
    {
     "name": "stderr",
     "output_type": "stream",
     "text": [
      "/home/cristina/anaconda3/lib/python3.8/site-packages/deap/creator.py:138: RuntimeWarning: A class named 'FitnessMax' has already been created and it will be overwritten. Consider deleting previous creation of that class or rename it.\n",
      "  warnings.warn(\"A class named '{0}' has already been created and it \"\n",
      "/home/cristina/anaconda3/lib/python3.8/site-packages/deap/creator.py:138: RuntimeWarning: A class named 'Individual' has already been created and it will be overwritten. Consider deleting previous creation of that class or rename it.\n",
      "  warnings.warn(\"A class named '{0}' has already been created and it \"\n"
     ]
    },
    {
     "name": "stdout",
     "output_type": "stream",
     "text": [
      " SE HAN INCLUIDO 29 EJEMPLOS SINTÉTICOS\n"
     ]
    },
    {
     "name": "stderr",
     "output_type": "stream",
     "text": [
      "/home/cristina/anaconda3/lib/python3.8/site-packages/deap/creator.py:138: RuntimeWarning: A class named 'FitnessMax' has already been created and it will be overwritten. Consider deleting previous creation of that class or rename it.\n",
      "  warnings.warn(\"A class named '{0}' has already been created and it \"\n",
      "/home/cristina/anaconda3/lib/python3.8/site-packages/deap/creator.py:138: RuntimeWarning: A class named 'Individual' has already been created and it will be overwritten. Consider deleting previous creation of that class or rename it.\n",
      "  warnings.warn(\"A class named '{0}' has already been created and it \"\n"
     ]
    },
    {
     "name": "stdout",
     "output_type": "stream",
     "text": [
      " SE HAN INCLUIDO 27 EJEMPLOS SINTÉTICOS\n"
     ]
    },
    {
     "name": "stderr",
     "output_type": "stream",
     "text": [
      "/home/cristina/anaconda3/lib/python3.8/site-packages/deap/creator.py:138: RuntimeWarning: A class named 'FitnessMax' has already been created and it will be overwritten. Consider deleting previous creation of that class or rename it.\n",
      "  warnings.warn(\"A class named '{0}' has already been created and it \"\n",
      "/home/cristina/anaconda3/lib/python3.8/site-packages/deap/creator.py:138: RuntimeWarning: A class named 'Individual' has already been created and it will be overwritten. Consider deleting previous creation of that class or rename it.\n",
      "  warnings.warn(\"A class named '{0}' has already been created and it \"\n"
     ]
    },
    {
     "name": "stdout",
     "output_type": "stream",
     "text": [
      " SE HAN INCLUIDO 27 EJEMPLOS SINTÉTICOS\n"
     ]
    },
    {
     "name": "stderr",
     "output_type": "stream",
     "text": [
      "/home/cristina/anaconda3/lib/python3.8/site-packages/deap/creator.py:138: RuntimeWarning: A class named 'FitnessMax' has already been created and it will be overwritten. Consider deleting previous creation of that class or rename it.\n",
      "  warnings.warn(\"A class named '{0}' has already been created and it \"\n",
      "/home/cristina/anaconda3/lib/python3.8/site-packages/deap/creator.py:138: RuntimeWarning: A class named 'Individual' has already been created and it will be overwritten. Consider deleting previous creation of that class or rename it.\n",
      "  warnings.warn(\"A class named '{0}' has already been created and it \"\n"
     ]
    },
    {
     "name": "stdout",
     "output_type": "stream",
     "text": [
      " SE HAN INCLUIDO 19 EJEMPLOS SINTÉTICOS\n"
     ]
    },
    {
     "name": "stderr",
     "output_type": "stream",
     "text": [
      "/home/cristina/anaconda3/lib/python3.8/site-packages/deap/creator.py:138: RuntimeWarning: A class named 'FitnessMax' has already been created and it will be overwritten. Consider deleting previous creation of that class or rename it.\n",
      "  warnings.warn(\"A class named '{0}' has already been created and it \"\n",
      "/home/cristina/anaconda3/lib/python3.8/site-packages/deap/creator.py:138: RuntimeWarning: A class named 'Individual' has already been created and it will be overwritten. Consider deleting previous creation of that class or rename it.\n",
      "  warnings.warn(\"A class named '{0}' has already been created and it \"\n"
     ]
    },
    {
     "name": "stdout",
     "output_type": "stream",
     "text": [
      " SE HAN INCLUIDO 19 EJEMPLOS SINTÉTICOS\n"
     ]
    },
    {
     "name": "stderr",
     "output_type": "stream",
     "text": [
      "/home/cristina/anaconda3/lib/python3.8/site-packages/deap/creator.py:138: RuntimeWarning: A class named 'FitnessMax' has already been created and it will be overwritten. Consider deleting previous creation of that class or rename it.\n",
      "  warnings.warn(\"A class named '{0}' has already been created and it \"\n",
      "/home/cristina/anaconda3/lib/python3.8/site-packages/deap/creator.py:138: RuntimeWarning: A class named 'Individual' has already been created and it will be overwritten. Consider deleting previous creation of that class or rename it.\n",
      "  warnings.warn(\"A class named '{0}' has already been created and it \"\n"
     ]
    },
    {
     "name": "stdout",
     "output_type": "stream",
     "text": [
      " SE HAN INCLUIDO 15 EJEMPLOS SINTÉTICOS\n",
      "Gmean parcial: 81.6496580927726\n"
     ]
    },
    {
     "name": "stderr",
     "output_type": "stream",
     "text": [
      "/home/cristina/anaconda3/lib/python3.8/site-packages/deap/creator.py:138: RuntimeWarning: A class named 'FitnessMin' has already been created and it will be overwritten. Consider deleting previous creation of that class or rename it.\n",
      "  warnings.warn(\"A class named '{0}' has already been created and it \"\n",
      "/home/cristina/anaconda3/lib/python3.8/site-packages/deap/creator.py:138: RuntimeWarning: A class named 'Individual' has already been created and it will be overwritten. Consider deleting previous creation of that class or rename it.\n",
      "  warnings.warn(\"A class named '{0}' has already been created and it \"\n"
     ]
    },
    {
     "name": "stdout",
     "output_type": "stream",
     "text": [
      "Conjunto de entrenamiento original de tamaño: 425\n",
      "De los cuales:\n",
      " \t nº de ejemplos clase MAYORITARIA: 389\n",
      " \t nº de ejemplos clase MINORITARIA: 36\n",
      "nº de ejemplos clase MAYORITARIA tras aplicar DE-guided UNDERSAMPLING: 281\n",
      "Conjunto de entrenamiento actual de tamaño: 317\n"
     ]
    },
    {
     "name": "stderr",
     "output_type": "stream",
     "text": [
      "/home/cristina/anaconda3/lib/python3.8/site-packages/deap/creator.py:138: RuntimeWarning: A class named 'FitnessMax' has already been created and it will be overwritten. Consider deleting previous creation of that class or rename it.\n",
      "  warnings.warn(\"A class named '{0}' has already been created and it \"\n",
      "/home/cristina/anaconda3/lib/python3.8/site-packages/deap/creator.py:138: RuntimeWarning: A class named 'Individual' has already been created and it will be overwritten. Consider deleting previous creation of that class or rename it.\n",
      "  warnings.warn(\"A class named '{0}' has already been created and it \"\n"
     ]
    },
    {
     "name": "stdout",
     "output_type": "stream",
     "text": [
      " SE HAN INCLUIDO 25 EJEMPLOS SINTÉTICOS\n"
     ]
    },
    {
     "name": "stderr",
     "output_type": "stream",
     "text": [
      "/home/cristina/anaconda3/lib/python3.8/site-packages/deap/creator.py:138: RuntimeWarning: A class named 'FitnessMax' has already been created and it will be overwritten. Consider deleting previous creation of that class or rename it.\n",
      "  warnings.warn(\"A class named '{0}' has already been created and it \"\n",
      "/home/cristina/anaconda3/lib/python3.8/site-packages/deap/creator.py:138: RuntimeWarning: A class named 'Individual' has already been created and it will be overwritten. Consider deleting previous creation of that class or rename it.\n",
      "  warnings.warn(\"A class named '{0}' has already been created and it \"\n"
     ]
    },
    {
     "name": "stdout",
     "output_type": "stream",
     "text": [
      " SE HAN INCLUIDO 27 EJEMPLOS SINTÉTICOS\n"
     ]
    },
    {
     "name": "stderr",
     "output_type": "stream",
     "text": [
      "/home/cristina/anaconda3/lib/python3.8/site-packages/deap/creator.py:138: RuntimeWarning: A class named 'FitnessMax' has already been created and it will be overwritten. Consider deleting previous creation of that class or rename it.\n",
      "  warnings.warn(\"A class named '{0}' has already been created and it \"\n",
      "/home/cristina/anaconda3/lib/python3.8/site-packages/deap/creator.py:138: RuntimeWarning: A class named 'Individual' has already been created and it will be overwritten. Consider deleting previous creation of that class or rename it.\n",
      "  warnings.warn(\"A class named '{0}' has already been created and it \"\n"
     ]
    },
    {
     "name": "stdout",
     "output_type": "stream",
     "text": [
      " SE HAN INCLUIDO 20 EJEMPLOS SINTÉTICOS\n"
     ]
    },
    {
     "name": "stderr",
     "output_type": "stream",
     "text": [
      "/home/cristina/anaconda3/lib/python3.8/site-packages/deap/creator.py:138: RuntimeWarning: A class named 'FitnessMax' has already been created and it will be overwritten. Consider deleting previous creation of that class or rename it.\n",
      "  warnings.warn(\"A class named '{0}' has already been created and it \"\n",
      "/home/cristina/anaconda3/lib/python3.8/site-packages/deap/creator.py:138: RuntimeWarning: A class named 'Individual' has already been created and it will be overwritten. Consider deleting previous creation of that class or rename it.\n",
      "  warnings.warn(\"A class named '{0}' has already been created and it \"\n"
     ]
    },
    {
     "name": "stdout",
     "output_type": "stream",
     "text": [
      " SE HAN INCLUIDO 18 EJEMPLOS SINTÉTICOS\n"
     ]
    },
    {
     "name": "stderr",
     "output_type": "stream",
     "text": [
      "/home/cristina/anaconda3/lib/python3.8/site-packages/deap/creator.py:138: RuntimeWarning: A class named 'FitnessMax' has already been created and it will be overwritten. Consider deleting previous creation of that class or rename it.\n",
      "  warnings.warn(\"A class named '{0}' has already been created and it \"\n",
      "/home/cristina/anaconda3/lib/python3.8/site-packages/deap/creator.py:138: RuntimeWarning: A class named 'Individual' has already been created and it will be overwritten. Consider deleting previous creation of that class or rename it.\n",
      "  warnings.warn(\"A class named '{0}' has already been created and it \"\n"
     ]
    },
    {
     "name": "stdout",
     "output_type": "stream",
     "text": [
      " SE HAN INCLUIDO 25 EJEMPLOS SINTÉTICOS\n"
     ]
    },
    {
     "name": "stderr",
     "output_type": "stream",
     "text": [
      "/home/cristina/anaconda3/lib/python3.8/site-packages/deap/creator.py:138: RuntimeWarning: A class named 'FitnessMax' has already been created and it will be overwritten. Consider deleting previous creation of that class or rename it.\n",
      "  warnings.warn(\"A class named '{0}' has already been created and it \"\n",
      "/home/cristina/anaconda3/lib/python3.8/site-packages/deap/creator.py:138: RuntimeWarning: A class named 'Individual' has already been created and it will be overwritten. Consider deleting previous creation of that class or rename it.\n",
      "  warnings.warn(\"A class named '{0}' has already been created and it \"\n"
     ]
    },
    {
     "name": "stdout",
     "output_type": "stream",
     "text": [
      " SE HAN INCLUIDO 26 EJEMPLOS SINTÉTICOS\n"
     ]
    },
    {
     "name": "stderr",
     "output_type": "stream",
     "text": [
      "/home/cristina/anaconda3/lib/python3.8/site-packages/deap/creator.py:138: RuntimeWarning: A class named 'FitnessMax' has already been created and it will be overwritten. Consider deleting previous creation of that class or rename it.\n",
      "  warnings.warn(\"A class named '{0}' has already been created and it \"\n",
      "/home/cristina/anaconda3/lib/python3.8/site-packages/deap/creator.py:138: RuntimeWarning: A class named 'Individual' has already been created and it will be overwritten. Consider deleting previous creation of that class or rename it.\n",
      "  warnings.warn(\"A class named '{0}' has already been created and it \"\n"
     ]
    },
    {
     "name": "stdout",
     "output_type": "stream",
     "text": [
      " SE HAN INCLUIDO 17 EJEMPLOS SINTÉTICOS\n"
     ]
    },
    {
     "name": "stderr",
     "output_type": "stream",
     "text": [
      "/home/cristina/anaconda3/lib/python3.8/site-packages/deap/creator.py:138: RuntimeWarning: A class named 'FitnessMax' has already been created and it will be overwritten. Consider deleting previous creation of that class or rename it.\n",
      "  warnings.warn(\"A class named '{0}' has already been created and it \"\n",
      "/home/cristina/anaconda3/lib/python3.8/site-packages/deap/creator.py:138: RuntimeWarning: A class named 'Individual' has already been created and it will be overwritten. Consider deleting previous creation of that class or rename it.\n",
      "  warnings.warn(\"A class named '{0}' has already been created and it \"\n"
     ]
    },
    {
     "name": "stdout",
     "output_type": "stream",
     "text": [
      " SE HAN INCLUIDO 23 EJEMPLOS SINTÉTICOS\n"
     ]
    },
    {
     "name": "stderr",
     "output_type": "stream",
     "text": [
      "/home/cristina/anaconda3/lib/python3.8/site-packages/deap/creator.py:138: RuntimeWarning: A class named 'FitnessMax' has already been created and it will be overwritten. Consider deleting previous creation of that class or rename it.\n",
      "  warnings.warn(\"A class named '{0}' has already been created and it \"\n",
      "/home/cristina/anaconda3/lib/python3.8/site-packages/deap/creator.py:138: RuntimeWarning: A class named 'Individual' has already been created and it will be overwritten. Consider deleting previous creation of that class or rename it.\n",
      "  warnings.warn(\"A class named '{0}' has already been created and it \"\n"
     ]
    },
    {
     "name": "stdout",
     "output_type": "stream",
     "text": [
      " SE HAN INCLUIDO 21 EJEMPLOS SINTÉTICOS\n"
     ]
    },
    {
     "name": "stderr",
     "output_type": "stream",
     "text": [
      "/home/cristina/anaconda3/lib/python3.8/site-packages/deap/creator.py:138: RuntimeWarning: A class named 'FitnessMax' has already been created and it will be overwritten. Consider deleting previous creation of that class or rename it.\n",
      "  warnings.warn(\"A class named '{0}' has already been created and it \"\n",
      "/home/cristina/anaconda3/lib/python3.8/site-packages/deap/creator.py:138: RuntimeWarning: A class named 'Individual' has already been created and it will be overwritten. Consider deleting previous creation of that class or rename it.\n",
      "  warnings.warn(\"A class named '{0}' has already been created and it \"\n"
     ]
    },
    {
     "name": "stdout",
     "output_type": "stream",
     "text": [
      " SE HAN INCLUIDO 24 EJEMPLOS SINTÉTICOS\n",
      "Gmean parcial: 100.0\n"
     ]
    },
    {
     "name": "stderr",
     "output_type": "stream",
     "text": [
      "/home/cristina/anaconda3/lib/python3.8/site-packages/deap/creator.py:138: RuntimeWarning: A class named 'FitnessMin' has already been created and it will be overwritten. Consider deleting previous creation of that class or rename it.\n",
      "  warnings.warn(\"A class named '{0}' has already been created and it \"\n",
      "/home/cristina/anaconda3/lib/python3.8/site-packages/deap/creator.py:138: RuntimeWarning: A class named 'Individual' has already been created and it will be overwritten. Consider deleting previous creation of that class or rename it.\n",
      "  warnings.warn(\"A class named '{0}' has already been created and it \"\n"
     ]
    },
    {
     "name": "stdout",
     "output_type": "stream",
     "text": [
      "Conjunto de entrenamiento original de tamaño: 425\n",
      "De los cuales:\n",
      " \t nº de ejemplos clase MAYORITARIA: 389\n",
      " \t nº de ejemplos clase MINORITARIA: 36\n",
      "nº de ejemplos clase MAYORITARIA tras aplicar DE-guided UNDERSAMPLING: 270\n",
      "Conjunto de entrenamiento actual de tamaño: 306\n"
     ]
    },
    {
     "name": "stderr",
     "output_type": "stream",
     "text": [
      "/home/cristina/anaconda3/lib/python3.8/site-packages/deap/creator.py:138: RuntimeWarning: A class named 'FitnessMax' has already been created and it will be overwritten. Consider deleting previous creation of that class or rename it.\n",
      "  warnings.warn(\"A class named '{0}' has already been created and it \"\n",
      "/home/cristina/anaconda3/lib/python3.8/site-packages/deap/creator.py:138: RuntimeWarning: A class named 'Individual' has already been created and it will be overwritten. Consider deleting previous creation of that class or rename it.\n",
      "  warnings.warn(\"A class named '{0}' has already been created and it \"\n"
     ]
    },
    {
     "name": "stdout",
     "output_type": "stream",
     "text": [
      " SE HAN INCLUIDO 27 EJEMPLOS SINTÉTICOS\n"
     ]
    },
    {
     "name": "stderr",
     "output_type": "stream",
     "text": [
      "/home/cristina/anaconda3/lib/python3.8/site-packages/deap/creator.py:138: RuntimeWarning: A class named 'FitnessMax' has already been created and it will be overwritten. Consider deleting previous creation of that class or rename it.\n",
      "  warnings.warn(\"A class named '{0}' has already been created and it \"\n",
      "/home/cristina/anaconda3/lib/python3.8/site-packages/deap/creator.py:138: RuntimeWarning: A class named 'Individual' has already been created and it will be overwritten. Consider deleting previous creation of that class or rename it.\n",
      "  warnings.warn(\"A class named '{0}' has already been created and it \"\n"
     ]
    },
    {
     "name": "stdout",
     "output_type": "stream",
     "text": [
      " SE HAN INCLUIDO 29 EJEMPLOS SINTÉTICOS\n"
     ]
    },
    {
     "name": "stderr",
     "output_type": "stream",
     "text": [
      "/home/cristina/anaconda3/lib/python3.8/site-packages/deap/creator.py:138: RuntimeWarning: A class named 'FitnessMax' has already been created and it will be overwritten. Consider deleting previous creation of that class or rename it.\n",
      "  warnings.warn(\"A class named '{0}' has already been created and it \"\n",
      "/home/cristina/anaconda3/lib/python3.8/site-packages/deap/creator.py:138: RuntimeWarning: A class named 'Individual' has already been created and it will be overwritten. Consider deleting previous creation of that class or rename it.\n",
      "  warnings.warn(\"A class named '{0}' has already been created and it \"\n"
     ]
    },
    {
     "name": "stdout",
     "output_type": "stream",
     "text": [
      " SE HAN INCLUIDO 30 EJEMPLOS SINTÉTICOS\n"
     ]
    },
    {
     "name": "stderr",
     "output_type": "stream",
     "text": [
      "/home/cristina/anaconda3/lib/python3.8/site-packages/deap/creator.py:138: RuntimeWarning: A class named 'FitnessMax' has already been created and it will be overwritten. Consider deleting previous creation of that class or rename it.\n",
      "  warnings.warn(\"A class named '{0}' has already been created and it \"\n",
      "/home/cristina/anaconda3/lib/python3.8/site-packages/deap/creator.py:138: RuntimeWarning: A class named 'Individual' has already been created and it will be overwritten. Consider deleting previous creation of that class or rename it.\n",
      "  warnings.warn(\"A class named '{0}' has already been created and it \"\n"
     ]
    },
    {
     "name": "stdout",
     "output_type": "stream",
     "text": [
      " SE HAN INCLUIDO 23 EJEMPLOS SINTÉTICOS\n"
     ]
    },
    {
     "name": "stderr",
     "output_type": "stream",
     "text": [
      "/home/cristina/anaconda3/lib/python3.8/site-packages/deap/creator.py:138: RuntimeWarning: A class named 'FitnessMax' has already been created and it will be overwritten. Consider deleting previous creation of that class or rename it.\n",
      "  warnings.warn(\"A class named '{0}' has already been created and it \"\n",
      "/home/cristina/anaconda3/lib/python3.8/site-packages/deap/creator.py:138: RuntimeWarning: A class named 'Individual' has already been created and it will be overwritten. Consider deleting previous creation of that class or rename it.\n",
      "  warnings.warn(\"A class named '{0}' has already been created and it \"\n"
     ]
    },
    {
     "name": "stdout",
     "output_type": "stream",
     "text": [
      " SE HAN INCLUIDO 29 EJEMPLOS SINTÉTICOS\n"
     ]
    },
    {
     "name": "stderr",
     "output_type": "stream",
     "text": [
      "/home/cristina/anaconda3/lib/python3.8/site-packages/deap/creator.py:138: RuntimeWarning: A class named 'FitnessMax' has already been created and it will be overwritten. Consider deleting previous creation of that class or rename it.\n",
      "  warnings.warn(\"A class named '{0}' has already been created and it \"\n",
      "/home/cristina/anaconda3/lib/python3.8/site-packages/deap/creator.py:138: RuntimeWarning: A class named 'Individual' has already been created and it will be overwritten. Consider deleting previous creation of that class or rename it.\n",
      "  warnings.warn(\"A class named '{0}' has already been created and it \"\n"
     ]
    },
    {
     "name": "stdout",
     "output_type": "stream",
     "text": [
      " SE HAN INCLUIDO 29 EJEMPLOS SINTÉTICOS\n"
     ]
    },
    {
     "name": "stderr",
     "output_type": "stream",
     "text": [
      "/home/cristina/anaconda3/lib/python3.8/site-packages/deap/creator.py:138: RuntimeWarning: A class named 'FitnessMax' has already been created and it will be overwritten. Consider deleting previous creation of that class or rename it.\n",
      "  warnings.warn(\"A class named '{0}' has already been created and it \"\n",
      "/home/cristina/anaconda3/lib/python3.8/site-packages/deap/creator.py:138: RuntimeWarning: A class named 'Individual' has already been created and it will be overwritten. Consider deleting previous creation of that class or rename it.\n",
      "  warnings.warn(\"A class named '{0}' has already been created and it \"\n"
     ]
    },
    {
     "name": "stdout",
     "output_type": "stream",
     "text": [
      " SE HAN INCLUIDO 31 EJEMPLOS SINTÉTICOS\n"
     ]
    },
    {
     "name": "stderr",
     "output_type": "stream",
     "text": [
      "/home/cristina/anaconda3/lib/python3.8/site-packages/deap/creator.py:138: RuntimeWarning: A class named 'FitnessMax' has already been created and it will be overwritten. Consider deleting previous creation of that class or rename it.\n",
      "  warnings.warn(\"A class named '{0}' has already been created and it \"\n",
      "/home/cristina/anaconda3/lib/python3.8/site-packages/deap/creator.py:138: RuntimeWarning: A class named 'Individual' has already been created and it will be overwritten. Consider deleting previous creation of that class or rename it.\n",
      "  warnings.warn(\"A class named '{0}' has already been created and it \"\n"
     ]
    },
    {
     "name": "stdout",
     "output_type": "stream",
     "text": [
      " SE HAN INCLUIDO 20 EJEMPLOS SINTÉTICOS\n"
     ]
    },
    {
     "name": "stderr",
     "output_type": "stream",
     "text": [
      "/home/cristina/anaconda3/lib/python3.8/site-packages/deap/creator.py:138: RuntimeWarning: A class named 'FitnessMax' has already been created and it will be overwritten. Consider deleting previous creation of that class or rename it.\n",
      "  warnings.warn(\"A class named '{0}' has already been created and it \"\n",
      "/home/cristina/anaconda3/lib/python3.8/site-packages/deap/creator.py:138: RuntimeWarning: A class named 'Individual' has already been created and it will be overwritten. Consider deleting previous creation of that class or rename it.\n",
      "  warnings.warn(\"A class named '{0}' has already been created and it \"\n"
     ]
    },
    {
     "name": "stdout",
     "output_type": "stream",
     "text": [
      " SE HAN INCLUIDO 22 EJEMPLOS SINTÉTICOS\n"
     ]
    },
    {
     "name": "stderr",
     "output_type": "stream",
     "text": [
      "/home/cristina/anaconda3/lib/python3.8/site-packages/deap/creator.py:138: RuntimeWarning: A class named 'FitnessMax' has already been created and it will be overwritten. Consider deleting previous creation of that class or rename it.\n",
      "  warnings.warn(\"A class named '{0}' has already been created and it \"\n",
      "/home/cristina/anaconda3/lib/python3.8/site-packages/deap/creator.py:138: RuntimeWarning: A class named 'Individual' has already been created and it will be overwritten. Consider deleting previous creation of that class or rename it.\n",
      "  warnings.warn(\"A class named '{0}' has already been created and it \"\n"
     ]
    },
    {
     "name": "stdout",
     "output_type": "stream",
     "text": [
      " SE HAN INCLUIDO 32 EJEMPLOS SINTÉTICOS\n",
      "Gmean parcial: 87.27778197031962\n"
     ]
    },
    {
     "name": "stderr",
     "output_type": "stream",
     "text": [
      "/home/cristina/anaconda3/lib/python3.8/site-packages/deap/creator.py:138: RuntimeWarning: A class named 'FitnessMin' has already been created and it will be overwritten. Consider deleting previous creation of that class or rename it.\n",
      "  warnings.warn(\"A class named '{0}' has already been created and it \"\n",
      "/home/cristina/anaconda3/lib/python3.8/site-packages/deap/creator.py:138: RuntimeWarning: A class named 'Individual' has already been created and it will be overwritten. Consider deleting previous creation of that class or rename it.\n",
      "  warnings.warn(\"A class named '{0}' has already been created and it \"\n"
     ]
    },
    {
     "name": "stdout",
     "output_type": "stream",
     "text": [
      "Conjunto de entrenamiento original de tamaño: 425\n",
      "De los cuales:\n",
      " \t nº de ejemplos clase MAYORITARIA: 389\n",
      " \t nº de ejemplos clase MINORITARIA: 36\n",
      "nº de ejemplos clase MAYORITARIA tras aplicar DE-guided UNDERSAMPLING: 267\n",
      "Conjunto de entrenamiento actual de tamaño: 303\n"
     ]
    },
    {
     "name": "stderr",
     "output_type": "stream",
     "text": [
      "/home/cristina/anaconda3/lib/python3.8/site-packages/deap/creator.py:138: RuntimeWarning: A class named 'FitnessMax' has already been created and it will be overwritten. Consider deleting previous creation of that class or rename it.\n",
      "  warnings.warn(\"A class named '{0}' has already been created and it \"\n",
      "/home/cristina/anaconda3/lib/python3.8/site-packages/deap/creator.py:138: RuntimeWarning: A class named 'Individual' has already been created and it will be overwritten. Consider deleting previous creation of that class or rename it.\n",
      "  warnings.warn(\"A class named '{0}' has already been created and it \"\n"
     ]
    },
    {
     "name": "stdout",
     "output_type": "stream",
     "text": [
      " SE HAN INCLUIDO 31 EJEMPLOS SINTÉTICOS\n"
     ]
    },
    {
     "name": "stderr",
     "output_type": "stream",
     "text": [
      "/home/cristina/anaconda3/lib/python3.8/site-packages/deap/creator.py:138: RuntimeWarning: A class named 'FitnessMax' has already been created and it will be overwritten. Consider deleting previous creation of that class or rename it.\n",
      "  warnings.warn(\"A class named '{0}' has already been created and it \"\n",
      "/home/cristina/anaconda3/lib/python3.8/site-packages/deap/creator.py:138: RuntimeWarning: A class named 'Individual' has already been created and it will be overwritten. Consider deleting previous creation of that class or rename it.\n",
      "  warnings.warn(\"A class named '{0}' has already been created and it \"\n"
     ]
    },
    {
     "name": "stdout",
     "output_type": "stream",
     "text": [
      " SE HAN INCLUIDO 23 EJEMPLOS SINTÉTICOS\n"
     ]
    },
    {
     "name": "stderr",
     "output_type": "stream",
     "text": [
      "/home/cristina/anaconda3/lib/python3.8/site-packages/deap/creator.py:138: RuntimeWarning: A class named 'FitnessMax' has already been created and it will be overwritten. Consider deleting previous creation of that class or rename it.\n",
      "  warnings.warn(\"A class named '{0}' has already been created and it \"\n",
      "/home/cristina/anaconda3/lib/python3.8/site-packages/deap/creator.py:138: RuntimeWarning: A class named 'Individual' has already been created and it will be overwritten. Consider deleting previous creation of that class or rename it.\n",
      "  warnings.warn(\"A class named '{0}' has already been created and it \"\n"
     ]
    },
    {
     "name": "stdout",
     "output_type": "stream",
     "text": [
      " SE HAN INCLUIDO 25 EJEMPLOS SINTÉTICOS\n"
     ]
    },
    {
     "name": "stderr",
     "output_type": "stream",
     "text": [
      "/home/cristina/anaconda3/lib/python3.8/site-packages/deap/creator.py:138: RuntimeWarning: A class named 'FitnessMax' has already been created and it will be overwritten. Consider deleting previous creation of that class or rename it.\n",
      "  warnings.warn(\"A class named '{0}' has already been created and it \"\n",
      "/home/cristina/anaconda3/lib/python3.8/site-packages/deap/creator.py:138: RuntimeWarning: A class named 'Individual' has already been created and it will be overwritten. Consider deleting previous creation of that class or rename it.\n",
      "  warnings.warn(\"A class named '{0}' has already been created and it \"\n"
     ]
    },
    {
     "name": "stdout",
     "output_type": "stream",
     "text": [
      " SE HAN INCLUIDO 23 EJEMPLOS SINTÉTICOS\n"
     ]
    },
    {
     "name": "stderr",
     "output_type": "stream",
     "text": [
      "/home/cristina/anaconda3/lib/python3.8/site-packages/deap/creator.py:138: RuntimeWarning: A class named 'FitnessMax' has already been created and it will be overwritten. Consider deleting previous creation of that class or rename it.\n",
      "  warnings.warn(\"A class named '{0}' has already been created and it \"\n",
      "/home/cristina/anaconda3/lib/python3.8/site-packages/deap/creator.py:138: RuntimeWarning: A class named 'Individual' has already been created and it will be overwritten. Consider deleting previous creation of that class or rename it.\n",
      "  warnings.warn(\"A class named '{0}' has already been created and it \"\n"
     ]
    },
    {
     "name": "stdout",
     "output_type": "stream",
     "text": [
      " SE HAN INCLUIDO 29 EJEMPLOS SINTÉTICOS\n"
     ]
    },
    {
     "name": "stderr",
     "output_type": "stream",
     "text": [
      "/home/cristina/anaconda3/lib/python3.8/site-packages/deap/creator.py:138: RuntimeWarning: A class named 'FitnessMax' has already been created and it will be overwritten. Consider deleting previous creation of that class or rename it.\n",
      "  warnings.warn(\"A class named '{0}' has already been created and it \"\n",
      "/home/cristina/anaconda3/lib/python3.8/site-packages/deap/creator.py:138: RuntimeWarning: A class named 'Individual' has already been created and it will be overwritten. Consider deleting previous creation of that class or rename it.\n",
      "  warnings.warn(\"A class named '{0}' has already been created and it \"\n"
     ]
    },
    {
     "name": "stdout",
     "output_type": "stream",
     "text": [
      " SE HAN INCLUIDO 22 EJEMPLOS SINTÉTICOS\n"
     ]
    },
    {
     "name": "stderr",
     "output_type": "stream",
     "text": [
      "/home/cristina/anaconda3/lib/python3.8/site-packages/deap/creator.py:138: RuntimeWarning: A class named 'FitnessMax' has already been created and it will be overwritten. Consider deleting previous creation of that class or rename it.\n",
      "  warnings.warn(\"A class named '{0}' has already been created and it \"\n",
      "/home/cristina/anaconda3/lib/python3.8/site-packages/deap/creator.py:138: RuntimeWarning: A class named 'Individual' has already been created and it will be overwritten. Consider deleting previous creation of that class or rename it.\n",
      "  warnings.warn(\"A class named '{0}' has already been created and it \"\n"
     ]
    },
    {
     "name": "stdout",
     "output_type": "stream",
     "text": [
      " SE HAN INCLUIDO 20 EJEMPLOS SINTÉTICOS\n"
     ]
    },
    {
     "name": "stderr",
     "output_type": "stream",
     "text": [
      "/home/cristina/anaconda3/lib/python3.8/site-packages/deap/creator.py:138: RuntimeWarning: A class named 'FitnessMax' has already been created and it will be overwritten. Consider deleting previous creation of that class or rename it.\n",
      "  warnings.warn(\"A class named '{0}' has already been created and it \"\n",
      "/home/cristina/anaconda3/lib/python3.8/site-packages/deap/creator.py:138: RuntimeWarning: A class named 'Individual' has already been created and it will be overwritten. Consider deleting previous creation of that class or rename it.\n",
      "  warnings.warn(\"A class named '{0}' has already been created and it \"\n"
     ]
    },
    {
     "name": "stdout",
     "output_type": "stream",
     "text": [
      " SE HAN INCLUIDO 24 EJEMPLOS SINTÉTICOS\n"
     ]
    },
    {
     "name": "stderr",
     "output_type": "stream",
     "text": [
      "/home/cristina/anaconda3/lib/python3.8/site-packages/deap/creator.py:138: RuntimeWarning: A class named 'FitnessMax' has already been created and it will be overwritten. Consider deleting previous creation of that class or rename it.\n",
      "  warnings.warn(\"A class named '{0}' has already been created and it \"\n",
      "/home/cristina/anaconda3/lib/python3.8/site-packages/deap/creator.py:138: RuntimeWarning: A class named 'Individual' has already been created and it will be overwritten. Consider deleting previous creation of that class or rename it.\n",
      "  warnings.warn(\"A class named '{0}' has already been created and it \"\n"
     ]
    },
    {
     "name": "stdout",
     "output_type": "stream",
     "text": [
      " SE HAN INCLUIDO 22 EJEMPLOS SINTÉTICOS\n"
     ]
    },
    {
     "name": "stderr",
     "output_type": "stream",
     "text": [
      "/home/cristina/anaconda3/lib/python3.8/site-packages/deap/creator.py:138: RuntimeWarning: A class named 'FitnessMax' has already been created and it will be overwritten. Consider deleting previous creation of that class or rename it.\n",
      "  warnings.warn(\"A class named '{0}' has already been created and it \"\n",
      "/home/cristina/anaconda3/lib/python3.8/site-packages/deap/creator.py:138: RuntimeWarning: A class named 'Individual' has already been created and it will be overwritten. Consider deleting previous creation of that class or rename it.\n",
      "  warnings.warn(\"A class named '{0}' has already been created and it \"\n"
     ]
    },
    {
     "name": "stdout",
     "output_type": "stream",
     "text": [
      " SE HAN INCLUIDO 28 EJEMPLOS SINTÉTICOS\n",
      "Gmean parcial: 87.73593620471723\n",
      "[87.28715609439696, 81.6496580927726, 100.0, 87.27778197031962, 87.73593620471723]\n",
      "Rendimiento del clasificador DERSBoost: 88.79010647244128\n",
      "Tiempo medio de entrenamiento: 259.8675639629364\n",
      "\n",
      "LIBRAS_MOVE\n",
      "Dataset of size (360, 90)\n",
      "There are 336 instances for the majoritary class\n",
      "There are 24 instanes for the minoritary class\n",
      "IR of the dataset:  14.0\n"
     ]
    },
    {
     "name": "stderr",
     "output_type": "stream",
     "text": [
      "/home/cristina/anaconda3/lib/python3.8/site-packages/deap/creator.py:138: RuntimeWarning: A class named 'FitnessMin' has already been created and it will be overwritten. Consider deleting previous creation of that class or rename it.\n",
      "  warnings.warn(\"A class named '{0}' has already been created and it \"\n",
      "/home/cristina/anaconda3/lib/python3.8/site-packages/deap/creator.py:138: RuntimeWarning: A class named 'Individual' has already been created and it will be overwritten. Consider deleting previous creation of that class or rename it.\n",
      "  warnings.warn(\"A class named '{0}' has already been created and it \"\n"
     ]
    },
    {
     "name": "stdout",
     "output_type": "stream",
     "text": [
      "Conjunto de entrenamiento original de tamaño: 288\n",
      "De los cuales:\n",
      " \t nº de ejemplos clase MAYORITARIA: 269\n",
      " \t nº de ejemplos clase MINORITARIA: 19\n",
      "nº de ejemplos clase MAYORITARIA tras aplicar DE-guided UNDERSAMPLING: 170\n",
      "Conjunto de entrenamiento actual de tamaño: 189\n"
     ]
    },
    {
     "name": "stderr",
     "output_type": "stream",
     "text": [
      "/home/cristina/anaconda3/lib/python3.8/site-packages/deap/creator.py:138: RuntimeWarning: A class named 'FitnessMax' has already been created and it will be overwritten. Consider deleting previous creation of that class or rename it.\n",
      "  warnings.warn(\"A class named '{0}' has already been created and it \"\n",
      "/home/cristina/anaconda3/lib/python3.8/site-packages/deap/creator.py:138: RuntimeWarning: A class named 'Individual' has already been created and it will be overwritten. Consider deleting previous creation of that class or rename it.\n",
      "  warnings.warn(\"A class named '{0}' has already been created and it \"\n"
     ]
    },
    {
     "name": "stdout",
     "output_type": "stream",
     "text": [
      " SE HAN INCLUIDO 10 EJEMPLOS SINTÉTICOS\n"
     ]
    },
    {
     "name": "stderr",
     "output_type": "stream",
     "text": [
      "/home/cristina/anaconda3/lib/python3.8/site-packages/deap/creator.py:138: RuntimeWarning: A class named 'FitnessMax' has already been created and it will be overwritten. Consider deleting previous creation of that class or rename it.\n",
      "  warnings.warn(\"A class named '{0}' has already been created and it \"\n",
      "/home/cristina/anaconda3/lib/python3.8/site-packages/deap/creator.py:138: RuntimeWarning: A class named 'Individual' has already been created and it will be overwritten. Consider deleting previous creation of that class or rename it.\n",
      "  warnings.warn(\"A class named '{0}' has already been created and it \"\n"
     ]
    },
    {
     "name": "stdout",
     "output_type": "stream",
     "text": [
      " SE HAN INCLUIDO 15 EJEMPLOS SINTÉTICOS\n"
     ]
    },
    {
     "name": "stderr",
     "output_type": "stream",
     "text": [
      "/home/cristina/anaconda3/lib/python3.8/site-packages/deap/creator.py:138: RuntimeWarning: A class named 'FitnessMax' has already been created and it will be overwritten. Consider deleting previous creation of that class or rename it.\n",
      "  warnings.warn(\"A class named '{0}' has already been created and it \"\n",
      "/home/cristina/anaconda3/lib/python3.8/site-packages/deap/creator.py:138: RuntimeWarning: A class named 'Individual' has already been created and it will be overwritten. Consider deleting previous creation of that class or rename it.\n",
      "  warnings.warn(\"A class named '{0}' has already been created and it \"\n"
     ]
    },
    {
     "name": "stdout",
     "output_type": "stream",
     "text": [
      " SE HAN INCLUIDO 10 EJEMPLOS SINTÉTICOS\n"
     ]
    },
    {
     "name": "stderr",
     "output_type": "stream",
     "text": [
      "/home/cristina/anaconda3/lib/python3.8/site-packages/deap/creator.py:138: RuntimeWarning: A class named 'FitnessMax' has already been created and it will be overwritten. Consider deleting previous creation of that class or rename it.\n",
      "  warnings.warn(\"A class named '{0}' has already been created and it \"\n",
      "/home/cristina/anaconda3/lib/python3.8/site-packages/deap/creator.py:138: RuntimeWarning: A class named 'Individual' has already been created and it will be overwritten. Consider deleting previous creation of that class or rename it.\n",
      "  warnings.warn(\"A class named '{0}' has already been created and it \"\n"
     ]
    },
    {
     "name": "stdout",
     "output_type": "stream",
     "text": [
      " SE HAN INCLUIDO 10 EJEMPLOS SINTÉTICOS\n"
     ]
    },
    {
     "name": "stderr",
     "output_type": "stream",
     "text": [
      "/home/cristina/anaconda3/lib/python3.8/site-packages/deap/creator.py:138: RuntimeWarning: A class named 'FitnessMax' has already been created and it will be overwritten. Consider deleting previous creation of that class or rename it.\n",
      "  warnings.warn(\"A class named '{0}' has already been created and it \"\n",
      "/home/cristina/anaconda3/lib/python3.8/site-packages/deap/creator.py:138: RuntimeWarning: A class named 'Individual' has already been created and it will be overwritten. Consider deleting previous creation of that class or rename it.\n",
      "  warnings.warn(\"A class named '{0}' has already been created and it \"\n"
     ]
    },
    {
     "name": "stdout",
     "output_type": "stream",
     "text": [
      " SE HAN INCLUIDO 11 EJEMPLOS SINTÉTICOS\n"
     ]
    },
    {
     "name": "stderr",
     "output_type": "stream",
     "text": [
      "/home/cristina/anaconda3/lib/python3.8/site-packages/deap/creator.py:138: RuntimeWarning: A class named 'FitnessMax' has already been created and it will be overwritten. Consider deleting previous creation of that class or rename it.\n",
      "  warnings.warn(\"A class named '{0}' has already been created and it \"\n",
      "/home/cristina/anaconda3/lib/python3.8/site-packages/deap/creator.py:138: RuntimeWarning: A class named 'Individual' has already been created and it will be overwritten. Consider deleting previous creation of that class or rename it.\n",
      "  warnings.warn(\"A class named '{0}' has already been created and it \"\n"
     ]
    },
    {
     "name": "stdout",
     "output_type": "stream",
     "text": [
      " SE HAN INCLUIDO 15 EJEMPLOS SINTÉTICOS\n"
     ]
    },
    {
     "name": "stderr",
     "output_type": "stream",
     "text": [
      "/home/cristina/anaconda3/lib/python3.8/site-packages/deap/creator.py:138: RuntimeWarning: A class named 'FitnessMax' has already been created and it will be overwritten. Consider deleting previous creation of that class or rename it.\n",
      "  warnings.warn(\"A class named '{0}' has already been created and it \"\n",
      "/home/cristina/anaconda3/lib/python3.8/site-packages/deap/creator.py:138: RuntimeWarning: A class named 'Individual' has already been created and it will be overwritten. Consider deleting previous creation of that class or rename it.\n",
      "  warnings.warn(\"A class named '{0}' has already been created and it \"\n"
     ]
    },
    {
     "name": "stdout",
     "output_type": "stream",
     "text": [
      " SE HAN INCLUIDO 6 EJEMPLOS SINTÉTICOS\n"
     ]
    },
    {
     "name": "stderr",
     "output_type": "stream",
     "text": [
      "/home/cristina/anaconda3/lib/python3.8/site-packages/deap/creator.py:138: RuntimeWarning: A class named 'FitnessMax' has already been created and it will be overwritten. Consider deleting previous creation of that class or rename it.\n",
      "  warnings.warn(\"A class named '{0}' has already been created and it \"\n",
      "/home/cristina/anaconda3/lib/python3.8/site-packages/deap/creator.py:138: RuntimeWarning: A class named 'Individual' has already been created and it will be overwritten. Consider deleting previous creation of that class or rename it.\n",
      "  warnings.warn(\"A class named '{0}' has already been created and it \"\n"
     ]
    },
    {
     "name": "stdout",
     "output_type": "stream",
     "text": [
      " SE HAN INCLUIDO 9 EJEMPLOS SINTÉTICOS\n"
     ]
    },
    {
     "name": "stderr",
     "output_type": "stream",
     "text": [
      "/home/cristina/anaconda3/lib/python3.8/site-packages/deap/creator.py:138: RuntimeWarning: A class named 'FitnessMax' has already been created and it will be overwritten. Consider deleting previous creation of that class or rename it.\n",
      "  warnings.warn(\"A class named '{0}' has already been created and it \"\n",
      "/home/cristina/anaconda3/lib/python3.8/site-packages/deap/creator.py:138: RuntimeWarning: A class named 'Individual' has already been created and it will be overwritten. Consider deleting previous creation of that class or rename it.\n",
      "  warnings.warn(\"A class named '{0}' has already been created and it \"\n"
     ]
    },
    {
     "name": "stdout",
     "output_type": "stream",
     "text": [
      " SE HAN INCLUIDO 9 EJEMPLOS SINTÉTICOS\n"
     ]
    },
    {
     "name": "stderr",
     "output_type": "stream",
     "text": [
      "/home/cristina/anaconda3/lib/python3.8/site-packages/deap/creator.py:138: RuntimeWarning: A class named 'FitnessMax' has already been created and it will be overwritten. Consider deleting previous creation of that class or rename it.\n",
      "  warnings.warn(\"A class named '{0}' has already been created and it \"\n",
      "/home/cristina/anaconda3/lib/python3.8/site-packages/deap/creator.py:138: RuntimeWarning: A class named 'Individual' has already been created and it will be overwritten. Consider deleting previous creation of that class or rename it.\n",
      "  warnings.warn(\"A class named '{0}' has already been created and it \"\n"
     ]
    },
    {
     "name": "stdout",
     "output_type": "stream",
     "text": [
      " SE HAN INCLUIDO 9 EJEMPLOS SINTÉTICOS\n",
      "Gmean parcial: 88.77272675166272\n"
     ]
    },
    {
     "name": "stderr",
     "output_type": "stream",
     "text": [
      "/home/cristina/anaconda3/lib/python3.8/site-packages/deap/creator.py:138: RuntimeWarning: A class named 'FitnessMin' has already been created and it will be overwritten. Consider deleting previous creation of that class or rename it.\n",
      "  warnings.warn(\"A class named '{0}' has already been created and it \"\n",
      "/home/cristina/anaconda3/lib/python3.8/site-packages/deap/creator.py:138: RuntimeWarning: A class named 'Individual' has already been created and it will be overwritten. Consider deleting previous creation of that class or rename it.\n",
      "  warnings.warn(\"A class named '{0}' has already been created and it \"\n"
     ]
    },
    {
     "name": "stdout",
     "output_type": "stream",
     "text": [
      "Conjunto de entrenamiento original de tamaño: 288\n",
      "De los cuales:\n",
      " \t nº de ejemplos clase MAYORITARIA: 269\n",
      " \t nº de ejemplos clase MINORITARIA: 19\n",
      "nº de ejemplos clase MAYORITARIA tras aplicar DE-guided UNDERSAMPLING: 160\n",
      "Conjunto de entrenamiento actual de tamaño: 179\n"
     ]
    },
    {
     "name": "stderr",
     "output_type": "stream",
     "text": [
      "/home/cristina/anaconda3/lib/python3.8/site-packages/deap/creator.py:138: RuntimeWarning: A class named 'FitnessMax' has already been created and it will be overwritten. Consider deleting previous creation of that class or rename it.\n",
      "  warnings.warn(\"A class named '{0}' has already been created and it \"\n",
      "/home/cristina/anaconda3/lib/python3.8/site-packages/deap/creator.py:138: RuntimeWarning: A class named 'Individual' has already been created and it will be overwritten. Consider deleting previous creation of that class or rename it.\n",
      "  warnings.warn(\"A class named '{0}' has already been created and it \"\n"
     ]
    },
    {
     "name": "stdout",
     "output_type": "stream",
     "text": [
      " SE HAN INCLUIDO 14 EJEMPLOS SINTÉTICOS\n"
     ]
    },
    {
     "name": "stderr",
     "output_type": "stream",
     "text": [
      "/home/cristina/anaconda3/lib/python3.8/site-packages/deap/creator.py:138: RuntimeWarning: A class named 'FitnessMax' has already been created and it will be overwritten. Consider deleting previous creation of that class or rename it.\n",
      "  warnings.warn(\"A class named '{0}' has already been created and it \"\n",
      "/home/cristina/anaconda3/lib/python3.8/site-packages/deap/creator.py:138: RuntimeWarning: A class named 'Individual' has already been created and it will be overwritten. Consider deleting previous creation of that class or rename it.\n",
      "  warnings.warn(\"A class named '{0}' has already been created and it \"\n"
     ]
    },
    {
     "name": "stdout",
     "output_type": "stream",
     "text": [
      " SE HAN INCLUIDO 7 EJEMPLOS SINTÉTICOS\n"
     ]
    },
    {
     "name": "stderr",
     "output_type": "stream",
     "text": [
      "/home/cristina/anaconda3/lib/python3.8/site-packages/deap/creator.py:138: RuntimeWarning: A class named 'FitnessMax' has already been created and it will be overwritten. Consider deleting previous creation of that class or rename it.\n",
      "  warnings.warn(\"A class named '{0}' has already been created and it \"\n",
      "/home/cristina/anaconda3/lib/python3.8/site-packages/deap/creator.py:138: RuntimeWarning: A class named 'Individual' has already been created and it will be overwritten. Consider deleting previous creation of that class or rename it.\n",
      "  warnings.warn(\"A class named '{0}' has already been created and it \"\n"
     ]
    },
    {
     "name": "stdout",
     "output_type": "stream",
     "text": [
      " SE HAN INCLUIDO 14 EJEMPLOS SINTÉTICOS\n"
     ]
    },
    {
     "name": "stderr",
     "output_type": "stream",
     "text": [
      "/home/cristina/anaconda3/lib/python3.8/site-packages/deap/creator.py:138: RuntimeWarning: A class named 'FitnessMax' has already been created and it will be overwritten. Consider deleting previous creation of that class or rename it.\n",
      "  warnings.warn(\"A class named '{0}' has already been created and it \"\n",
      "/home/cristina/anaconda3/lib/python3.8/site-packages/deap/creator.py:138: RuntimeWarning: A class named 'Individual' has already been created and it will be overwritten. Consider deleting previous creation of that class or rename it.\n",
      "  warnings.warn(\"A class named '{0}' has already been created and it \"\n"
     ]
    },
    {
     "name": "stdout",
     "output_type": "stream",
     "text": [
      " SE HAN INCLUIDO 8 EJEMPLOS SINTÉTICOS\n"
     ]
    },
    {
     "name": "stderr",
     "output_type": "stream",
     "text": [
      "/home/cristina/anaconda3/lib/python3.8/site-packages/deap/creator.py:138: RuntimeWarning: A class named 'FitnessMax' has already been created and it will be overwritten. Consider deleting previous creation of that class or rename it.\n",
      "  warnings.warn(\"A class named '{0}' has already been created and it \"\n",
      "/home/cristina/anaconda3/lib/python3.8/site-packages/deap/creator.py:138: RuntimeWarning: A class named 'Individual' has already been created and it will be overwritten. Consider deleting previous creation of that class or rename it.\n",
      "  warnings.warn(\"A class named '{0}' has already been created and it \"\n"
     ]
    },
    {
     "name": "stdout",
     "output_type": "stream",
     "text": [
      " SE HAN INCLUIDO 15 EJEMPLOS SINTÉTICOS\n"
     ]
    },
    {
     "name": "stderr",
     "output_type": "stream",
     "text": [
      "/home/cristina/anaconda3/lib/python3.8/site-packages/deap/creator.py:138: RuntimeWarning: A class named 'FitnessMax' has already been created and it will be overwritten. Consider deleting previous creation of that class or rename it.\n",
      "  warnings.warn(\"A class named '{0}' has already been created and it \"\n",
      "/home/cristina/anaconda3/lib/python3.8/site-packages/deap/creator.py:138: RuntimeWarning: A class named 'Individual' has already been created and it will be overwritten. Consider deleting previous creation of that class or rename it.\n",
      "  warnings.warn(\"A class named '{0}' has already been created and it \"\n"
     ]
    },
    {
     "name": "stdout",
     "output_type": "stream",
     "text": [
      " SE HAN INCLUIDO 13 EJEMPLOS SINTÉTICOS\n"
     ]
    },
    {
     "name": "stderr",
     "output_type": "stream",
     "text": [
      "/home/cristina/anaconda3/lib/python3.8/site-packages/deap/creator.py:138: RuntimeWarning: A class named 'FitnessMax' has already been created and it will be overwritten. Consider deleting previous creation of that class or rename it.\n",
      "  warnings.warn(\"A class named '{0}' has already been created and it \"\n",
      "/home/cristina/anaconda3/lib/python3.8/site-packages/deap/creator.py:138: RuntimeWarning: A class named 'Individual' has already been created and it will be overwritten. Consider deleting previous creation of that class or rename it.\n",
      "  warnings.warn(\"A class named '{0}' has already been created and it \"\n"
     ]
    },
    {
     "name": "stdout",
     "output_type": "stream",
     "text": [
      " SE HAN INCLUIDO 17 EJEMPLOS SINTÉTICOS\n"
     ]
    },
    {
     "name": "stderr",
     "output_type": "stream",
     "text": [
      "/home/cristina/anaconda3/lib/python3.8/site-packages/deap/creator.py:138: RuntimeWarning: A class named 'FitnessMax' has already been created and it will be overwritten. Consider deleting previous creation of that class or rename it.\n",
      "  warnings.warn(\"A class named '{0}' has already been created and it \"\n",
      "/home/cristina/anaconda3/lib/python3.8/site-packages/deap/creator.py:138: RuntimeWarning: A class named 'Individual' has already been created and it will be overwritten. Consider deleting previous creation of that class or rename it.\n",
      "  warnings.warn(\"A class named '{0}' has already been created and it \"\n"
     ]
    },
    {
     "name": "stdout",
     "output_type": "stream",
     "text": [
      " SE HAN INCLUIDO 13 EJEMPLOS SINTÉTICOS\n"
     ]
    },
    {
     "name": "stderr",
     "output_type": "stream",
     "text": [
      "/home/cristina/anaconda3/lib/python3.8/site-packages/deap/creator.py:138: RuntimeWarning: A class named 'FitnessMax' has already been created and it will be overwritten. Consider deleting previous creation of that class or rename it.\n",
      "  warnings.warn(\"A class named '{0}' has already been created and it \"\n",
      "/home/cristina/anaconda3/lib/python3.8/site-packages/deap/creator.py:138: RuntimeWarning: A class named 'Individual' has already been created and it will be overwritten. Consider deleting previous creation of that class or rename it.\n",
      "  warnings.warn(\"A class named '{0}' has already been created and it \"\n"
     ]
    },
    {
     "name": "stdout",
     "output_type": "stream",
     "text": [
      " SE HAN INCLUIDO 14 EJEMPLOS SINTÉTICOS\n"
     ]
    },
    {
     "name": "stderr",
     "output_type": "stream",
     "text": [
      "/home/cristina/anaconda3/lib/python3.8/site-packages/deap/creator.py:138: RuntimeWarning: A class named 'FitnessMax' has already been created and it will be overwritten. Consider deleting previous creation of that class or rename it.\n",
      "  warnings.warn(\"A class named '{0}' has already been created and it \"\n",
      "/home/cristina/anaconda3/lib/python3.8/site-packages/deap/creator.py:138: RuntimeWarning: A class named 'Individual' has already been created and it will be overwritten. Consider deleting previous creation of that class or rename it.\n",
      "  warnings.warn(\"A class named '{0}' has already been created and it \"\n"
     ]
    },
    {
     "name": "stdout",
     "output_type": "stream",
     "text": [
      " SE HAN INCLUIDO 7 EJEMPLOS SINTÉTICOS\n",
      "Gmean parcial: 44.721359549995796\n"
     ]
    },
    {
     "name": "stderr",
     "output_type": "stream",
     "text": [
      "/home/cristina/anaconda3/lib/python3.8/site-packages/deap/creator.py:138: RuntimeWarning: A class named 'FitnessMin' has already been created and it will be overwritten. Consider deleting previous creation of that class or rename it.\n",
      "  warnings.warn(\"A class named '{0}' has already been created and it \"\n",
      "/home/cristina/anaconda3/lib/python3.8/site-packages/deap/creator.py:138: RuntimeWarning: A class named 'Individual' has already been created and it will be overwritten. Consider deleting previous creation of that class or rename it.\n",
      "  warnings.warn(\"A class named '{0}' has already been created and it \"\n"
     ]
    },
    {
     "name": "stdout",
     "output_type": "stream",
     "text": [
      "Conjunto de entrenamiento original de tamaño: 288\n",
      "De los cuales:\n",
      " \t nº de ejemplos clase MAYORITARIA: 269\n",
      " \t nº de ejemplos clase MINORITARIA: 19\n",
      "nº de ejemplos clase MAYORITARIA tras aplicar DE-guided UNDERSAMPLING: 174\n",
      "Conjunto de entrenamiento actual de tamaño: 193\n"
     ]
    },
    {
     "name": "stderr",
     "output_type": "stream",
     "text": [
      "/home/cristina/anaconda3/lib/python3.8/site-packages/deap/creator.py:138: RuntimeWarning: A class named 'FitnessMax' has already been created and it will be overwritten. Consider deleting previous creation of that class or rename it.\n",
      "  warnings.warn(\"A class named '{0}' has already been created and it \"\n",
      "/home/cristina/anaconda3/lib/python3.8/site-packages/deap/creator.py:138: RuntimeWarning: A class named 'Individual' has already been created and it will be overwritten. Consider deleting previous creation of that class or rename it.\n",
      "  warnings.warn(\"A class named '{0}' has already been created and it \"\n"
     ]
    },
    {
     "name": "stdout",
     "output_type": "stream",
     "text": [
      " SE HAN INCLUIDO 12 EJEMPLOS SINTÉTICOS\n"
     ]
    },
    {
     "name": "stderr",
     "output_type": "stream",
     "text": [
      "/home/cristina/anaconda3/lib/python3.8/site-packages/deap/creator.py:138: RuntimeWarning: A class named 'FitnessMax' has already been created and it will be overwritten. Consider deleting previous creation of that class or rename it.\n",
      "  warnings.warn(\"A class named '{0}' has already been created and it \"\n",
      "/home/cristina/anaconda3/lib/python3.8/site-packages/deap/creator.py:138: RuntimeWarning: A class named 'Individual' has already been created and it will be overwritten. Consider deleting previous creation of that class or rename it.\n",
      "  warnings.warn(\"A class named '{0}' has already been created and it \"\n"
     ]
    },
    {
     "name": "stdout",
     "output_type": "stream",
     "text": [
      " SE HAN INCLUIDO 13 EJEMPLOS SINTÉTICOS\n"
     ]
    },
    {
     "name": "stderr",
     "output_type": "stream",
     "text": [
      "/home/cristina/anaconda3/lib/python3.8/site-packages/deap/creator.py:138: RuntimeWarning: A class named 'FitnessMax' has already been created and it will be overwritten. Consider deleting previous creation of that class or rename it.\n",
      "  warnings.warn(\"A class named '{0}' has already been created and it \"\n",
      "/home/cristina/anaconda3/lib/python3.8/site-packages/deap/creator.py:138: RuntimeWarning: A class named 'Individual' has already been created and it will be overwritten. Consider deleting previous creation of that class or rename it.\n",
      "  warnings.warn(\"A class named '{0}' has already been created and it \"\n"
     ]
    },
    {
     "name": "stdout",
     "output_type": "stream",
     "text": [
      " SE HAN INCLUIDO 7 EJEMPLOS SINTÉTICOS\n"
     ]
    },
    {
     "name": "stderr",
     "output_type": "stream",
     "text": [
      "/home/cristina/anaconda3/lib/python3.8/site-packages/deap/creator.py:138: RuntimeWarning: A class named 'FitnessMax' has already been created and it will be overwritten. Consider deleting previous creation of that class or rename it.\n",
      "  warnings.warn(\"A class named '{0}' has already been created and it \"\n",
      "/home/cristina/anaconda3/lib/python3.8/site-packages/deap/creator.py:138: RuntimeWarning: A class named 'Individual' has already been created and it will be overwritten. Consider deleting previous creation of that class or rename it.\n",
      "  warnings.warn(\"A class named '{0}' has already been created and it \"\n"
     ]
    },
    {
     "name": "stdout",
     "output_type": "stream",
     "text": [
      " SE HAN INCLUIDO 14 EJEMPLOS SINTÉTICOS\n"
     ]
    },
    {
     "name": "stderr",
     "output_type": "stream",
     "text": [
      "/home/cristina/anaconda3/lib/python3.8/site-packages/deap/creator.py:138: RuntimeWarning: A class named 'FitnessMax' has already been created and it will be overwritten. Consider deleting previous creation of that class or rename it.\n",
      "  warnings.warn(\"A class named '{0}' has already been created and it \"\n",
      "/home/cristina/anaconda3/lib/python3.8/site-packages/deap/creator.py:138: RuntimeWarning: A class named 'Individual' has already been created and it will be overwritten. Consider deleting previous creation of that class or rename it.\n",
      "  warnings.warn(\"A class named '{0}' has already been created and it \"\n"
     ]
    },
    {
     "name": "stdout",
     "output_type": "stream",
     "text": [
      " SE HAN INCLUIDO 12 EJEMPLOS SINTÉTICOS\n"
     ]
    },
    {
     "name": "stderr",
     "output_type": "stream",
     "text": [
      "/home/cristina/anaconda3/lib/python3.8/site-packages/deap/creator.py:138: RuntimeWarning: A class named 'FitnessMax' has already been created and it will be overwritten. Consider deleting previous creation of that class or rename it.\n",
      "  warnings.warn(\"A class named '{0}' has already been created and it \"\n",
      "/home/cristina/anaconda3/lib/python3.8/site-packages/deap/creator.py:138: RuntimeWarning: A class named 'Individual' has already been created and it will be overwritten. Consider deleting previous creation of that class or rename it.\n",
      "  warnings.warn(\"A class named '{0}' has already been created and it \"\n"
     ]
    },
    {
     "name": "stdout",
     "output_type": "stream",
     "text": [
      " SE HAN INCLUIDO 9 EJEMPLOS SINTÉTICOS\n"
     ]
    },
    {
     "name": "stderr",
     "output_type": "stream",
     "text": [
      "/home/cristina/anaconda3/lib/python3.8/site-packages/deap/creator.py:138: RuntimeWarning: A class named 'FitnessMax' has already been created and it will be overwritten. Consider deleting previous creation of that class or rename it.\n",
      "  warnings.warn(\"A class named '{0}' has already been created and it \"\n",
      "/home/cristina/anaconda3/lib/python3.8/site-packages/deap/creator.py:138: RuntimeWarning: A class named 'Individual' has already been created and it will be overwritten. Consider deleting previous creation of that class or rename it.\n",
      "  warnings.warn(\"A class named '{0}' has already been created and it \"\n"
     ]
    },
    {
     "name": "stdout",
     "output_type": "stream",
     "text": [
      " SE HAN INCLUIDO 16 EJEMPLOS SINTÉTICOS\n"
     ]
    },
    {
     "name": "stderr",
     "output_type": "stream",
     "text": [
      "/home/cristina/anaconda3/lib/python3.8/site-packages/deap/creator.py:138: RuntimeWarning: A class named 'FitnessMax' has already been created and it will be overwritten. Consider deleting previous creation of that class or rename it.\n",
      "  warnings.warn(\"A class named '{0}' has already been created and it \"\n",
      "/home/cristina/anaconda3/lib/python3.8/site-packages/deap/creator.py:138: RuntimeWarning: A class named 'Individual' has already been created and it will be overwritten. Consider deleting previous creation of that class or rename it.\n",
      "  warnings.warn(\"A class named '{0}' has already been created and it \"\n"
     ]
    },
    {
     "name": "stdout",
     "output_type": "stream",
     "text": [
      " SE HAN INCLUIDO 17 EJEMPLOS SINTÉTICOS\n"
     ]
    },
    {
     "name": "stderr",
     "output_type": "stream",
     "text": [
      "/home/cristina/anaconda3/lib/python3.8/site-packages/deap/creator.py:138: RuntimeWarning: A class named 'FitnessMax' has already been created and it will be overwritten. Consider deleting previous creation of that class or rename it.\n",
      "  warnings.warn(\"A class named '{0}' has already been created and it \"\n",
      "/home/cristina/anaconda3/lib/python3.8/site-packages/deap/creator.py:138: RuntimeWarning: A class named 'Individual' has already been created and it will be overwritten. Consider deleting previous creation of that class or rename it.\n",
      "  warnings.warn(\"A class named '{0}' has already been created and it \"\n"
     ]
    },
    {
     "name": "stdout",
     "output_type": "stream",
     "text": [
      " SE HAN INCLUIDO 9 EJEMPLOS SINTÉTICOS\n"
     ]
    },
    {
     "name": "stderr",
     "output_type": "stream",
     "text": [
      "/home/cristina/anaconda3/lib/python3.8/site-packages/deap/creator.py:138: RuntimeWarning: A class named 'FitnessMax' has already been created and it will be overwritten. Consider deleting previous creation of that class or rename it.\n",
      "  warnings.warn(\"A class named '{0}' has already been created and it \"\n",
      "/home/cristina/anaconda3/lib/python3.8/site-packages/deap/creator.py:138: RuntimeWarning: A class named 'Individual' has already been created and it will be overwritten. Consider deleting previous creation of that class or rename it.\n",
      "  warnings.warn(\"A class named '{0}' has already been created and it \"\n"
     ]
    },
    {
     "name": "stdout",
     "output_type": "stream",
     "text": [
      " SE HAN INCLUIDO 13 EJEMPLOS SINTÉTICOS\n",
      "Gmean parcial: 44.04881959216032\n"
     ]
    },
    {
     "name": "stderr",
     "output_type": "stream",
     "text": [
      "/home/cristina/anaconda3/lib/python3.8/site-packages/deap/creator.py:138: RuntimeWarning: A class named 'FitnessMin' has already been created and it will be overwritten. Consider deleting previous creation of that class or rename it.\n",
      "  warnings.warn(\"A class named '{0}' has already been created and it \"\n",
      "/home/cristina/anaconda3/lib/python3.8/site-packages/deap/creator.py:138: RuntimeWarning: A class named 'Individual' has already been created and it will be overwritten. Consider deleting previous creation of that class or rename it.\n",
      "  warnings.warn(\"A class named '{0}' has already been created and it \"\n"
     ]
    },
    {
     "name": "stdout",
     "output_type": "stream",
     "text": [
      "Conjunto de entrenamiento original de tamaño: 288\n",
      "De los cuales:\n",
      " \t nº de ejemplos clase MAYORITARIA: 269\n",
      " \t nº de ejemplos clase MINORITARIA: 19\n",
      "nº de ejemplos clase MAYORITARIA tras aplicar DE-guided UNDERSAMPLING: 144\n",
      "Conjunto de entrenamiento actual de tamaño: 163\n"
     ]
    },
    {
     "name": "stderr",
     "output_type": "stream",
     "text": [
      "/home/cristina/anaconda3/lib/python3.8/site-packages/deap/creator.py:138: RuntimeWarning: A class named 'FitnessMax' has already been created and it will be overwritten. Consider deleting previous creation of that class or rename it.\n",
      "  warnings.warn(\"A class named '{0}' has already been created and it \"\n",
      "/home/cristina/anaconda3/lib/python3.8/site-packages/deap/creator.py:138: RuntimeWarning: A class named 'Individual' has already been created and it will be overwritten. Consider deleting previous creation of that class or rename it.\n",
      "  warnings.warn(\"A class named '{0}' has already been created and it \"\n"
     ]
    },
    {
     "name": "stdout",
     "output_type": "stream",
     "text": [
      " SE HAN INCLUIDO 10 EJEMPLOS SINTÉTICOS\n"
     ]
    },
    {
     "name": "stderr",
     "output_type": "stream",
     "text": [
      "/home/cristina/anaconda3/lib/python3.8/site-packages/deap/creator.py:138: RuntimeWarning: A class named 'FitnessMax' has already been created and it will be overwritten. Consider deleting previous creation of that class or rename it.\n",
      "  warnings.warn(\"A class named '{0}' has already been created and it \"\n",
      "/home/cristina/anaconda3/lib/python3.8/site-packages/deap/creator.py:138: RuntimeWarning: A class named 'Individual' has already been created and it will be overwritten. Consider deleting previous creation of that class or rename it.\n",
      "  warnings.warn(\"A class named '{0}' has already been created and it \"\n"
     ]
    },
    {
     "name": "stdout",
     "output_type": "stream",
     "text": [
      " SE HAN INCLUIDO 10 EJEMPLOS SINTÉTICOS\n"
     ]
    },
    {
     "name": "stderr",
     "output_type": "stream",
     "text": [
      "/home/cristina/anaconda3/lib/python3.8/site-packages/deap/creator.py:138: RuntimeWarning: A class named 'FitnessMax' has already been created and it will be overwritten. Consider deleting previous creation of that class or rename it.\n",
      "  warnings.warn(\"A class named '{0}' has already been created and it \"\n",
      "/home/cristina/anaconda3/lib/python3.8/site-packages/deap/creator.py:138: RuntimeWarning: A class named 'Individual' has already been created and it will be overwritten. Consider deleting previous creation of that class or rename it.\n",
      "  warnings.warn(\"A class named '{0}' has already been created and it \"\n"
     ]
    },
    {
     "name": "stdout",
     "output_type": "stream",
     "text": [
      " SE HAN INCLUIDO 11 EJEMPLOS SINTÉTICOS\n"
     ]
    },
    {
     "name": "stderr",
     "output_type": "stream",
     "text": [
      "/home/cristina/anaconda3/lib/python3.8/site-packages/deap/creator.py:138: RuntimeWarning: A class named 'FitnessMax' has already been created and it will be overwritten. Consider deleting previous creation of that class or rename it.\n",
      "  warnings.warn(\"A class named '{0}' has already been created and it \"\n",
      "/home/cristina/anaconda3/lib/python3.8/site-packages/deap/creator.py:138: RuntimeWarning: A class named 'Individual' has already been created and it will be overwritten. Consider deleting previous creation of that class or rename it.\n",
      "  warnings.warn(\"A class named '{0}' has already been created and it \"\n"
     ]
    },
    {
     "name": "stdout",
     "output_type": "stream",
     "text": [
      " SE HAN INCLUIDO 14 EJEMPLOS SINTÉTICOS\n"
     ]
    },
    {
     "name": "stderr",
     "output_type": "stream",
     "text": [
      "/home/cristina/anaconda3/lib/python3.8/site-packages/deap/creator.py:138: RuntimeWarning: A class named 'FitnessMax' has already been created and it will be overwritten. Consider deleting previous creation of that class or rename it.\n",
      "  warnings.warn(\"A class named '{0}' has already been created and it \"\n",
      "/home/cristina/anaconda3/lib/python3.8/site-packages/deap/creator.py:138: RuntimeWarning: A class named 'Individual' has already been created and it will be overwritten. Consider deleting previous creation of that class or rename it.\n",
      "  warnings.warn(\"A class named '{0}' has already been created and it \"\n"
     ]
    },
    {
     "name": "stdout",
     "output_type": "stream",
     "text": [
      " SE HAN INCLUIDO 12 EJEMPLOS SINTÉTICOS\n"
     ]
    },
    {
     "name": "stderr",
     "output_type": "stream",
     "text": [
      "/home/cristina/anaconda3/lib/python3.8/site-packages/deap/creator.py:138: RuntimeWarning: A class named 'FitnessMax' has already been created and it will be overwritten. Consider deleting previous creation of that class or rename it.\n",
      "  warnings.warn(\"A class named '{0}' has already been created and it \"\n",
      "/home/cristina/anaconda3/lib/python3.8/site-packages/deap/creator.py:138: RuntimeWarning: A class named 'Individual' has already been created and it will be overwritten. Consider deleting previous creation of that class or rename it.\n",
      "  warnings.warn(\"A class named '{0}' has already been created and it \"\n"
     ]
    },
    {
     "name": "stdout",
     "output_type": "stream",
     "text": [
      " SE HAN INCLUIDO 13 EJEMPLOS SINTÉTICOS\n"
     ]
    },
    {
     "name": "stderr",
     "output_type": "stream",
     "text": [
      "/home/cristina/anaconda3/lib/python3.8/site-packages/deap/creator.py:138: RuntimeWarning: A class named 'FitnessMax' has already been created and it will be overwritten. Consider deleting previous creation of that class or rename it.\n",
      "  warnings.warn(\"A class named '{0}' has already been created and it \"\n",
      "/home/cristina/anaconda3/lib/python3.8/site-packages/deap/creator.py:138: RuntimeWarning: A class named 'Individual' has already been created and it will be overwritten. Consider deleting previous creation of that class or rename it.\n",
      "  warnings.warn(\"A class named '{0}' has already been created and it \"\n"
     ]
    },
    {
     "name": "stdout",
     "output_type": "stream",
     "text": [
      " SE HAN INCLUIDO 11 EJEMPLOS SINTÉTICOS\n"
     ]
    },
    {
     "name": "stderr",
     "output_type": "stream",
     "text": [
      "/home/cristina/anaconda3/lib/python3.8/site-packages/deap/creator.py:138: RuntimeWarning: A class named 'FitnessMax' has already been created and it will be overwritten. Consider deleting previous creation of that class or rename it.\n",
      "  warnings.warn(\"A class named '{0}' has already been created and it \"\n",
      "/home/cristina/anaconda3/lib/python3.8/site-packages/deap/creator.py:138: RuntimeWarning: A class named 'Individual' has already been created and it will be overwritten. Consider deleting previous creation of that class or rename it.\n",
      "  warnings.warn(\"A class named '{0}' has already been created and it \"\n"
     ]
    },
    {
     "name": "stdout",
     "output_type": "stream",
     "text": [
      " SE HAN INCLUIDO 13 EJEMPLOS SINTÉTICOS\n"
     ]
    },
    {
     "name": "stderr",
     "output_type": "stream",
     "text": [
      "/home/cristina/anaconda3/lib/python3.8/site-packages/deap/creator.py:138: RuntimeWarning: A class named 'FitnessMax' has already been created and it will be overwritten. Consider deleting previous creation of that class or rename it.\n",
      "  warnings.warn(\"A class named '{0}' has already been created and it \"\n",
      "/home/cristina/anaconda3/lib/python3.8/site-packages/deap/creator.py:138: RuntimeWarning: A class named 'Individual' has already been created and it will be overwritten. Consider deleting previous creation of that class or rename it.\n",
      "  warnings.warn(\"A class named '{0}' has already been created and it \"\n"
     ]
    },
    {
     "name": "stdout",
     "output_type": "stream",
     "text": [
      " SE HAN INCLUIDO 12 EJEMPLOS SINTÉTICOS\n"
     ]
    },
    {
     "name": "stderr",
     "output_type": "stream",
     "text": [
      "/home/cristina/anaconda3/lib/python3.8/site-packages/deap/creator.py:138: RuntimeWarning: A class named 'FitnessMax' has already been created and it will be overwritten. Consider deleting previous creation of that class or rename it.\n",
      "  warnings.warn(\"A class named '{0}' has already been created and it \"\n",
      "/home/cristina/anaconda3/lib/python3.8/site-packages/deap/creator.py:138: RuntimeWarning: A class named 'Individual' has already been created and it will be overwritten. Consider deleting previous creation of that class or rename it.\n",
      "  warnings.warn(\"A class named '{0}' has already been created and it \"\n"
     ]
    },
    {
     "name": "stdout",
     "output_type": "stream",
     "text": [
      " SE HAN INCLUIDO 9 EJEMPLOS SINTÉTICOS\n",
      "Gmean parcial: 76.87943653015435\n"
     ]
    },
    {
     "name": "stderr",
     "output_type": "stream",
     "text": [
      "/home/cristina/anaconda3/lib/python3.8/site-packages/deap/creator.py:138: RuntimeWarning: A class named 'FitnessMin' has already been created and it will be overwritten. Consider deleting previous creation of that class or rename it.\n",
      "  warnings.warn(\"A class named '{0}' has already been created and it \"\n",
      "/home/cristina/anaconda3/lib/python3.8/site-packages/deap/creator.py:138: RuntimeWarning: A class named 'Individual' has already been created and it will be overwritten. Consider deleting previous creation of that class or rename it.\n",
      "  warnings.warn(\"A class named '{0}' has already been created and it \"\n"
     ]
    },
    {
     "name": "stdout",
     "output_type": "stream",
     "text": [
      "Conjunto de entrenamiento original de tamaño: 288\n",
      "De los cuales:\n",
      " \t nº de ejemplos clase MAYORITARIA: 268\n",
      " \t nº de ejemplos clase MINORITARIA: 20\n",
      "nº de ejemplos clase MAYORITARIA tras aplicar DE-guided UNDERSAMPLING: 170\n",
      "Conjunto de entrenamiento actual de tamaño: 190\n"
     ]
    },
    {
     "name": "stderr",
     "output_type": "stream",
     "text": [
      "/home/cristina/anaconda3/lib/python3.8/site-packages/deap/creator.py:138: RuntimeWarning: A class named 'FitnessMax' has already been created and it will be overwritten. Consider deleting previous creation of that class or rename it.\n",
      "  warnings.warn(\"A class named '{0}' has already been created and it \"\n",
      "/home/cristina/anaconda3/lib/python3.8/site-packages/deap/creator.py:138: RuntimeWarning: A class named 'Individual' has already been created and it will be overwritten. Consider deleting previous creation of that class or rename it.\n",
      "  warnings.warn(\"A class named '{0}' has already been created and it \"\n"
     ]
    },
    {
     "name": "stdout",
     "output_type": "stream",
     "text": [
      " SE HAN INCLUIDO 17 EJEMPLOS SINTÉTICOS\n"
     ]
    },
    {
     "name": "stderr",
     "output_type": "stream",
     "text": [
      "/home/cristina/anaconda3/lib/python3.8/site-packages/deap/creator.py:138: RuntimeWarning: A class named 'FitnessMax' has already been created and it will be overwritten. Consider deleting previous creation of that class or rename it.\n",
      "  warnings.warn(\"A class named '{0}' has already been created and it \"\n",
      "/home/cristina/anaconda3/lib/python3.8/site-packages/deap/creator.py:138: RuntimeWarning: A class named 'Individual' has already been created and it will be overwritten. Consider deleting previous creation of that class or rename it.\n",
      "  warnings.warn(\"A class named '{0}' has already been created and it \"\n"
     ]
    },
    {
     "name": "stdout",
     "output_type": "stream",
     "text": [
      " SE HAN INCLUIDO 16 EJEMPLOS SINTÉTICOS\n"
     ]
    },
    {
     "name": "stderr",
     "output_type": "stream",
     "text": [
      "/home/cristina/anaconda3/lib/python3.8/site-packages/deap/creator.py:138: RuntimeWarning: A class named 'FitnessMax' has already been created and it will be overwritten. Consider deleting previous creation of that class or rename it.\n",
      "  warnings.warn(\"A class named '{0}' has already been created and it \"\n",
      "/home/cristina/anaconda3/lib/python3.8/site-packages/deap/creator.py:138: RuntimeWarning: A class named 'Individual' has already been created and it will be overwritten. Consider deleting previous creation of that class or rename it.\n",
      "  warnings.warn(\"A class named '{0}' has already been created and it \"\n"
     ]
    },
    {
     "name": "stdout",
     "output_type": "stream",
     "text": [
      " SE HAN INCLUIDO 9 EJEMPLOS SINTÉTICOS\n"
     ]
    },
    {
     "name": "stderr",
     "output_type": "stream",
     "text": [
      "/home/cristina/anaconda3/lib/python3.8/site-packages/deap/creator.py:138: RuntimeWarning: A class named 'FitnessMax' has already been created and it will be overwritten. Consider deleting previous creation of that class or rename it.\n",
      "  warnings.warn(\"A class named '{0}' has already been created and it \"\n",
      "/home/cristina/anaconda3/lib/python3.8/site-packages/deap/creator.py:138: RuntimeWarning: A class named 'Individual' has already been created and it will be overwritten. Consider deleting previous creation of that class or rename it.\n",
      "  warnings.warn(\"A class named '{0}' has already been created and it \"\n"
     ]
    },
    {
     "name": "stdout",
     "output_type": "stream",
     "text": [
      " SE HAN INCLUIDO 16 EJEMPLOS SINTÉTICOS\n"
     ]
    },
    {
     "name": "stderr",
     "output_type": "stream",
     "text": [
      "/home/cristina/anaconda3/lib/python3.8/site-packages/deap/creator.py:138: RuntimeWarning: A class named 'FitnessMax' has already been created and it will be overwritten. Consider deleting previous creation of that class or rename it.\n",
      "  warnings.warn(\"A class named '{0}' has already been created and it \"\n",
      "/home/cristina/anaconda3/lib/python3.8/site-packages/deap/creator.py:138: RuntimeWarning: A class named 'Individual' has already been created and it will be overwritten. Consider deleting previous creation of that class or rename it.\n",
      "  warnings.warn(\"A class named '{0}' has already been created and it \"\n"
     ]
    },
    {
     "name": "stdout",
     "output_type": "stream",
     "text": [
      " SE HAN INCLUIDO 13 EJEMPLOS SINTÉTICOS\n"
     ]
    },
    {
     "name": "stderr",
     "output_type": "stream",
     "text": [
      "/home/cristina/anaconda3/lib/python3.8/site-packages/deap/creator.py:138: RuntimeWarning: A class named 'FitnessMax' has already been created and it will be overwritten. Consider deleting previous creation of that class or rename it.\n",
      "  warnings.warn(\"A class named '{0}' has already been created and it \"\n",
      "/home/cristina/anaconda3/lib/python3.8/site-packages/deap/creator.py:138: RuntimeWarning: A class named 'Individual' has already been created and it will be overwritten. Consider deleting previous creation of that class or rename it.\n",
      "  warnings.warn(\"A class named '{0}' has already been created and it \"\n"
     ]
    },
    {
     "name": "stdout",
     "output_type": "stream",
     "text": [
      " SE HAN INCLUIDO 10 EJEMPLOS SINTÉTICOS\n"
     ]
    },
    {
     "name": "stderr",
     "output_type": "stream",
     "text": [
      "/home/cristina/anaconda3/lib/python3.8/site-packages/deap/creator.py:138: RuntimeWarning: A class named 'FitnessMax' has already been created and it will be overwritten. Consider deleting previous creation of that class or rename it.\n",
      "  warnings.warn(\"A class named '{0}' has already been created and it \"\n",
      "/home/cristina/anaconda3/lib/python3.8/site-packages/deap/creator.py:138: RuntimeWarning: A class named 'Individual' has already been created and it will be overwritten. Consider deleting previous creation of that class or rename it.\n",
      "  warnings.warn(\"A class named '{0}' has already been created and it \"\n"
     ]
    },
    {
     "name": "stdout",
     "output_type": "stream",
     "text": [
      " SE HAN INCLUIDO 9 EJEMPLOS SINTÉTICOS\n"
     ]
    },
    {
     "name": "stderr",
     "output_type": "stream",
     "text": [
      "/home/cristina/anaconda3/lib/python3.8/site-packages/deap/creator.py:138: RuntimeWarning: A class named 'FitnessMax' has already been created and it will be overwritten. Consider deleting previous creation of that class or rename it.\n",
      "  warnings.warn(\"A class named '{0}' has already been created and it \"\n",
      "/home/cristina/anaconda3/lib/python3.8/site-packages/deap/creator.py:138: RuntimeWarning: A class named 'Individual' has already been created and it will be overwritten. Consider deleting previous creation of that class or rename it.\n",
      "  warnings.warn(\"A class named '{0}' has already been created and it \"\n"
     ]
    },
    {
     "name": "stdout",
     "output_type": "stream",
     "text": [
      " SE HAN INCLUIDO 11 EJEMPLOS SINTÉTICOS\n"
     ]
    },
    {
     "name": "stderr",
     "output_type": "stream",
     "text": [
      "/home/cristina/anaconda3/lib/python3.8/site-packages/deap/creator.py:138: RuntimeWarning: A class named 'FitnessMax' has already been created and it will be overwritten. Consider deleting previous creation of that class or rename it.\n",
      "  warnings.warn(\"A class named '{0}' has already been created and it \"\n",
      "/home/cristina/anaconda3/lib/python3.8/site-packages/deap/creator.py:138: RuntimeWarning: A class named 'Individual' has already been created and it will be overwritten. Consider deleting previous creation of that class or rename it.\n",
      "  warnings.warn(\"A class named '{0}' has already been created and it \"\n"
     ]
    },
    {
     "name": "stdout",
     "output_type": "stream",
     "text": [
      " SE HAN INCLUIDO 15 EJEMPLOS SINTÉTICOS\n"
     ]
    },
    {
     "name": "stderr",
     "output_type": "stream",
     "text": [
      "/home/cristina/anaconda3/lib/python3.8/site-packages/deap/creator.py:138: RuntimeWarning: A class named 'FitnessMax' has already been created and it will be overwritten. Consider deleting previous creation of that class or rename it.\n",
      "  warnings.warn(\"A class named '{0}' has already been created and it \"\n",
      "/home/cristina/anaconda3/lib/python3.8/site-packages/deap/creator.py:138: RuntimeWarning: A class named 'Individual' has already been created and it will be overwritten. Consider deleting previous creation of that class or rename it.\n",
      "  warnings.warn(\"A class named '{0}' has already been created and it \"\n"
     ]
    },
    {
     "name": "stdout",
     "output_type": "stream",
     "text": [
      " SE HAN INCLUIDO 14 EJEMPLOS SINTÉTICOS\n",
      "Gmean parcial: 48.88461805469018\n",
      "[88.77272675166272, 44.721359549995796, 44.04881959216032, 76.87943653015435, 48.88461805469018]\n",
      "Rendimiento del clasificador DERSBoost: 60.66139209573267\n",
      "Tiempo medio de entrenamiento: 155.55656352043152\n",
      "\n",
      "ARRHYTHMIA\n",
      "Dataset of size (452, 278)\n",
      "There are 427 instances for the majoritary class\n",
      "There are 25 instanes for the minoritary class\n",
      "IR of the dataset:  17.08\n"
     ]
    },
    {
     "name": "stderr",
     "output_type": "stream",
     "text": [
      "/home/cristina/anaconda3/lib/python3.8/site-packages/deap/creator.py:138: RuntimeWarning: A class named 'FitnessMin' has already been created and it will be overwritten. Consider deleting previous creation of that class or rename it.\n",
      "  warnings.warn(\"A class named '{0}' has already been created and it \"\n",
      "/home/cristina/anaconda3/lib/python3.8/site-packages/deap/creator.py:138: RuntimeWarning: A class named 'Individual' has already been created and it will be overwritten. Consider deleting previous creation of that class or rename it.\n",
      "  warnings.warn(\"A class named '{0}' has already been created and it \"\n"
     ]
    },
    {
     "name": "stdout",
     "output_type": "stream",
     "text": [
      "Conjunto de entrenamiento original de tamaño: 361\n",
      "De los cuales:\n",
      " \t nº de ejemplos clase MAYORITARIA: 341\n",
      " \t nº de ejemplos clase MINORITARIA: 20\n",
      "nº de ejemplos clase MAYORITARIA tras aplicar DE-guided UNDERSAMPLING: 335\n",
      "Conjunto de entrenamiento actual de tamaño: 355\n"
     ]
    },
    {
     "name": "stderr",
     "output_type": "stream",
     "text": [
      "/home/cristina/anaconda3/lib/python3.8/site-packages/deap/creator.py:138: RuntimeWarning: A class named 'FitnessMax' has already been created and it will be overwritten. Consider deleting previous creation of that class or rename it.\n",
      "  warnings.warn(\"A class named '{0}' has already been created and it \"\n",
      "/home/cristina/anaconda3/lib/python3.8/site-packages/deap/creator.py:138: RuntimeWarning: A class named 'Individual' has already been created and it will be overwritten. Consider deleting previous creation of that class or rename it.\n",
      "  warnings.warn(\"A class named '{0}' has already been created and it \"\n"
     ]
    },
    {
     "name": "stdout",
     "output_type": "stream",
     "text": [
      " SE HAN INCLUIDO 12 EJEMPLOS SINTÉTICOS\n"
     ]
    },
    {
     "name": "stderr",
     "output_type": "stream",
     "text": [
      "/home/cristina/anaconda3/lib/python3.8/site-packages/deap/creator.py:138: RuntimeWarning: A class named 'FitnessMax' has already been created and it will be overwritten. Consider deleting previous creation of that class or rename it.\n",
      "  warnings.warn(\"A class named '{0}' has already been created and it \"\n",
      "/home/cristina/anaconda3/lib/python3.8/site-packages/deap/creator.py:138: RuntimeWarning: A class named 'Individual' has already been created and it will be overwritten. Consider deleting previous creation of that class or rename it.\n",
      "  warnings.warn(\"A class named '{0}' has already been created and it \"\n",
      "/home/cristina/anaconda3/lib/python3.8/site-packages/sklearn/metrics/_classification.py:1221: UndefinedMetricWarning: Recall is ill-defined and being set to 0.0 in labels with no true samples. Use `zero_division` parameter to control this behavior.\n",
      "  _warn_prf(average, modifier, msg_start, len(result))\n"
     ]
    },
    {
     "name": "stdout",
     "output_type": "stream",
     "text": [
      " SE HAN INCLUIDO 16 EJEMPLOS SINTÉTICOS\n"
     ]
    },
    {
     "name": "stderr",
     "output_type": "stream",
     "text": [
      "/home/cristina/anaconda3/lib/python3.8/site-packages/deap/creator.py:138: RuntimeWarning: A class named 'FitnessMax' has already been created and it will be overwritten. Consider deleting previous creation of that class or rename it.\n",
      "  warnings.warn(\"A class named '{0}' has already been created and it \"\n",
      "/home/cristina/anaconda3/lib/python3.8/site-packages/deap/creator.py:138: RuntimeWarning: A class named 'Individual' has already been created and it will be overwritten. Consider deleting previous creation of that class or rename it.\n",
      "  warnings.warn(\"A class named '{0}' has already been created and it \"\n"
     ]
    },
    {
     "name": "stdout",
     "output_type": "stream",
     "text": [
      " SE HAN INCLUIDO 16 EJEMPLOS SINTÉTICOS\n"
     ]
    },
    {
     "name": "stderr",
     "output_type": "stream",
     "text": [
      "/home/cristina/anaconda3/lib/python3.8/site-packages/deap/creator.py:138: RuntimeWarning: A class named 'FitnessMax' has already been created and it will be overwritten. Consider deleting previous creation of that class or rename it.\n",
      "  warnings.warn(\"A class named '{0}' has already been created and it \"\n",
      "/home/cristina/anaconda3/lib/python3.8/site-packages/deap/creator.py:138: RuntimeWarning: A class named 'Individual' has already been created and it will be overwritten. Consider deleting previous creation of that class or rename it.\n",
      "  warnings.warn(\"A class named '{0}' has already been created and it \"\n"
     ]
    },
    {
     "name": "stdout",
     "output_type": "stream",
     "text": [
      " SE HAN INCLUIDO 12 EJEMPLOS SINTÉTICOS\n"
     ]
    },
    {
     "name": "stderr",
     "output_type": "stream",
     "text": [
      "/home/cristina/anaconda3/lib/python3.8/site-packages/deap/creator.py:138: RuntimeWarning: A class named 'FitnessMax' has already been created and it will be overwritten. Consider deleting previous creation of that class or rename it.\n",
      "  warnings.warn(\"A class named '{0}' has already been created and it \"\n",
      "/home/cristina/anaconda3/lib/python3.8/site-packages/deap/creator.py:138: RuntimeWarning: A class named 'Individual' has already been created and it will be overwritten. Consider deleting previous creation of that class or rename it.\n",
      "  warnings.warn(\"A class named '{0}' has already been created and it \"\n"
     ]
    },
    {
     "name": "stdout",
     "output_type": "stream",
     "text": [
      " SE HAN INCLUIDO 13 EJEMPLOS SINTÉTICOS\n"
     ]
    },
    {
     "name": "stderr",
     "output_type": "stream",
     "text": [
      "/home/cristina/anaconda3/lib/python3.8/site-packages/deap/creator.py:138: RuntimeWarning: A class named 'FitnessMax' has already been created and it will be overwritten. Consider deleting previous creation of that class or rename it.\n",
      "  warnings.warn(\"A class named '{0}' has already been created and it \"\n",
      "/home/cristina/anaconda3/lib/python3.8/site-packages/deap/creator.py:138: RuntimeWarning: A class named 'Individual' has already been created and it will be overwritten. Consider deleting previous creation of that class or rename it.\n",
      "  warnings.warn(\"A class named '{0}' has already been created and it \"\n"
     ]
    },
    {
     "name": "stdout",
     "output_type": "stream",
     "text": [
      " SE HAN INCLUIDO 17 EJEMPLOS SINTÉTICOS\n"
     ]
    },
    {
     "name": "stderr",
     "output_type": "stream",
     "text": [
      "/home/cristina/anaconda3/lib/python3.8/site-packages/deap/creator.py:138: RuntimeWarning: A class named 'FitnessMax' has already been created and it will be overwritten. Consider deleting previous creation of that class or rename it.\n",
      "  warnings.warn(\"A class named '{0}' has already been created and it \"\n",
      "/home/cristina/anaconda3/lib/python3.8/site-packages/deap/creator.py:138: RuntimeWarning: A class named 'Individual' has already been created and it will be overwritten. Consider deleting previous creation of that class or rename it.\n",
      "  warnings.warn(\"A class named '{0}' has already been created and it \"\n"
     ]
    },
    {
     "name": "stdout",
     "output_type": "stream",
     "text": [
      " SE HAN INCLUIDO 13 EJEMPLOS SINTÉTICOS\n"
     ]
    },
    {
     "name": "stderr",
     "output_type": "stream",
     "text": [
      "/home/cristina/anaconda3/lib/python3.8/site-packages/deap/creator.py:138: RuntimeWarning: A class named 'FitnessMax' has already been created and it will be overwritten. Consider deleting previous creation of that class or rename it.\n",
      "  warnings.warn(\"A class named '{0}' has already been created and it \"\n",
      "/home/cristina/anaconda3/lib/python3.8/site-packages/deap/creator.py:138: RuntimeWarning: A class named 'Individual' has already been created and it will be overwritten. Consider deleting previous creation of that class or rename it.\n",
      "  warnings.warn(\"A class named '{0}' has already been created and it \"\n"
     ]
    },
    {
     "name": "stdout",
     "output_type": "stream",
     "text": [
      " SE HAN INCLUIDO 18 EJEMPLOS SINTÉTICOS\n"
     ]
    },
    {
     "name": "stderr",
     "output_type": "stream",
     "text": [
      "/home/cristina/anaconda3/lib/python3.8/site-packages/deap/creator.py:138: RuntimeWarning: A class named 'FitnessMax' has already been created and it will be overwritten. Consider deleting previous creation of that class or rename it.\n",
      "  warnings.warn(\"A class named '{0}' has already been created and it \"\n",
      "/home/cristina/anaconda3/lib/python3.8/site-packages/deap/creator.py:138: RuntimeWarning: A class named 'Individual' has already been created and it will be overwritten. Consider deleting previous creation of that class or rename it.\n",
      "  warnings.warn(\"A class named '{0}' has already been created and it \"\n"
     ]
    },
    {
     "name": "stdout",
     "output_type": "stream",
     "text": [
      " SE HAN INCLUIDO 17 EJEMPLOS SINTÉTICOS\n"
     ]
    },
    {
     "name": "stderr",
     "output_type": "stream",
     "text": [
      "/home/cristina/anaconda3/lib/python3.8/site-packages/deap/creator.py:138: RuntimeWarning: A class named 'FitnessMax' has already been created and it will be overwritten. Consider deleting previous creation of that class or rename it.\n",
      "  warnings.warn(\"A class named '{0}' has already been created and it \"\n",
      "/home/cristina/anaconda3/lib/python3.8/site-packages/deap/creator.py:138: RuntimeWarning: A class named 'Individual' has already been created and it will be overwritten. Consider deleting previous creation of that class or rename it.\n",
      "  warnings.warn(\"A class named '{0}' has already been created and it \"\n"
     ]
    },
    {
     "name": "stdout",
     "output_type": "stream",
     "text": [
      " SE HAN INCLUIDO 18 EJEMPLOS SINTÉTICOS\n",
      "Gmean parcial: 77.00800320836487\n"
     ]
    },
    {
     "name": "stderr",
     "output_type": "stream",
     "text": [
      "/home/cristina/anaconda3/lib/python3.8/site-packages/deap/creator.py:138: RuntimeWarning: A class named 'FitnessMin' has already been created and it will be overwritten. Consider deleting previous creation of that class or rename it.\n",
      "  warnings.warn(\"A class named '{0}' has already been created and it \"\n",
      "/home/cristina/anaconda3/lib/python3.8/site-packages/deap/creator.py:138: RuntimeWarning: A class named 'Individual' has already been created and it will be overwritten. Consider deleting previous creation of that class or rename it.\n",
      "  warnings.warn(\"A class named '{0}' has already been created and it \"\n"
     ]
    },
    {
     "name": "stdout",
     "output_type": "stream",
     "text": [
      "Conjunto de entrenamiento original de tamaño: 361\n",
      "De los cuales:\n",
      " \t nº de ejemplos clase MAYORITARIA: 341\n",
      " \t nº de ejemplos clase MINORITARIA: 20\n",
      "nº de ejemplos clase MAYORITARIA tras aplicar DE-guided UNDERSAMPLING: 323\n",
      "Conjunto de entrenamiento actual de tamaño: 343\n"
     ]
    },
    {
     "name": "stderr",
     "output_type": "stream",
     "text": [
      "/home/cristina/anaconda3/lib/python3.8/site-packages/deap/creator.py:138: RuntimeWarning: A class named 'FitnessMax' has already been created and it will be overwritten. Consider deleting previous creation of that class or rename it.\n",
      "  warnings.warn(\"A class named '{0}' has already been created and it \"\n",
      "/home/cristina/anaconda3/lib/python3.8/site-packages/deap/creator.py:138: RuntimeWarning: A class named 'Individual' has already been created and it will be overwritten. Consider deleting previous creation of that class or rename it.\n",
      "  warnings.warn(\"A class named '{0}' has already been created and it \"\n"
     ]
    },
    {
     "name": "stdout",
     "output_type": "stream",
     "text": [
      " SE HAN INCLUIDO 13 EJEMPLOS SINTÉTICOS\n"
     ]
    },
    {
     "name": "stderr",
     "output_type": "stream",
     "text": [
      "/home/cristina/anaconda3/lib/python3.8/site-packages/deap/creator.py:138: RuntimeWarning: A class named 'FitnessMax' has already been created and it will be overwritten. Consider deleting previous creation of that class or rename it.\n",
      "  warnings.warn(\"A class named '{0}' has already been created and it \"\n",
      "/home/cristina/anaconda3/lib/python3.8/site-packages/deap/creator.py:138: RuntimeWarning: A class named 'Individual' has already been created and it will be overwritten. Consider deleting previous creation of that class or rename it.\n",
      "  warnings.warn(\"A class named '{0}' has already been created and it \"\n"
     ]
    },
    {
     "name": "stdout",
     "output_type": "stream",
     "text": [
      " SE HAN INCLUIDO 7 EJEMPLOS SINTÉTICOS\n"
     ]
    },
    {
     "name": "stderr",
     "output_type": "stream",
     "text": [
      "/home/cristina/anaconda3/lib/python3.8/site-packages/deap/creator.py:138: RuntimeWarning: A class named 'FitnessMax' has already been created and it will be overwritten. Consider deleting previous creation of that class or rename it.\n",
      "  warnings.warn(\"A class named '{0}' has already been created and it \"\n",
      "/home/cristina/anaconda3/lib/python3.8/site-packages/deap/creator.py:138: RuntimeWarning: A class named 'Individual' has already been created and it will be overwritten. Consider deleting previous creation of that class or rename it.\n",
      "  warnings.warn(\"A class named '{0}' has already been created and it \"\n"
     ]
    },
    {
     "name": "stdout",
     "output_type": "stream",
     "text": [
      " SE HAN INCLUIDO 11 EJEMPLOS SINTÉTICOS\n"
     ]
    },
    {
     "name": "stderr",
     "output_type": "stream",
     "text": [
      "/home/cristina/anaconda3/lib/python3.8/site-packages/deap/creator.py:138: RuntimeWarning: A class named 'FitnessMax' has already been created and it will be overwritten. Consider deleting previous creation of that class or rename it.\n",
      "  warnings.warn(\"A class named '{0}' has already been created and it \"\n",
      "/home/cristina/anaconda3/lib/python3.8/site-packages/deap/creator.py:138: RuntimeWarning: A class named 'Individual' has already been created and it will be overwritten. Consider deleting previous creation of that class or rename it.\n",
      "  warnings.warn(\"A class named '{0}' has already been created and it \"\n"
     ]
    },
    {
     "name": "stdout",
     "output_type": "stream",
     "text": [
      " SE HAN INCLUIDO 13 EJEMPLOS SINTÉTICOS\n"
     ]
    },
    {
     "name": "stderr",
     "output_type": "stream",
     "text": [
      "/home/cristina/anaconda3/lib/python3.8/site-packages/deap/creator.py:138: RuntimeWarning: A class named 'FitnessMax' has already been created and it will be overwritten. Consider deleting previous creation of that class or rename it.\n",
      "  warnings.warn(\"A class named '{0}' has already been created and it \"\n",
      "/home/cristina/anaconda3/lib/python3.8/site-packages/deap/creator.py:138: RuntimeWarning: A class named 'Individual' has already been created and it will be overwritten. Consider deleting previous creation of that class or rename it.\n",
      "  warnings.warn(\"A class named '{0}' has already been created and it \"\n"
     ]
    },
    {
     "name": "stdout",
     "output_type": "stream",
     "text": [
      " SE HAN INCLUIDO 14 EJEMPLOS SINTÉTICOS\n"
     ]
    },
    {
     "name": "stderr",
     "output_type": "stream",
     "text": [
      "/home/cristina/anaconda3/lib/python3.8/site-packages/deap/creator.py:138: RuntimeWarning: A class named 'FitnessMax' has already been created and it will be overwritten. Consider deleting previous creation of that class or rename it.\n",
      "  warnings.warn(\"A class named '{0}' has already been created and it \"\n",
      "/home/cristina/anaconda3/lib/python3.8/site-packages/deap/creator.py:138: RuntimeWarning: A class named 'Individual' has already been created and it will be overwritten. Consider deleting previous creation of that class or rename it.\n",
      "  warnings.warn(\"A class named '{0}' has already been created and it \"\n"
     ]
    },
    {
     "name": "stdout",
     "output_type": "stream",
     "text": [
      " SE HAN INCLUIDO 14 EJEMPLOS SINTÉTICOS\n"
     ]
    },
    {
     "name": "stderr",
     "output_type": "stream",
     "text": [
      "/home/cristina/anaconda3/lib/python3.8/site-packages/deap/creator.py:138: RuntimeWarning: A class named 'FitnessMax' has already been created and it will be overwritten. Consider deleting previous creation of that class or rename it.\n",
      "  warnings.warn(\"A class named '{0}' has already been created and it \"\n",
      "/home/cristina/anaconda3/lib/python3.8/site-packages/deap/creator.py:138: RuntimeWarning: A class named 'Individual' has already been created and it will be overwritten. Consider deleting previous creation of that class or rename it.\n",
      "  warnings.warn(\"A class named '{0}' has already been created and it \"\n"
     ]
    },
    {
     "name": "stdout",
     "output_type": "stream",
     "text": [
      " SE HAN INCLUIDO 11 EJEMPLOS SINTÉTICOS\n"
     ]
    },
    {
     "name": "stderr",
     "output_type": "stream",
     "text": [
      "/home/cristina/anaconda3/lib/python3.8/site-packages/deap/creator.py:138: RuntimeWarning: A class named 'FitnessMax' has already been created and it will be overwritten. Consider deleting previous creation of that class or rename it.\n",
      "  warnings.warn(\"A class named '{0}' has already been created and it \"\n",
      "/home/cristina/anaconda3/lib/python3.8/site-packages/deap/creator.py:138: RuntimeWarning: A class named 'Individual' has already been created and it will be overwritten. Consider deleting previous creation of that class or rename it.\n",
      "  warnings.warn(\"A class named '{0}' has already been created and it \"\n"
     ]
    },
    {
     "name": "stdout",
     "output_type": "stream",
     "text": [
      " SE HAN INCLUIDO 15 EJEMPLOS SINTÉTICOS\n"
     ]
    },
    {
     "name": "stderr",
     "output_type": "stream",
     "text": [
      "/home/cristina/anaconda3/lib/python3.8/site-packages/deap/creator.py:138: RuntimeWarning: A class named 'FitnessMax' has already been created and it will be overwritten. Consider deleting previous creation of that class or rename it.\n",
      "  warnings.warn(\"A class named '{0}' has already been created and it \"\n",
      "/home/cristina/anaconda3/lib/python3.8/site-packages/deap/creator.py:138: RuntimeWarning: A class named 'Individual' has already been created and it will be overwritten. Consider deleting previous creation of that class or rename it.\n",
      "  warnings.warn(\"A class named '{0}' has already been created and it \"\n"
     ]
    },
    {
     "name": "stdout",
     "output_type": "stream",
     "text": [
      " SE HAN INCLUIDO 11 EJEMPLOS SINTÉTICOS\n"
     ]
    },
    {
     "name": "stderr",
     "output_type": "stream",
     "text": [
      "/home/cristina/anaconda3/lib/python3.8/site-packages/deap/creator.py:138: RuntimeWarning: A class named 'FitnessMax' has already been created and it will be overwritten. Consider deleting previous creation of that class or rename it.\n",
      "  warnings.warn(\"A class named '{0}' has already been created and it \"\n",
      "/home/cristina/anaconda3/lib/python3.8/site-packages/deap/creator.py:138: RuntimeWarning: A class named 'Individual' has already been created and it will be overwritten. Consider deleting previous creation of that class or rename it.\n",
      "  warnings.warn(\"A class named '{0}' has already been created and it \"\n"
     ]
    },
    {
     "name": "stdout",
     "output_type": "stream",
     "text": [
      " SE HAN INCLUIDO 13 EJEMPLOS SINTÉTICOS\n",
      "Gmean parcial: 44.46059138210502\n"
     ]
    },
    {
     "name": "stderr",
     "output_type": "stream",
     "text": [
      "/home/cristina/anaconda3/lib/python3.8/site-packages/deap/creator.py:138: RuntimeWarning: A class named 'FitnessMin' has already been created and it will be overwritten. Consider deleting previous creation of that class or rename it.\n",
      "  warnings.warn(\"A class named '{0}' has already been created and it \"\n",
      "/home/cristina/anaconda3/lib/python3.8/site-packages/deap/creator.py:138: RuntimeWarning: A class named 'Individual' has already been created and it will be overwritten. Consider deleting previous creation of that class or rename it.\n",
      "  warnings.warn(\"A class named '{0}' has already been created and it \"\n"
     ]
    },
    {
     "name": "stdout",
     "output_type": "stream",
     "text": [
      "Conjunto de entrenamiento original de tamaño: 362\n",
      "De los cuales:\n",
      " \t nº de ejemplos clase MAYORITARIA: 342\n",
      " \t nº de ejemplos clase MINORITARIA: 20\n",
      "nº de ejemplos clase MAYORITARIA tras aplicar DE-guided UNDERSAMPLING: 338\n",
      "Conjunto de entrenamiento actual de tamaño: 358\n"
     ]
    },
    {
     "name": "stderr",
     "output_type": "stream",
     "text": [
      "/home/cristina/anaconda3/lib/python3.8/site-packages/deap/creator.py:138: RuntimeWarning: A class named 'FitnessMax' has already been created and it will be overwritten. Consider deleting previous creation of that class or rename it.\n",
      "  warnings.warn(\"A class named '{0}' has already been created and it \"\n",
      "/home/cristina/anaconda3/lib/python3.8/site-packages/deap/creator.py:138: RuntimeWarning: A class named 'Individual' has already been created and it will be overwritten. Consider deleting previous creation of that class or rename it.\n",
      "  warnings.warn(\"A class named '{0}' has already been created and it \"\n"
     ]
    },
    {
     "name": "stdout",
     "output_type": "stream",
     "text": [
      " SE HAN INCLUIDO 14 EJEMPLOS SINTÉTICOS\n"
     ]
    },
    {
     "name": "stderr",
     "output_type": "stream",
     "text": [
      "/home/cristina/anaconda3/lib/python3.8/site-packages/deap/creator.py:138: RuntimeWarning: A class named 'FitnessMax' has already been created and it will be overwritten. Consider deleting previous creation of that class or rename it.\n",
      "  warnings.warn(\"A class named '{0}' has already been created and it \"\n",
      "/home/cristina/anaconda3/lib/python3.8/site-packages/deap/creator.py:138: RuntimeWarning: A class named 'Individual' has already been created and it will be overwritten. Consider deleting previous creation of that class or rename it.\n",
      "  warnings.warn(\"A class named '{0}' has already been created and it \"\n"
     ]
    },
    {
     "name": "stdout",
     "output_type": "stream",
     "text": [
      " SE HAN INCLUIDO 15 EJEMPLOS SINTÉTICOS\n"
     ]
    },
    {
     "name": "stderr",
     "output_type": "stream",
     "text": [
      "/home/cristina/anaconda3/lib/python3.8/site-packages/deap/creator.py:138: RuntimeWarning: A class named 'FitnessMax' has already been created and it will be overwritten. Consider deleting previous creation of that class or rename it.\n",
      "  warnings.warn(\"A class named '{0}' has already been created and it \"\n",
      "/home/cristina/anaconda3/lib/python3.8/site-packages/deap/creator.py:138: RuntimeWarning: A class named 'Individual' has already been created and it will be overwritten. Consider deleting previous creation of that class or rename it.\n",
      "  warnings.warn(\"A class named '{0}' has already been created and it \"\n"
     ]
    },
    {
     "name": "stdout",
     "output_type": "stream",
     "text": [
      " SE HAN INCLUIDO 12 EJEMPLOS SINTÉTICOS\n"
     ]
    },
    {
     "name": "stderr",
     "output_type": "stream",
     "text": [
      "/home/cristina/anaconda3/lib/python3.8/site-packages/deap/creator.py:138: RuntimeWarning: A class named 'FitnessMax' has already been created and it will be overwritten. Consider deleting previous creation of that class or rename it.\n",
      "  warnings.warn(\"A class named '{0}' has already been created and it \"\n",
      "/home/cristina/anaconda3/lib/python3.8/site-packages/deap/creator.py:138: RuntimeWarning: A class named 'Individual' has already been created and it will be overwritten. Consider deleting previous creation of that class or rename it.\n",
      "  warnings.warn(\"A class named '{0}' has already been created and it \"\n"
     ]
    },
    {
     "name": "stdout",
     "output_type": "stream",
     "text": [
      " SE HAN INCLUIDO 10 EJEMPLOS SINTÉTICOS\n"
     ]
    },
    {
     "name": "stderr",
     "output_type": "stream",
     "text": [
      "/home/cristina/anaconda3/lib/python3.8/site-packages/deap/creator.py:138: RuntimeWarning: A class named 'FitnessMax' has already been created and it will be overwritten. Consider deleting previous creation of that class or rename it.\n",
      "  warnings.warn(\"A class named '{0}' has already been created and it \"\n",
      "/home/cristina/anaconda3/lib/python3.8/site-packages/deap/creator.py:138: RuntimeWarning: A class named 'Individual' has already been created and it will be overwritten. Consider deleting previous creation of that class or rename it.\n",
      "  warnings.warn(\"A class named '{0}' has already been created and it \"\n"
     ]
    },
    {
     "name": "stdout",
     "output_type": "stream",
     "text": [
      " SE HAN INCLUIDO 12 EJEMPLOS SINTÉTICOS\n"
     ]
    },
    {
     "name": "stderr",
     "output_type": "stream",
     "text": [
      "/home/cristina/anaconda3/lib/python3.8/site-packages/deap/creator.py:138: RuntimeWarning: A class named 'FitnessMax' has already been created and it will be overwritten. Consider deleting previous creation of that class or rename it.\n",
      "  warnings.warn(\"A class named '{0}' has already been created and it \"\n",
      "/home/cristina/anaconda3/lib/python3.8/site-packages/deap/creator.py:138: RuntimeWarning: A class named 'Individual' has already been created and it will be overwritten. Consider deleting previous creation of that class or rename it.\n",
      "  warnings.warn(\"A class named '{0}' has already been created and it \"\n"
     ]
    },
    {
     "name": "stdout",
     "output_type": "stream",
     "text": [
      " SE HAN INCLUIDO 12 EJEMPLOS SINTÉTICOS\n"
     ]
    },
    {
     "name": "stderr",
     "output_type": "stream",
     "text": [
      "/home/cristina/anaconda3/lib/python3.8/site-packages/deap/creator.py:138: RuntimeWarning: A class named 'FitnessMax' has already been created and it will be overwritten. Consider deleting previous creation of that class or rename it.\n",
      "  warnings.warn(\"A class named '{0}' has already been created and it \"\n",
      "/home/cristina/anaconda3/lib/python3.8/site-packages/deap/creator.py:138: RuntimeWarning: A class named 'Individual' has already been created and it will be overwritten. Consider deleting previous creation of that class or rename it.\n",
      "  warnings.warn(\"A class named '{0}' has already been created and it \"\n"
     ]
    },
    {
     "name": "stdout",
     "output_type": "stream",
     "text": [
      " SE HAN INCLUIDO 8 EJEMPLOS SINTÉTICOS\n"
     ]
    },
    {
     "name": "stderr",
     "output_type": "stream",
     "text": [
      "/home/cristina/anaconda3/lib/python3.8/site-packages/deap/creator.py:138: RuntimeWarning: A class named 'FitnessMax' has already been created and it will be overwritten. Consider deleting previous creation of that class or rename it.\n",
      "  warnings.warn(\"A class named '{0}' has already been created and it \"\n",
      "/home/cristina/anaconda3/lib/python3.8/site-packages/deap/creator.py:138: RuntimeWarning: A class named 'Individual' has already been created and it will be overwritten. Consider deleting previous creation of that class or rename it.\n",
      "  warnings.warn(\"A class named '{0}' has already been created and it \"\n"
     ]
    },
    {
     "name": "stdout",
     "output_type": "stream",
     "text": [
      " SE HAN INCLUIDO 14 EJEMPLOS SINTÉTICOS\n"
     ]
    },
    {
     "name": "stderr",
     "output_type": "stream",
     "text": [
      "/home/cristina/anaconda3/lib/python3.8/site-packages/deap/creator.py:138: RuntimeWarning: A class named 'FitnessMax' has already been created and it will be overwritten. Consider deleting previous creation of that class or rename it.\n",
      "  warnings.warn(\"A class named '{0}' has already been created and it \"\n",
      "/home/cristina/anaconda3/lib/python3.8/site-packages/deap/creator.py:138: RuntimeWarning: A class named 'Individual' has already been created and it will be overwritten. Consider deleting previous creation of that class or rename it.\n",
      "  warnings.warn(\"A class named '{0}' has already been created and it \"\n"
     ]
    },
    {
     "name": "stdout",
     "output_type": "stream",
     "text": [
      " SE HAN INCLUIDO 14 EJEMPLOS SINTÉTICOS\n"
     ]
    },
    {
     "name": "stderr",
     "output_type": "stream",
     "text": [
      "/home/cristina/anaconda3/lib/python3.8/site-packages/deap/creator.py:138: RuntimeWarning: A class named 'FitnessMax' has already been created and it will be overwritten. Consider deleting previous creation of that class or rename it.\n",
      "  warnings.warn(\"A class named '{0}' has already been created and it \"\n",
      "/home/cristina/anaconda3/lib/python3.8/site-packages/deap/creator.py:138: RuntimeWarning: A class named 'Individual' has already been created and it will be overwritten. Consider deleting previous creation of that class or rename it.\n",
      "  warnings.warn(\"A class named '{0}' has already been created and it \"\n"
     ]
    },
    {
     "name": "stdout",
     "output_type": "stream",
     "text": [
      " SE HAN INCLUIDO 11 EJEMPLOS SINTÉTICOS\n",
      "Gmean parcial: 62.49705875432201\n"
     ]
    },
    {
     "name": "stderr",
     "output_type": "stream",
     "text": [
      "/home/cristina/anaconda3/lib/python3.8/site-packages/deap/creator.py:138: RuntimeWarning: A class named 'FitnessMin' has already been created and it will be overwritten. Consider deleting previous creation of that class or rename it.\n",
      "  warnings.warn(\"A class named '{0}' has already been created and it \"\n",
      "/home/cristina/anaconda3/lib/python3.8/site-packages/deap/creator.py:138: RuntimeWarning: A class named 'Individual' has already been created and it will be overwritten. Consider deleting previous creation of that class or rename it.\n",
      "  warnings.warn(\"A class named '{0}' has already been created and it \"\n"
     ]
    },
    {
     "name": "stdout",
     "output_type": "stream",
     "text": [
      "Conjunto de entrenamiento original de tamaño: 362\n",
      "De los cuales:\n",
      " \t nº de ejemplos clase MAYORITARIA: 342\n",
      " \t nº de ejemplos clase MINORITARIA: 20\n",
      "nº de ejemplos clase MAYORITARIA tras aplicar DE-guided UNDERSAMPLING: 291\n",
      "Conjunto de entrenamiento actual de tamaño: 311\n"
     ]
    },
    {
     "name": "stderr",
     "output_type": "stream",
     "text": [
      "/home/cristina/anaconda3/lib/python3.8/site-packages/deap/creator.py:138: RuntimeWarning: A class named 'FitnessMax' has already been created and it will be overwritten. Consider deleting previous creation of that class or rename it.\n",
      "  warnings.warn(\"A class named '{0}' has already been created and it \"\n",
      "/home/cristina/anaconda3/lib/python3.8/site-packages/deap/creator.py:138: RuntimeWarning: A class named 'Individual' has already been created and it will be overwritten. Consider deleting previous creation of that class or rename it.\n",
      "  warnings.warn(\"A class named '{0}' has already been created and it \"\n"
     ]
    },
    {
     "name": "stdout",
     "output_type": "stream",
     "text": [
      " SE HAN INCLUIDO 15 EJEMPLOS SINTÉTICOS\n"
     ]
    },
    {
     "name": "stderr",
     "output_type": "stream",
     "text": [
      "/home/cristina/anaconda3/lib/python3.8/site-packages/deap/creator.py:138: RuntimeWarning: A class named 'FitnessMax' has already been created and it will be overwritten. Consider deleting previous creation of that class or rename it.\n",
      "  warnings.warn(\"A class named '{0}' has already been created and it \"\n",
      "/home/cristina/anaconda3/lib/python3.8/site-packages/deap/creator.py:138: RuntimeWarning: A class named 'Individual' has already been created and it will be overwritten. Consider deleting previous creation of that class or rename it.\n",
      "  warnings.warn(\"A class named '{0}' has already been created and it \"\n"
     ]
    },
    {
     "name": "stdout",
     "output_type": "stream",
     "text": [
      " SE HAN INCLUIDO 15 EJEMPLOS SINTÉTICOS\n"
     ]
    },
    {
     "name": "stderr",
     "output_type": "stream",
     "text": [
      "/home/cristina/anaconda3/lib/python3.8/site-packages/deap/creator.py:138: RuntimeWarning: A class named 'FitnessMax' has already been created and it will be overwritten. Consider deleting previous creation of that class or rename it.\n",
      "  warnings.warn(\"A class named '{0}' has already been created and it \"\n",
      "/home/cristina/anaconda3/lib/python3.8/site-packages/deap/creator.py:138: RuntimeWarning: A class named 'Individual' has already been created and it will be overwritten. Consider deleting previous creation of that class or rename it.\n",
      "  warnings.warn(\"A class named '{0}' has already been created and it \"\n"
     ]
    },
    {
     "name": "stdout",
     "output_type": "stream",
     "text": [
      " SE HAN INCLUIDO 12 EJEMPLOS SINTÉTICOS\n"
     ]
    },
    {
     "name": "stderr",
     "output_type": "stream",
     "text": [
      "/home/cristina/anaconda3/lib/python3.8/site-packages/deap/creator.py:138: RuntimeWarning: A class named 'FitnessMax' has already been created and it will be overwritten. Consider deleting previous creation of that class or rename it.\n",
      "  warnings.warn(\"A class named '{0}' has already been created and it \"\n",
      "/home/cristina/anaconda3/lib/python3.8/site-packages/deap/creator.py:138: RuntimeWarning: A class named 'Individual' has already been created and it will be overwritten. Consider deleting previous creation of that class or rename it.\n",
      "  warnings.warn(\"A class named '{0}' has already been created and it \"\n"
     ]
    },
    {
     "name": "stdout",
     "output_type": "stream",
     "text": [
      " SE HAN INCLUIDO 13 EJEMPLOS SINTÉTICOS\n"
     ]
    },
    {
     "name": "stderr",
     "output_type": "stream",
     "text": [
      "/home/cristina/anaconda3/lib/python3.8/site-packages/deap/creator.py:138: RuntimeWarning: A class named 'FitnessMax' has already been created and it will be overwritten. Consider deleting previous creation of that class or rename it.\n",
      "  warnings.warn(\"A class named '{0}' has already been created and it \"\n",
      "/home/cristina/anaconda3/lib/python3.8/site-packages/deap/creator.py:138: RuntimeWarning: A class named 'Individual' has already been created and it will be overwritten. Consider deleting previous creation of that class or rename it.\n",
      "  warnings.warn(\"A class named '{0}' has already been created and it \"\n"
     ]
    },
    {
     "name": "stdout",
     "output_type": "stream",
     "text": [
      " SE HAN INCLUIDO 13 EJEMPLOS SINTÉTICOS\n"
     ]
    },
    {
     "name": "stderr",
     "output_type": "stream",
     "text": [
      "/home/cristina/anaconda3/lib/python3.8/site-packages/deap/creator.py:138: RuntimeWarning: A class named 'FitnessMax' has already been created and it will be overwritten. Consider deleting previous creation of that class or rename it.\n",
      "  warnings.warn(\"A class named '{0}' has already been created and it \"\n",
      "/home/cristina/anaconda3/lib/python3.8/site-packages/deap/creator.py:138: RuntimeWarning: A class named 'Individual' has already been created and it will be overwritten. Consider deleting previous creation of that class or rename it.\n",
      "  warnings.warn(\"A class named '{0}' has already been created and it \"\n"
     ]
    },
    {
     "name": "stdout",
     "output_type": "stream",
     "text": [
      " SE HAN INCLUIDO 16 EJEMPLOS SINTÉTICOS\n"
     ]
    },
    {
     "name": "stderr",
     "output_type": "stream",
     "text": [
      "/home/cristina/anaconda3/lib/python3.8/site-packages/deap/creator.py:138: RuntimeWarning: A class named 'FitnessMax' has already been created and it will be overwritten. Consider deleting previous creation of that class or rename it.\n",
      "  warnings.warn(\"A class named '{0}' has already been created and it \"\n",
      "/home/cristina/anaconda3/lib/python3.8/site-packages/deap/creator.py:138: RuntimeWarning: A class named 'Individual' has already been created and it will be overwritten. Consider deleting previous creation of that class or rename it.\n",
      "  warnings.warn(\"A class named '{0}' has already been created and it \"\n"
     ]
    },
    {
     "name": "stdout",
     "output_type": "stream",
     "text": [
      " SE HAN INCLUIDO 15 EJEMPLOS SINTÉTICOS\n"
     ]
    },
    {
     "name": "stderr",
     "output_type": "stream",
     "text": [
      "/home/cristina/anaconda3/lib/python3.8/site-packages/deap/creator.py:138: RuntimeWarning: A class named 'FitnessMax' has already been created and it will be overwritten. Consider deleting previous creation of that class or rename it.\n",
      "  warnings.warn(\"A class named '{0}' has already been created and it \"\n",
      "/home/cristina/anaconda3/lib/python3.8/site-packages/deap/creator.py:138: RuntimeWarning: A class named 'Individual' has already been created and it will be overwritten. Consider deleting previous creation of that class or rename it.\n",
      "  warnings.warn(\"A class named '{0}' has already been created and it \"\n"
     ]
    },
    {
     "name": "stdout",
     "output_type": "stream",
     "text": [
      " SE HAN INCLUIDO 14 EJEMPLOS SINTÉTICOS\n"
     ]
    },
    {
     "name": "stderr",
     "output_type": "stream",
     "text": [
      "/home/cristina/anaconda3/lib/python3.8/site-packages/deap/creator.py:138: RuntimeWarning: A class named 'FitnessMax' has already been created and it will be overwritten. Consider deleting previous creation of that class or rename it.\n",
      "  warnings.warn(\"A class named '{0}' has already been created and it \"\n",
      "/home/cristina/anaconda3/lib/python3.8/site-packages/deap/creator.py:138: RuntimeWarning: A class named 'Individual' has already been created and it will be overwritten. Consider deleting previous creation of that class or rename it.\n",
      "  warnings.warn(\"A class named '{0}' has already been created and it \"\n"
     ]
    },
    {
     "name": "stdout",
     "output_type": "stream",
     "text": [
      " SE HAN INCLUIDO 14 EJEMPLOS SINTÉTICOS\n"
     ]
    },
    {
     "name": "stderr",
     "output_type": "stream",
     "text": [
      "/home/cristina/anaconda3/lib/python3.8/site-packages/deap/creator.py:138: RuntimeWarning: A class named 'FitnessMax' has already been created and it will be overwritten. Consider deleting previous creation of that class or rename it.\n",
      "  warnings.warn(\"A class named '{0}' has already been created and it \"\n",
      "/home/cristina/anaconda3/lib/python3.8/site-packages/deap/creator.py:138: RuntimeWarning: A class named 'Individual' has already been created and it will be overwritten. Consider deleting previous creation of that class or rename it.\n",
      "  warnings.warn(\"A class named '{0}' has already been created and it \"\n"
     ]
    },
    {
     "name": "stdout",
     "output_type": "stream",
     "text": [
      " SE HAN INCLUIDO 14 EJEMPLOS SINTÉTICOS\n",
      "Gmean parcial: 75.61512453751253\n"
     ]
    },
    {
     "name": "stderr",
     "output_type": "stream",
     "text": [
      "/home/cristina/anaconda3/lib/python3.8/site-packages/deap/creator.py:138: RuntimeWarning: A class named 'FitnessMin' has already been created and it will be overwritten. Consider deleting previous creation of that class or rename it.\n",
      "  warnings.warn(\"A class named '{0}' has already been created and it \"\n",
      "/home/cristina/anaconda3/lib/python3.8/site-packages/deap/creator.py:138: RuntimeWarning: A class named 'Individual' has already been created and it will be overwritten. Consider deleting previous creation of that class or rename it.\n",
      "  warnings.warn(\"A class named '{0}' has already been created and it \"\n"
     ]
    },
    {
     "name": "stdout",
     "output_type": "stream",
     "text": [
      "Conjunto de entrenamiento original de tamaño: 362\n",
      "De los cuales:\n",
      " \t nº de ejemplos clase MAYORITARIA: 342\n",
      " \t nº de ejemplos clase MINORITARIA: 20\n",
      "nº de ejemplos clase MAYORITARIA tras aplicar DE-guided UNDERSAMPLING: 323\n",
      "Conjunto de entrenamiento actual de tamaño: 343\n"
     ]
    },
    {
     "name": "stderr",
     "output_type": "stream",
     "text": [
      "/home/cristina/anaconda3/lib/python3.8/site-packages/deap/creator.py:138: RuntimeWarning: A class named 'FitnessMax' has already been created and it will be overwritten. Consider deleting previous creation of that class or rename it.\n",
      "  warnings.warn(\"A class named '{0}' has already been created and it \"\n",
      "/home/cristina/anaconda3/lib/python3.8/site-packages/deap/creator.py:138: RuntimeWarning: A class named 'Individual' has already been created and it will be overwritten. Consider deleting previous creation of that class or rename it.\n",
      "  warnings.warn(\"A class named '{0}' has already been created and it \"\n"
     ]
    },
    {
     "name": "stdout",
     "output_type": "stream",
     "text": [
      " SE HAN INCLUIDO 10 EJEMPLOS SINTÉTICOS\n"
     ]
    },
    {
     "name": "stderr",
     "output_type": "stream",
     "text": [
      "/home/cristina/anaconda3/lib/python3.8/site-packages/deap/creator.py:138: RuntimeWarning: A class named 'FitnessMax' has already been created and it will be overwritten. Consider deleting previous creation of that class or rename it.\n",
      "  warnings.warn(\"A class named '{0}' has already been created and it \"\n",
      "/home/cristina/anaconda3/lib/python3.8/site-packages/deap/creator.py:138: RuntimeWarning: A class named 'Individual' has already been created and it will be overwritten. Consider deleting previous creation of that class or rename it.\n",
      "  warnings.warn(\"A class named '{0}' has already been created and it \"\n"
     ]
    },
    {
     "name": "stdout",
     "output_type": "stream",
     "text": [
      " SE HAN INCLUIDO 11 EJEMPLOS SINTÉTICOS\n"
     ]
    },
    {
     "name": "stderr",
     "output_type": "stream",
     "text": [
      "/home/cristina/anaconda3/lib/python3.8/site-packages/deap/creator.py:138: RuntimeWarning: A class named 'FitnessMax' has already been created and it will be overwritten. Consider deleting previous creation of that class or rename it.\n",
      "  warnings.warn(\"A class named '{0}' has already been created and it \"\n",
      "/home/cristina/anaconda3/lib/python3.8/site-packages/deap/creator.py:138: RuntimeWarning: A class named 'Individual' has already been created and it will be overwritten. Consider deleting previous creation of that class or rename it.\n",
      "  warnings.warn(\"A class named '{0}' has already been created and it \"\n"
     ]
    },
    {
     "name": "stdout",
     "output_type": "stream",
     "text": [
      " SE HAN INCLUIDO 9 EJEMPLOS SINTÉTICOS\n"
     ]
    },
    {
     "name": "stderr",
     "output_type": "stream",
     "text": [
      "/home/cristina/anaconda3/lib/python3.8/site-packages/deap/creator.py:138: RuntimeWarning: A class named 'FitnessMax' has already been created and it will be overwritten. Consider deleting previous creation of that class or rename it.\n",
      "  warnings.warn(\"A class named '{0}' has already been created and it \"\n",
      "/home/cristina/anaconda3/lib/python3.8/site-packages/deap/creator.py:138: RuntimeWarning: A class named 'Individual' has already been created and it will be overwritten. Consider deleting previous creation of that class or rename it.\n",
      "  warnings.warn(\"A class named '{0}' has already been created and it \"\n"
     ]
    },
    {
     "name": "stdout",
     "output_type": "stream",
     "text": [
      " SE HAN INCLUIDO 13 EJEMPLOS SINTÉTICOS\n"
     ]
    },
    {
     "name": "stderr",
     "output_type": "stream",
     "text": [
      "/home/cristina/anaconda3/lib/python3.8/site-packages/deap/creator.py:138: RuntimeWarning: A class named 'FitnessMax' has already been created and it will be overwritten. Consider deleting previous creation of that class or rename it.\n",
      "  warnings.warn(\"A class named '{0}' has already been created and it \"\n",
      "/home/cristina/anaconda3/lib/python3.8/site-packages/deap/creator.py:138: RuntimeWarning: A class named 'Individual' has already been created and it will be overwritten. Consider deleting previous creation of that class or rename it.\n",
      "  warnings.warn(\"A class named '{0}' has already been created and it \"\n"
     ]
    },
    {
     "name": "stdout",
     "output_type": "stream",
     "text": [
      " SE HAN INCLUIDO 13 EJEMPLOS SINTÉTICOS\n"
     ]
    },
    {
     "name": "stderr",
     "output_type": "stream",
     "text": [
      "/home/cristina/anaconda3/lib/python3.8/site-packages/deap/creator.py:138: RuntimeWarning: A class named 'FitnessMax' has already been created and it will be overwritten. Consider deleting previous creation of that class or rename it.\n",
      "  warnings.warn(\"A class named '{0}' has already been created and it \"\n",
      "/home/cristina/anaconda3/lib/python3.8/site-packages/deap/creator.py:138: RuntimeWarning: A class named 'Individual' has already been created and it will be overwritten. Consider deleting previous creation of that class or rename it.\n",
      "  warnings.warn(\"A class named '{0}' has already been created and it \"\n"
     ]
    },
    {
     "name": "stdout",
     "output_type": "stream",
     "text": [
      " SE HAN INCLUIDO 14 EJEMPLOS SINTÉTICOS\n"
     ]
    },
    {
     "name": "stderr",
     "output_type": "stream",
     "text": [
      "/home/cristina/anaconda3/lib/python3.8/site-packages/deap/creator.py:138: RuntimeWarning: A class named 'FitnessMax' has already been created and it will be overwritten. Consider deleting previous creation of that class or rename it.\n",
      "  warnings.warn(\"A class named '{0}' has already been created and it \"\n",
      "/home/cristina/anaconda3/lib/python3.8/site-packages/deap/creator.py:138: RuntimeWarning: A class named 'Individual' has already been created and it will be overwritten. Consider deleting previous creation of that class or rename it.\n",
      "  warnings.warn(\"A class named '{0}' has already been created and it \"\n"
     ]
    },
    {
     "name": "stdout",
     "output_type": "stream",
     "text": [
      " SE HAN INCLUIDO 11 EJEMPLOS SINTÉTICOS\n"
     ]
    },
    {
     "name": "stderr",
     "output_type": "stream",
     "text": [
      "/home/cristina/anaconda3/lib/python3.8/site-packages/deap/creator.py:138: RuntimeWarning: A class named 'FitnessMax' has already been created and it will be overwritten. Consider deleting previous creation of that class or rename it.\n",
      "  warnings.warn(\"A class named '{0}' has already been created and it \"\n",
      "/home/cristina/anaconda3/lib/python3.8/site-packages/deap/creator.py:138: RuntimeWarning: A class named 'Individual' has already been created and it will be overwritten. Consider deleting previous creation of that class or rename it.\n",
      "  warnings.warn(\"A class named '{0}' has already been created and it \"\n"
     ]
    },
    {
     "name": "stdout",
     "output_type": "stream",
     "text": [
      " SE HAN INCLUIDO 11 EJEMPLOS SINTÉTICOS\n"
     ]
    },
    {
     "name": "stderr",
     "output_type": "stream",
     "text": [
      "/home/cristina/anaconda3/lib/python3.8/site-packages/deap/creator.py:138: RuntimeWarning: A class named 'FitnessMax' has already been created and it will be overwritten. Consider deleting previous creation of that class or rename it.\n",
      "  warnings.warn(\"A class named '{0}' has already been created and it \"\n",
      "/home/cristina/anaconda3/lib/python3.8/site-packages/deap/creator.py:138: RuntimeWarning: A class named 'Individual' has already been created and it will be overwritten. Consider deleting previous creation of that class or rename it.\n",
      "  warnings.warn(\"A class named '{0}' has already been created and it \"\n"
     ]
    },
    {
     "name": "stdout",
     "output_type": "stream",
     "text": [
      " SE HAN INCLUIDO 10 EJEMPLOS SINTÉTICOS\n"
     ]
    },
    {
     "name": "stderr",
     "output_type": "stream",
     "text": [
      "/home/cristina/anaconda3/lib/python3.8/site-packages/deap/creator.py:138: RuntimeWarning: A class named 'FitnessMax' has already been created and it will be overwritten. Consider deleting previous creation of that class or rename it.\n",
      "  warnings.warn(\"A class named '{0}' has already been created and it \"\n",
      "/home/cristina/anaconda3/lib/python3.8/site-packages/deap/creator.py:138: RuntimeWarning: A class named 'Individual' has already been created and it will be overwritten. Consider deleting previous creation of that class or rename it.\n",
      "  warnings.warn(\"A class named '{0}' has already been created and it \"\n"
     ]
    },
    {
     "name": "stdout",
     "output_type": "stream",
     "text": [
      " SE HAN INCLUIDO 11 EJEMPLOS SINTÉTICOS\n",
      "Gmean parcial: 76.08045277282231\n",
      "[77.00800320836487, 44.46059138210502, 62.49705875432201, 75.61512453751253, 76.08045277282231]\n",
      "Rendimiento del clasificador DERSBoost: 67.13224613102535\n",
      "Tiempo medio de entrenamiento: 609.4448711872101\n",
      "\n"
     ]
    }
   ],
   "source": [
    "ders_datasets = ['ecoli','spectrometer','libras_move','arrhythmia']\n",
    "dersRends = []\n",
    "execution_times = []\n",
    "for dataset in ders_datasets:\n",
    "    print(dataset.upper())\n",
    "    r, IR, exec_time = train_ensemble_method(dataset,'DERSBoost')\n",
    "    dersRends.append(r)\n",
    "    execution_times.append(exec_time)\n",
    "    print()"
   ]
  },
  {
   "cell_type": "code",
   "execution_count": null,
   "metadata": {},
   "outputs": [],
   "source": [
    "dersRends = [84.14589029802556, 87.48296830905146, 83.34580562998774, 83.35805231921684]\n",
    "ders_datasets = ['ecoli','spectrometer','libras_move','arrhythmia']\n",
    "rusRendsFiltered = []\n",
    "for dataset in ders_datasets:\n",
    "    idx = imblearn_datasets.index(dataset)\n",
    "    rusRendsFiltered.append(rend[1][idx])\n",
    "\n",
    "plt.figure(figsize=(10,10))\n",
    "plt.plot(ders_datasets, dersRends, label = 'DERS-Boost')\n",
    "plt.plot(ders_datasets, rusRendsFiltered, label = 'RUS-Boost')\n",
    "plt.xticks(ders_datasets, size = 'small', rotation = 45)\n",
    "plt.legend(loc='upper right')\n",
    "plt.ylabel('Rendimiento')\n",
    "plt.xlabel('datasets')\n",
    "plt.show()\n",
    "\n",
    "print(\"Media del rendimiento para los cuatro datasets con RUSBoost: \",stats.mean(rusRendsFiltered))\n",
    "print(\"Media del rendimiento para los cuatro datasets con DERSBoost: \",stats.mean(dersRends))"
   ]
  },
  {
   "cell_type": "code",
   "execution_count": 14,
   "metadata": {},
   "outputs": [
    {
     "name": "stdout",
     "output_type": "stream",
     "text": [
      "Dataset of size (336, 7)\n",
      "There are 301 instances for the majoritary class\n",
      "There are 35 instanes for the minoritary class\n",
      "IR of the dataset:  8.6\n"
     ]
    },
    {
     "name": "stderr",
     "output_type": "stream",
     "text": [
      "/home/cristina/anaconda3/lib/python3.8/site-packages/deap/creator.py:138: RuntimeWarning: A class named 'FitnessMin' has already been created and it will be overwritten. Consider deleting previous creation of that class or rename it.\n",
      "  warnings.warn(\"A class named '{0}' has already been created and it \"\n",
      "/home/cristina/anaconda3/lib/python3.8/site-packages/deap/creator.py:138: RuntimeWarning: A class named 'Individual' has already been created and it will be overwritten. Consider deleting previous creation of that class or rename it.\n",
      "  warnings.warn(\"A class named '{0}' has already been created and it \"\n"
     ]
    },
    {
     "name": "stdout",
     "output_type": "stream",
     "text": [
      "Conjunto de entrenamiento original de tamaño: 268\n",
      "De los cuales:\n",
      " \t nº de ejemplos clase MAYORITARIA: 240\n",
      " \t nº de ejemplos clase MINORITARIA: 28\n",
      "nº de ejemplos clase MAYORITARIA tras aplicar DE-guided UNDERSAMPLING: 139\n",
      "Conjunto de entrenamiento actual de tamaño: 167\n"
     ]
    },
    {
     "name": "stderr",
     "output_type": "stream",
     "text": [
      "/home/cristina/anaconda3/lib/python3.8/site-packages/deap/creator.py:138: RuntimeWarning: A class named 'Individual' has already been created and it will be overwritten. Consider deleting previous creation of that class or rename it.\n",
      "  warnings.warn(\"A class named '{0}' has already been created and it \"\n"
     ]
    },
    {
     "name": "stdout",
     "output_type": "stream",
     "text": [
      " SE HAN INCLUIDO 72 EJEMPLOS SINTÉTICOS\n"
     ]
    },
    {
     "name": "stderr",
     "output_type": "stream",
     "text": [
      "/home/cristina/anaconda3/lib/python3.8/site-packages/deap/creator.py:138: RuntimeWarning: A class named 'FitnessMax' has already been created and it will be overwritten. Consider deleting previous creation of that class or rename it.\n",
      "  warnings.warn(\"A class named '{0}' has already been created and it \"\n",
      "/home/cristina/anaconda3/lib/python3.8/site-packages/deap/creator.py:138: RuntimeWarning: A class named 'Individual' has already been created and it will be overwritten. Consider deleting previous creation of that class or rename it.\n",
      "  warnings.warn(\"A class named '{0}' has already been created and it \"\n"
     ]
    },
    {
     "name": "stdout",
     "output_type": "stream",
     "text": [
      " SE HAN INCLUIDO 80 EJEMPLOS SINTÉTICOS\n"
     ]
    },
    {
     "name": "stderr",
     "output_type": "stream",
     "text": [
      "/home/cristina/anaconda3/lib/python3.8/site-packages/deap/creator.py:138: RuntimeWarning: A class named 'FitnessMax' has already been created and it will be overwritten. Consider deleting previous creation of that class or rename it.\n",
      "  warnings.warn(\"A class named '{0}' has already been created and it \"\n",
      "/home/cristina/anaconda3/lib/python3.8/site-packages/deap/creator.py:138: RuntimeWarning: A class named 'Individual' has already been created and it will be overwritten. Consider deleting previous creation of that class or rename it.\n",
      "  warnings.warn(\"A class named '{0}' has already been created and it \"\n"
     ]
    },
    {
     "name": "stdout",
     "output_type": "stream",
     "text": [
      " SE HAN INCLUIDO 73 EJEMPLOS SINTÉTICOS\n"
     ]
    },
    {
     "name": "stderr",
     "output_type": "stream",
     "text": [
      "/home/cristina/anaconda3/lib/python3.8/site-packages/deap/creator.py:138: RuntimeWarning: A class named 'FitnessMax' has already been created and it will be overwritten. Consider deleting previous creation of that class or rename it.\n",
      "  warnings.warn(\"A class named '{0}' has already been created and it \"\n",
      "/home/cristina/anaconda3/lib/python3.8/site-packages/deap/creator.py:138: RuntimeWarning: A class named 'Individual' has already been created and it will be overwritten. Consider deleting previous creation of that class or rename it.\n",
      "  warnings.warn(\"A class named '{0}' has already been created and it \"\n"
     ]
    },
    {
     "name": "stdout",
     "output_type": "stream",
     "text": [
      " SE HAN INCLUIDO 61 EJEMPLOS SINTÉTICOS\n"
     ]
    },
    {
     "name": "stderr",
     "output_type": "stream",
     "text": [
      "/home/cristina/anaconda3/lib/python3.8/site-packages/deap/creator.py:138: RuntimeWarning: A class named 'FitnessMax' has already been created and it will be overwritten. Consider deleting previous creation of that class or rename it.\n",
      "  warnings.warn(\"A class named '{0}' has already been created and it \"\n",
      "/home/cristina/anaconda3/lib/python3.8/site-packages/deap/creator.py:138: RuntimeWarning: A class named 'Individual' has already been created and it will be overwritten. Consider deleting previous creation of that class or rename it.\n",
      "  warnings.warn(\"A class named '{0}' has already been created and it \"\n"
     ]
    },
    {
     "name": "stdout",
     "output_type": "stream",
     "text": [
      " SE HAN INCLUIDO 88 EJEMPLOS SINTÉTICOS\n"
     ]
    },
    {
     "name": "stderr",
     "output_type": "stream",
     "text": [
      "/home/cristina/anaconda3/lib/python3.8/site-packages/deap/creator.py:138: RuntimeWarning: A class named 'FitnessMax' has already been created and it will be overwritten. Consider deleting previous creation of that class or rename it.\n",
      "  warnings.warn(\"A class named '{0}' has already been created and it \"\n",
      "/home/cristina/anaconda3/lib/python3.8/site-packages/deap/creator.py:138: RuntimeWarning: A class named 'Individual' has already been created and it will be overwritten. Consider deleting previous creation of that class or rename it.\n",
      "  warnings.warn(\"A class named '{0}' has already been created and it \"\n"
     ]
    },
    {
     "name": "stdout",
     "output_type": "stream",
     "text": [
      " SE HAN INCLUIDO 80 EJEMPLOS SINTÉTICOS\n"
     ]
    },
    {
     "name": "stderr",
     "output_type": "stream",
     "text": [
      "/home/cristina/anaconda3/lib/python3.8/site-packages/deap/creator.py:138: RuntimeWarning: A class named 'FitnessMax' has already been created and it will be overwritten. Consider deleting previous creation of that class or rename it.\n",
      "  warnings.warn(\"A class named '{0}' has already been created and it \"\n",
      "/home/cristina/anaconda3/lib/python3.8/site-packages/deap/creator.py:138: RuntimeWarning: A class named 'Individual' has already been created and it will be overwritten. Consider deleting previous creation of that class or rename it.\n",
      "  warnings.warn(\"A class named '{0}' has already been created and it \"\n"
     ]
    },
    {
     "name": "stdout",
     "output_type": "stream",
     "text": [
      " SE HAN INCLUIDO 79 EJEMPLOS SINTÉTICOS\n"
     ]
    },
    {
     "name": "stderr",
     "output_type": "stream",
     "text": [
      "/home/cristina/anaconda3/lib/python3.8/site-packages/deap/creator.py:138: RuntimeWarning: A class named 'FitnessMax' has already been created and it will be overwritten. Consider deleting previous creation of that class or rename it.\n",
      "  warnings.warn(\"A class named '{0}' has already been created and it \"\n",
      "/home/cristina/anaconda3/lib/python3.8/site-packages/deap/creator.py:138: RuntimeWarning: A class named 'Individual' has already been created and it will be overwritten. Consider deleting previous creation of that class or rename it.\n",
      "  warnings.warn(\"A class named '{0}' has already been created and it \"\n"
     ]
    },
    {
     "name": "stdout",
     "output_type": "stream",
     "text": [
      " SE HAN INCLUIDO 77 EJEMPLOS SINTÉTICOS\n"
     ]
    },
    {
     "name": "stderr",
     "output_type": "stream",
     "text": [
      "/home/cristina/anaconda3/lib/python3.8/site-packages/deap/creator.py:138: RuntimeWarning: A class named 'FitnessMax' has already been created and it will be overwritten. Consider deleting previous creation of that class or rename it.\n",
      "  warnings.warn(\"A class named '{0}' has already been created and it \"\n",
      "/home/cristina/anaconda3/lib/python3.8/site-packages/deap/creator.py:138: RuntimeWarning: A class named 'Individual' has already been created and it will be overwritten. Consider deleting previous creation of that class or rename it.\n",
      "  warnings.warn(\"A class named '{0}' has already been created and it \"\n"
     ]
    },
    {
     "name": "stdout",
     "output_type": "stream",
     "text": [
      " SE HAN INCLUIDO 75 EJEMPLOS SINTÉTICOS\n"
     ]
    },
    {
     "name": "stderr",
     "output_type": "stream",
     "text": [
      "/home/cristina/anaconda3/lib/python3.8/site-packages/deap/creator.py:138: RuntimeWarning: A class named 'FitnessMax' has already been created and it will be overwritten. Consider deleting previous creation of that class or rename it.\n",
      "  warnings.warn(\"A class named '{0}' has already been created and it \"\n",
      "/home/cristina/anaconda3/lib/python3.8/site-packages/deap/creator.py:138: RuntimeWarning: A class named 'Individual' has already been created and it will be overwritten. Consider deleting previous creation of that class or rename it.\n",
      "  warnings.warn(\"A class named '{0}' has already been created and it \"\n"
     ]
    },
    {
     "name": "stdout",
     "output_type": "stream",
     "text": [
      " SE HAN INCLUIDO 88 EJEMPLOS SINTÉTICOS\n",
      "Gmean parcial: 100.0\n"
     ]
    },
    {
     "name": "stderr",
     "output_type": "stream",
     "text": [
      "/home/cristina/anaconda3/lib/python3.8/site-packages/deap/creator.py:138: RuntimeWarning: A class named 'FitnessMin' has already been created and it will be overwritten. Consider deleting previous creation of that class or rename it.\n",
      "  warnings.warn(\"A class named '{0}' has already been created and it \"\n",
      "/home/cristina/anaconda3/lib/python3.8/site-packages/deap/creator.py:138: RuntimeWarning: A class named 'Individual' has already been created and it will be overwritten. Consider deleting previous creation of that class or rename it.\n",
      "  warnings.warn(\"A class named '{0}' has already been created and it \"\n"
     ]
    },
    {
     "name": "stdout",
     "output_type": "stream",
     "text": [
      "Conjunto de entrenamiento original de tamaño: 269\n",
      "De los cuales:\n",
      " \t nº de ejemplos clase MAYORITARIA: 241\n",
      " \t nº de ejemplos clase MINORITARIA: 28\n",
      "nº de ejemplos clase MAYORITARIA tras aplicar DE-guided UNDERSAMPLING: 141\n",
      "Conjunto de entrenamiento actual de tamaño: 169\n"
     ]
    },
    {
     "name": "stderr",
     "output_type": "stream",
     "text": [
      "/home/cristina/anaconda3/lib/python3.8/site-packages/deap/creator.py:138: RuntimeWarning: A class named 'FitnessMax' has already been created and it will be overwritten. Consider deleting previous creation of that class or rename it.\n",
      "  warnings.warn(\"A class named '{0}' has already been created and it \"\n",
      "/home/cristina/anaconda3/lib/python3.8/site-packages/deap/creator.py:138: RuntimeWarning: A class named 'Individual' has already been created and it will be overwritten. Consider deleting previous creation of that class or rename it.\n",
      "  warnings.warn(\"A class named '{0}' has already been created and it \"\n"
     ]
    },
    {
     "name": "stdout",
     "output_type": "stream",
     "text": [
      " SE HAN INCLUIDO 71 EJEMPLOS SINTÉTICOS\n"
     ]
    },
    {
     "name": "stderr",
     "output_type": "stream",
     "text": [
      "/home/cristina/anaconda3/lib/python3.8/site-packages/deap/creator.py:138: RuntimeWarning: A class named 'FitnessMax' has already been created and it will be overwritten. Consider deleting previous creation of that class or rename it.\n",
      "  warnings.warn(\"A class named '{0}' has already been created and it \"\n",
      "/home/cristina/anaconda3/lib/python3.8/site-packages/deap/creator.py:138: RuntimeWarning: A class named 'Individual' has already been created and it will be overwritten. Consider deleting previous creation of that class or rename it.\n",
      "  warnings.warn(\"A class named '{0}' has already been created and it \"\n"
     ]
    },
    {
     "name": "stdout",
     "output_type": "stream",
     "text": [
      " SE HAN INCLUIDO 78 EJEMPLOS SINTÉTICOS\n"
     ]
    },
    {
     "name": "stderr",
     "output_type": "stream",
     "text": [
      "/home/cristina/anaconda3/lib/python3.8/site-packages/deap/creator.py:138: RuntimeWarning: A class named 'FitnessMax' has already been created and it will be overwritten. Consider deleting previous creation of that class or rename it.\n",
      "  warnings.warn(\"A class named '{0}' has already been created and it \"\n",
      "/home/cristina/anaconda3/lib/python3.8/site-packages/deap/creator.py:138: RuntimeWarning: A class named 'Individual' has already been created and it will be overwritten. Consider deleting previous creation of that class or rename it.\n",
      "  warnings.warn(\"A class named '{0}' has already been created and it \"\n"
     ]
    },
    {
     "name": "stdout",
     "output_type": "stream",
     "text": [
      " SE HAN INCLUIDO 69 EJEMPLOS SINTÉTICOS\n"
     ]
    },
    {
     "name": "stderr",
     "output_type": "stream",
     "text": [
      "/home/cristina/anaconda3/lib/python3.8/site-packages/deap/creator.py:138: RuntimeWarning: A class named 'FitnessMax' has already been created and it will be overwritten. Consider deleting previous creation of that class or rename it.\n",
      "  warnings.warn(\"A class named '{0}' has already been created and it \"\n",
      "/home/cristina/anaconda3/lib/python3.8/site-packages/deap/creator.py:138: RuntimeWarning: A class named 'Individual' has already been created and it will be overwritten. Consider deleting previous creation of that class or rename it.\n",
      "  warnings.warn(\"A class named '{0}' has already been created and it \"\n"
     ]
    },
    {
     "name": "stdout",
     "output_type": "stream",
     "text": [
      " SE HAN INCLUIDO 76 EJEMPLOS SINTÉTICOS\n"
     ]
    },
    {
     "name": "stderr",
     "output_type": "stream",
     "text": [
      "/home/cristina/anaconda3/lib/python3.8/site-packages/deap/creator.py:138: RuntimeWarning: A class named 'FitnessMax' has already been created and it will be overwritten. Consider deleting previous creation of that class or rename it.\n",
      "  warnings.warn(\"A class named '{0}' has already been created and it \"\n",
      "/home/cristina/anaconda3/lib/python3.8/site-packages/deap/creator.py:138: RuntimeWarning: A class named 'Individual' has already been created and it will be overwritten. Consider deleting previous creation of that class or rename it.\n",
      "  warnings.warn(\"A class named '{0}' has already been created and it \"\n"
     ]
    },
    {
     "name": "stdout",
     "output_type": "stream",
     "text": [
      " SE HAN INCLUIDO 71 EJEMPLOS SINTÉTICOS\n"
     ]
    },
    {
     "name": "stderr",
     "output_type": "stream",
     "text": [
      "/home/cristina/anaconda3/lib/python3.8/site-packages/deap/creator.py:138: RuntimeWarning: A class named 'FitnessMax' has already been created and it will be overwritten. Consider deleting previous creation of that class or rename it.\n",
      "  warnings.warn(\"A class named '{0}' has already been created and it \"\n",
      "/home/cristina/anaconda3/lib/python3.8/site-packages/deap/creator.py:138: RuntimeWarning: A class named 'Individual' has already been created and it will be overwritten. Consider deleting previous creation of that class or rename it.\n",
      "  warnings.warn(\"A class named '{0}' has already been created and it \"\n"
     ]
    },
    {
     "name": "stdout",
     "output_type": "stream",
     "text": [
      " SE HAN INCLUIDO 87 EJEMPLOS SINTÉTICOS\n"
     ]
    },
    {
     "name": "stderr",
     "output_type": "stream",
     "text": [
      "/home/cristina/anaconda3/lib/python3.8/site-packages/deap/creator.py:138: RuntimeWarning: A class named 'FitnessMax' has already been created and it will be overwritten. Consider deleting previous creation of that class or rename it.\n",
      "  warnings.warn(\"A class named '{0}' has already been created and it \"\n",
      "/home/cristina/anaconda3/lib/python3.8/site-packages/deap/creator.py:138: RuntimeWarning: A class named 'Individual' has already been created and it will be overwritten. Consider deleting previous creation of that class or rename it.\n",
      "  warnings.warn(\"A class named '{0}' has already been created and it \"\n"
     ]
    },
    {
     "name": "stdout",
     "output_type": "stream",
     "text": [
      " SE HAN INCLUIDO 69 EJEMPLOS SINTÉTICOS\n"
     ]
    },
    {
     "name": "stderr",
     "output_type": "stream",
     "text": [
      "/home/cristina/anaconda3/lib/python3.8/site-packages/deap/creator.py:138: RuntimeWarning: A class named 'FitnessMax' has already been created and it will be overwritten. Consider deleting previous creation of that class or rename it.\n",
      "  warnings.warn(\"A class named '{0}' has already been created and it \"\n",
      "/home/cristina/anaconda3/lib/python3.8/site-packages/deap/creator.py:138: RuntimeWarning: A class named 'Individual' has already been created and it will be overwritten. Consider deleting previous creation of that class or rename it.\n",
      "  warnings.warn(\"A class named '{0}' has already been created and it \"\n"
     ]
    },
    {
     "name": "stdout",
     "output_type": "stream",
     "text": [
      " SE HAN INCLUIDO 59 EJEMPLOS SINTÉTICOS\n"
     ]
    },
    {
     "name": "stderr",
     "output_type": "stream",
     "text": [
      "/home/cristina/anaconda3/lib/python3.8/site-packages/deap/creator.py:138: RuntimeWarning: A class named 'FitnessMax' has already been created and it will be overwritten. Consider deleting previous creation of that class or rename it.\n",
      "  warnings.warn(\"A class named '{0}' has already been created and it \"\n",
      "/home/cristina/anaconda3/lib/python3.8/site-packages/deap/creator.py:138: RuntimeWarning: A class named 'Individual' has already been created and it will be overwritten. Consider deleting previous creation of that class or rename it.\n",
      "  warnings.warn(\"A class named '{0}' has already been created and it \"\n"
     ]
    },
    {
     "name": "stdout",
     "output_type": "stream",
     "text": [
      " SE HAN INCLUIDO 72 EJEMPLOS SINTÉTICOS\n"
     ]
    },
    {
     "name": "stderr",
     "output_type": "stream",
     "text": [
      "/home/cristina/anaconda3/lib/python3.8/site-packages/deap/creator.py:138: RuntimeWarning: A class named 'FitnessMax' has already been created and it will be overwritten. Consider deleting previous creation of that class or rename it.\n",
      "  warnings.warn(\"A class named '{0}' has already been created and it \"\n",
      "/home/cristina/anaconda3/lib/python3.8/site-packages/deap/creator.py:138: RuntimeWarning: A class named 'Individual' has already been created and it will be overwritten. Consider deleting previous creation of that class or rename it.\n",
      "  warnings.warn(\"A class named '{0}' has already been created and it \"\n"
     ]
    },
    {
     "name": "stdout",
     "output_type": "stream",
     "text": [
      " SE HAN INCLUIDO 84 EJEMPLOS SINTÉTICOS\n",
      "Gmean parcial: 74.96030695673291\n"
     ]
    },
    {
     "name": "stderr",
     "output_type": "stream",
     "text": [
      "/home/cristina/anaconda3/lib/python3.8/site-packages/deap/creator.py:138: RuntimeWarning: A class named 'FitnessMin' has already been created and it will be overwritten. Consider deleting previous creation of that class or rename it.\n",
      "  warnings.warn(\"A class named '{0}' has already been created and it \"\n",
      "/home/cristina/anaconda3/lib/python3.8/site-packages/deap/creator.py:138: RuntimeWarning: A class named 'Individual' has already been created and it will be overwritten. Consider deleting previous creation of that class or rename it.\n",
      "  warnings.warn(\"A class named '{0}' has already been created and it \"\n"
     ]
    },
    {
     "name": "stdout",
     "output_type": "stream",
     "text": [
      "Conjunto de entrenamiento original de tamaño: 269\n",
      "De los cuales:\n",
      " \t nº de ejemplos clase MAYORITARIA: 241\n",
      " \t nº de ejemplos clase MINORITARIA: 28\n",
      "nº de ejemplos clase MAYORITARIA tras aplicar DE-guided UNDERSAMPLING: 119\n",
      "Conjunto de entrenamiento actual de tamaño: 147\n"
     ]
    },
    {
     "name": "stderr",
     "output_type": "stream",
     "text": [
      "/home/cristina/anaconda3/lib/python3.8/site-packages/deap/creator.py:138: RuntimeWarning: A class named 'FitnessMax' has already been created and it will be overwritten. Consider deleting previous creation of that class or rename it.\n",
      "  warnings.warn(\"A class named '{0}' has already been created and it \"\n",
      "/home/cristina/anaconda3/lib/python3.8/site-packages/deap/creator.py:138: RuntimeWarning: A class named 'Individual' has already been created and it will be overwritten. Consider deleting previous creation of that class or rename it.\n",
      "  warnings.warn(\"A class named '{0}' has already been created and it \"\n"
     ]
    },
    {
     "name": "stdout",
     "output_type": "stream",
     "text": [
      " SE HAN INCLUIDO 65 EJEMPLOS SINTÉTICOS\n"
     ]
    },
    {
     "name": "stderr",
     "output_type": "stream",
     "text": [
      "/home/cristina/anaconda3/lib/python3.8/site-packages/deap/creator.py:138: RuntimeWarning: A class named 'FitnessMax' has already been created and it will be overwritten. Consider deleting previous creation of that class or rename it.\n",
      "  warnings.warn(\"A class named '{0}' has already been created and it \"\n",
      "/home/cristina/anaconda3/lib/python3.8/site-packages/deap/creator.py:138: RuntimeWarning: A class named 'Individual' has already been created and it will be overwritten. Consider deleting previous creation of that class or rename it.\n",
      "  warnings.warn(\"A class named '{0}' has already been created and it \"\n"
     ]
    },
    {
     "name": "stdout",
     "output_type": "stream",
     "text": [
      " SE HAN INCLUIDO 68 EJEMPLOS SINTÉTICOS\n"
     ]
    },
    {
     "name": "stderr",
     "output_type": "stream",
     "text": [
      "/home/cristina/anaconda3/lib/python3.8/site-packages/deap/creator.py:138: RuntimeWarning: A class named 'FitnessMax' has already been created and it will be overwritten. Consider deleting previous creation of that class or rename it.\n",
      "  warnings.warn(\"A class named '{0}' has already been created and it \"\n",
      "/home/cristina/anaconda3/lib/python3.8/site-packages/deap/creator.py:138: RuntimeWarning: A class named 'Individual' has already been created and it will be overwritten. Consider deleting previous creation of that class or rename it.\n",
      "  warnings.warn(\"A class named '{0}' has already been created and it \"\n"
     ]
    },
    {
     "name": "stdout",
     "output_type": "stream",
     "text": [
      " SE HAN INCLUIDO 71 EJEMPLOS SINTÉTICOS\n"
     ]
    },
    {
     "name": "stderr",
     "output_type": "stream",
     "text": [
      "/home/cristina/anaconda3/lib/python3.8/site-packages/deap/creator.py:138: RuntimeWarning: A class named 'FitnessMax' has already been created and it will be overwritten. Consider deleting previous creation of that class or rename it.\n",
      "  warnings.warn(\"A class named '{0}' has already been created and it \"\n",
      "/home/cristina/anaconda3/lib/python3.8/site-packages/deap/creator.py:138: RuntimeWarning: A class named 'Individual' has already been created and it will be overwritten. Consider deleting previous creation of that class or rename it.\n",
      "  warnings.warn(\"A class named '{0}' has already been created and it \"\n"
     ]
    },
    {
     "name": "stdout",
     "output_type": "stream",
     "text": [
      " SE HAN INCLUIDO 41 EJEMPLOS SINTÉTICOS\n"
     ]
    },
    {
     "name": "stderr",
     "output_type": "stream",
     "text": [
      "/home/cristina/anaconda3/lib/python3.8/site-packages/deap/creator.py:138: RuntimeWarning: A class named 'FitnessMax' has already been created and it will be overwritten. Consider deleting previous creation of that class or rename it.\n",
      "  warnings.warn(\"A class named '{0}' has already been created and it \"\n",
      "/home/cristina/anaconda3/lib/python3.8/site-packages/deap/creator.py:138: RuntimeWarning: A class named 'Individual' has already been created and it will be overwritten. Consider deleting previous creation of that class or rename it.\n",
      "  warnings.warn(\"A class named '{0}' has already been created and it \"\n"
     ]
    },
    {
     "name": "stdout",
     "output_type": "stream",
     "text": [
      " SE HAN INCLUIDO 41 EJEMPLOS SINTÉTICOS\n"
     ]
    },
    {
     "name": "stderr",
     "output_type": "stream",
     "text": [
      "/home/cristina/anaconda3/lib/python3.8/site-packages/deap/creator.py:138: RuntimeWarning: A class named 'FitnessMax' has already been created and it will be overwritten. Consider deleting previous creation of that class or rename it.\n",
      "  warnings.warn(\"A class named '{0}' has already been created and it \"\n",
      "/home/cristina/anaconda3/lib/python3.8/site-packages/deap/creator.py:138: RuntimeWarning: A class named 'Individual' has already been created and it will be overwritten. Consider deleting previous creation of that class or rename it.\n",
      "  warnings.warn(\"A class named '{0}' has already been created and it \"\n"
     ]
    },
    {
     "name": "stdout",
     "output_type": "stream",
     "text": [
      " SE HAN INCLUIDO 67 EJEMPLOS SINTÉTICOS\n"
     ]
    },
    {
     "name": "stderr",
     "output_type": "stream",
     "text": [
      "/home/cristina/anaconda3/lib/python3.8/site-packages/deap/creator.py:138: RuntimeWarning: A class named 'FitnessMax' has already been created and it will be overwritten. Consider deleting previous creation of that class or rename it.\n",
      "  warnings.warn(\"A class named '{0}' has already been created and it \"\n",
      "/home/cristina/anaconda3/lib/python3.8/site-packages/deap/creator.py:138: RuntimeWarning: A class named 'Individual' has already been created and it will be overwritten. Consider deleting previous creation of that class or rename it.\n",
      "  warnings.warn(\"A class named '{0}' has already been created and it \"\n"
     ]
    },
    {
     "name": "stdout",
     "output_type": "stream",
     "text": [
      " SE HAN INCLUIDO 61 EJEMPLOS SINTÉTICOS\n"
     ]
    },
    {
     "name": "stderr",
     "output_type": "stream",
     "text": [
      "/home/cristina/anaconda3/lib/python3.8/site-packages/deap/creator.py:138: RuntimeWarning: A class named 'FitnessMax' has already been created and it will be overwritten. Consider deleting previous creation of that class or rename it.\n",
      "  warnings.warn(\"A class named '{0}' has already been created and it \"\n",
      "/home/cristina/anaconda3/lib/python3.8/site-packages/deap/creator.py:138: RuntimeWarning: A class named 'Individual' has already been created and it will be overwritten. Consider deleting previous creation of that class or rename it.\n",
      "  warnings.warn(\"A class named '{0}' has already been created and it \"\n"
     ]
    },
    {
     "name": "stdout",
     "output_type": "stream",
     "text": [
      " SE HAN INCLUIDO 73 EJEMPLOS SINTÉTICOS\n"
     ]
    },
    {
     "name": "stderr",
     "output_type": "stream",
     "text": [
      "/home/cristina/anaconda3/lib/python3.8/site-packages/deap/creator.py:138: RuntimeWarning: A class named 'FitnessMax' has already been created and it will be overwritten. Consider deleting previous creation of that class or rename it.\n",
      "  warnings.warn(\"A class named '{0}' has already been created and it \"\n",
      "/home/cristina/anaconda3/lib/python3.8/site-packages/deap/creator.py:138: RuntimeWarning: A class named 'Individual' has already been created and it will be overwritten. Consider deleting previous creation of that class or rename it.\n",
      "  warnings.warn(\"A class named '{0}' has already been created and it \"\n"
     ]
    },
    {
     "name": "stdout",
     "output_type": "stream",
     "text": [
      " SE HAN INCLUIDO 63 EJEMPLOS SINTÉTICOS\n"
     ]
    },
    {
     "name": "stderr",
     "output_type": "stream",
     "text": [
      "/home/cristina/anaconda3/lib/python3.8/site-packages/deap/creator.py:138: RuntimeWarning: A class named 'FitnessMax' has already been created and it will be overwritten. Consider deleting previous creation of that class or rename it.\n",
      "  warnings.warn(\"A class named '{0}' has already been created and it \"\n",
      "/home/cristina/anaconda3/lib/python3.8/site-packages/deap/creator.py:138: RuntimeWarning: A class named 'Individual' has already been created and it will be overwritten. Consider deleting previous creation of that class or rename it.\n",
      "  warnings.warn(\"A class named '{0}' has already been created and it \"\n"
     ]
    },
    {
     "name": "stdout",
     "output_type": "stream",
     "text": [
      " SE HAN INCLUIDO 68 EJEMPLOS SINTÉTICOS\n",
      "Gmean parcial: 82.8078671210825\n"
     ]
    },
    {
     "name": "stderr",
     "output_type": "stream",
     "text": [
      "/home/cristina/anaconda3/lib/python3.8/site-packages/deap/creator.py:138: RuntimeWarning: A class named 'FitnessMin' has already been created and it will be overwritten. Consider deleting previous creation of that class or rename it.\n",
      "  warnings.warn(\"A class named '{0}' has already been created and it \"\n",
      "/home/cristina/anaconda3/lib/python3.8/site-packages/deap/creator.py:138: RuntimeWarning: A class named 'Individual' has already been created and it will be overwritten. Consider deleting previous creation of that class or rename it.\n",
      "  warnings.warn(\"A class named '{0}' has already been created and it \"\n"
     ]
    },
    {
     "name": "stdout",
     "output_type": "stream",
     "text": [
      "Conjunto de entrenamiento original de tamaño: 269\n",
      "De los cuales:\n",
      " \t nº de ejemplos clase MAYORITARIA: 241\n",
      " \t nº de ejemplos clase MINORITARIA: 28\n",
      "nº de ejemplos clase MAYORITARIA tras aplicar DE-guided UNDERSAMPLING: 119\n",
      "Conjunto de entrenamiento actual de tamaño: 147\n"
     ]
    },
    {
     "name": "stderr",
     "output_type": "stream",
     "text": [
      "/home/cristina/anaconda3/lib/python3.8/site-packages/deap/creator.py:138: RuntimeWarning: A class named 'FitnessMax' has already been created and it will be overwritten. Consider deleting previous creation of that class or rename it.\n",
      "  warnings.warn(\"A class named '{0}' has already been created and it \"\n",
      "/home/cristina/anaconda3/lib/python3.8/site-packages/deap/creator.py:138: RuntimeWarning: A class named 'Individual' has already been created and it will be overwritten. Consider deleting previous creation of that class or rename it.\n",
      "  warnings.warn(\"A class named '{0}' has already been created and it \"\n"
     ]
    },
    {
     "name": "stdout",
     "output_type": "stream",
     "text": [
      " SE HAN INCLUIDO 53 EJEMPLOS SINTÉTICOS\n"
     ]
    },
    {
     "name": "stderr",
     "output_type": "stream",
     "text": [
      "/home/cristina/anaconda3/lib/python3.8/site-packages/deap/creator.py:138: RuntimeWarning: A class named 'FitnessMax' has already been created and it will be overwritten. Consider deleting previous creation of that class or rename it.\n",
      "  warnings.warn(\"A class named '{0}' has already been created and it \"\n",
      "/home/cristina/anaconda3/lib/python3.8/site-packages/deap/creator.py:138: RuntimeWarning: A class named 'Individual' has already been created and it will be overwritten. Consider deleting previous creation of that class or rename it.\n",
      "  warnings.warn(\"A class named '{0}' has already been created and it \"\n"
     ]
    },
    {
     "name": "stdout",
     "output_type": "stream",
     "text": [
      " SE HAN INCLUIDO 62 EJEMPLOS SINTÉTICOS\n"
     ]
    },
    {
     "name": "stderr",
     "output_type": "stream",
     "text": [
      "/home/cristina/anaconda3/lib/python3.8/site-packages/deap/creator.py:138: RuntimeWarning: A class named 'FitnessMax' has already been created and it will be overwritten. Consider deleting previous creation of that class or rename it.\n",
      "  warnings.warn(\"A class named '{0}' has already been created and it \"\n",
      "/home/cristina/anaconda3/lib/python3.8/site-packages/deap/creator.py:138: RuntimeWarning: A class named 'Individual' has already been created and it will be overwritten. Consider deleting previous creation of that class or rename it.\n",
      "  warnings.warn(\"A class named '{0}' has already been created and it \"\n"
     ]
    },
    {
     "name": "stdout",
     "output_type": "stream",
     "text": [
      " SE HAN INCLUIDO 58 EJEMPLOS SINTÉTICOS\n"
     ]
    },
    {
     "name": "stderr",
     "output_type": "stream",
     "text": [
      "/home/cristina/anaconda3/lib/python3.8/site-packages/deap/creator.py:138: RuntimeWarning: A class named 'FitnessMax' has already been created and it will be overwritten. Consider deleting previous creation of that class or rename it.\n",
      "  warnings.warn(\"A class named '{0}' has already been created and it \"\n",
      "/home/cristina/anaconda3/lib/python3.8/site-packages/deap/creator.py:138: RuntimeWarning: A class named 'Individual' has already been created and it will be overwritten. Consider deleting previous creation of that class or rename it.\n",
      "  warnings.warn(\"A class named '{0}' has already been created and it \"\n"
     ]
    },
    {
     "name": "stdout",
     "output_type": "stream",
     "text": [
      " SE HAN INCLUIDO 57 EJEMPLOS SINTÉTICOS\n"
     ]
    },
    {
     "name": "stderr",
     "output_type": "stream",
     "text": [
      "/home/cristina/anaconda3/lib/python3.8/site-packages/deap/creator.py:138: RuntimeWarning: A class named 'FitnessMax' has already been created and it will be overwritten. Consider deleting previous creation of that class or rename it.\n",
      "  warnings.warn(\"A class named '{0}' has already been created and it \"\n",
      "/home/cristina/anaconda3/lib/python3.8/site-packages/deap/creator.py:138: RuntimeWarning: A class named 'Individual' has already been created and it will be overwritten. Consider deleting previous creation of that class or rename it.\n",
      "  warnings.warn(\"A class named '{0}' has already been created and it \"\n"
     ]
    },
    {
     "name": "stdout",
     "output_type": "stream",
     "text": [
      " SE HAN INCLUIDO 51 EJEMPLOS SINTÉTICOS\n"
     ]
    },
    {
     "name": "stderr",
     "output_type": "stream",
     "text": [
      "/home/cristina/anaconda3/lib/python3.8/site-packages/deap/creator.py:138: RuntimeWarning: A class named 'FitnessMax' has already been created and it will be overwritten. Consider deleting previous creation of that class or rename it.\n",
      "  warnings.warn(\"A class named '{0}' has already been created and it \"\n",
      "/home/cristina/anaconda3/lib/python3.8/site-packages/deap/creator.py:138: RuntimeWarning: A class named 'Individual' has already been created and it will be overwritten. Consider deleting previous creation of that class or rename it.\n",
      "  warnings.warn(\"A class named '{0}' has already been created and it \"\n"
     ]
    },
    {
     "name": "stdout",
     "output_type": "stream",
     "text": [
      " SE HAN INCLUIDO 48 EJEMPLOS SINTÉTICOS\n"
     ]
    },
    {
     "name": "stderr",
     "output_type": "stream",
     "text": [
      "/home/cristina/anaconda3/lib/python3.8/site-packages/deap/creator.py:138: RuntimeWarning: A class named 'FitnessMax' has already been created and it will be overwritten. Consider deleting previous creation of that class or rename it.\n",
      "  warnings.warn(\"A class named '{0}' has already been created and it \"\n",
      "/home/cristina/anaconda3/lib/python3.8/site-packages/deap/creator.py:138: RuntimeWarning: A class named 'Individual' has already been created and it will be overwritten. Consider deleting previous creation of that class or rename it.\n",
      "  warnings.warn(\"A class named '{0}' has already been created and it \"\n"
     ]
    },
    {
     "name": "stdout",
     "output_type": "stream",
     "text": [
      " SE HAN INCLUIDO 68 EJEMPLOS SINTÉTICOS\n"
     ]
    },
    {
     "name": "stderr",
     "output_type": "stream",
     "text": [
      "/home/cristina/anaconda3/lib/python3.8/site-packages/deap/creator.py:138: RuntimeWarning: A class named 'FitnessMax' has already been created and it will be overwritten. Consider deleting previous creation of that class or rename it.\n",
      "  warnings.warn(\"A class named '{0}' has already been created and it \"\n",
      "/home/cristina/anaconda3/lib/python3.8/site-packages/deap/creator.py:138: RuntimeWarning: A class named 'Individual' has already been created and it will be overwritten. Consider deleting previous creation of that class or rename it.\n",
      "  warnings.warn(\"A class named '{0}' has already been created and it \"\n"
     ]
    },
    {
     "name": "stdout",
     "output_type": "stream",
     "text": [
      " SE HAN INCLUIDO 44 EJEMPLOS SINTÉTICOS\n"
     ]
    },
    {
     "name": "stderr",
     "output_type": "stream",
     "text": [
      "/home/cristina/anaconda3/lib/python3.8/site-packages/deap/creator.py:138: RuntimeWarning: A class named 'FitnessMax' has already been created and it will be overwritten. Consider deleting previous creation of that class or rename it.\n",
      "  warnings.warn(\"A class named '{0}' has already been created and it \"\n",
      "/home/cristina/anaconda3/lib/python3.8/site-packages/deap/creator.py:138: RuntimeWarning: A class named 'Individual' has already been created and it will be overwritten. Consider deleting previous creation of that class or rename it.\n",
      "  warnings.warn(\"A class named '{0}' has already been created and it \"\n"
     ]
    },
    {
     "name": "stdout",
     "output_type": "stream",
     "text": [
      " SE HAN INCLUIDO 45 EJEMPLOS SINTÉTICOS\n"
     ]
    },
    {
     "name": "stderr",
     "output_type": "stream",
     "text": [
      "/home/cristina/anaconda3/lib/python3.8/site-packages/deap/creator.py:138: RuntimeWarning: A class named 'FitnessMax' has already been created and it will be overwritten. Consider deleting previous creation of that class or rename it.\n",
      "  warnings.warn(\"A class named '{0}' has already been created and it \"\n",
      "/home/cristina/anaconda3/lib/python3.8/site-packages/deap/creator.py:138: RuntimeWarning: A class named 'Individual' has already been created and it will be overwritten. Consider deleting previous creation of that class or rename it.\n",
      "  warnings.warn(\"A class named '{0}' has already been created and it \"\n"
     ]
    },
    {
     "name": "stdout",
     "output_type": "stream",
     "text": [
      " SE HAN INCLUIDO 49 EJEMPLOS SINTÉTICOS\n",
      "Gmean parcial: 57.94085654478071\n"
     ]
    },
    {
     "name": "stderr",
     "output_type": "stream",
     "text": [
      "/home/cristina/anaconda3/lib/python3.8/site-packages/deap/creator.py:138: RuntimeWarning: A class named 'FitnessMin' has already been created and it will be overwritten. Consider deleting previous creation of that class or rename it.\n",
      "  warnings.warn(\"A class named '{0}' has already been created and it \"\n",
      "/home/cristina/anaconda3/lib/python3.8/site-packages/deap/creator.py:138: RuntimeWarning: A class named 'Individual' has already been created and it will be overwritten. Consider deleting previous creation of that class or rename it.\n",
      "  warnings.warn(\"A class named '{0}' has already been created and it \"\n"
     ]
    },
    {
     "name": "stdout",
     "output_type": "stream",
     "text": [
      "Conjunto de entrenamiento original de tamaño: 269\n",
      "De los cuales:\n",
      " \t nº de ejemplos clase MAYORITARIA: 241\n",
      " \t nº de ejemplos clase MINORITARIA: 28\n",
      "nº de ejemplos clase MAYORITARIA tras aplicar DE-guided UNDERSAMPLING: 140\n",
      "Conjunto de entrenamiento actual de tamaño: 168\n"
     ]
    },
    {
     "name": "stderr",
     "output_type": "stream",
     "text": [
      "/home/cristina/anaconda3/lib/python3.8/site-packages/deap/creator.py:138: RuntimeWarning: A class named 'FitnessMax' has already been created and it will be overwritten. Consider deleting previous creation of that class or rename it.\n",
      "  warnings.warn(\"A class named '{0}' has already been created and it \"\n",
      "/home/cristina/anaconda3/lib/python3.8/site-packages/deap/creator.py:138: RuntimeWarning: A class named 'Individual' has already been created and it will be overwritten. Consider deleting previous creation of that class or rename it.\n",
      "  warnings.warn(\"A class named '{0}' has already been created and it \"\n"
     ]
    },
    {
     "name": "stdout",
     "output_type": "stream",
     "text": [
      " SE HAN INCLUIDO 78 EJEMPLOS SINTÉTICOS\n"
     ]
    },
    {
     "name": "stderr",
     "output_type": "stream",
     "text": [
      "/home/cristina/anaconda3/lib/python3.8/site-packages/deap/creator.py:138: RuntimeWarning: A class named 'FitnessMax' has already been created and it will be overwritten. Consider deleting previous creation of that class or rename it.\n",
      "  warnings.warn(\"A class named '{0}' has already been created and it \"\n",
      "/home/cristina/anaconda3/lib/python3.8/site-packages/deap/creator.py:138: RuntimeWarning: A class named 'Individual' has already been created and it will be overwritten. Consider deleting previous creation of that class or rename it.\n",
      "  warnings.warn(\"A class named '{0}' has already been created and it \"\n"
     ]
    },
    {
     "name": "stdout",
     "output_type": "stream",
     "text": [
      " SE HAN INCLUIDO 81 EJEMPLOS SINTÉTICOS\n"
     ]
    },
    {
     "name": "stderr",
     "output_type": "stream",
     "text": [
      "/home/cristina/anaconda3/lib/python3.8/site-packages/deap/creator.py:138: RuntimeWarning: A class named 'FitnessMax' has already been created and it will be overwritten. Consider deleting previous creation of that class or rename it.\n",
      "  warnings.warn(\"A class named '{0}' has already been created and it \"\n",
      "/home/cristina/anaconda3/lib/python3.8/site-packages/deap/creator.py:138: RuntimeWarning: A class named 'Individual' has already been created and it will be overwritten. Consider deleting previous creation of that class or rename it.\n",
      "  warnings.warn(\"A class named '{0}' has already been created and it \"\n"
     ]
    },
    {
     "name": "stdout",
     "output_type": "stream",
     "text": [
      " SE HAN INCLUIDO 87 EJEMPLOS SINTÉTICOS\n"
     ]
    },
    {
     "name": "stderr",
     "output_type": "stream",
     "text": [
      "/home/cristina/anaconda3/lib/python3.8/site-packages/deap/creator.py:138: RuntimeWarning: A class named 'FitnessMax' has already been created and it will be overwritten. Consider deleting previous creation of that class or rename it.\n",
      "  warnings.warn(\"A class named '{0}' has already been created and it \"\n",
      "/home/cristina/anaconda3/lib/python3.8/site-packages/deap/creator.py:138: RuntimeWarning: A class named 'Individual' has already been created and it will be overwritten. Consider deleting previous creation of that class or rename it.\n",
      "  warnings.warn(\"A class named '{0}' has already been created and it \"\n"
     ]
    },
    {
     "name": "stdout",
     "output_type": "stream",
     "text": [
      " SE HAN INCLUIDO 52 EJEMPLOS SINTÉTICOS\n"
     ]
    },
    {
     "name": "stderr",
     "output_type": "stream",
     "text": [
      "/home/cristina/anaconda3/lib/python3.8/site-packages/deap/creator.py:138: RuntimeWarning: A class named 'FitnessMax' has already been created and it will be overwritten. Consider deleting previous creation of that class or rename it.\n",
      "  warnings.warn(\"A class named '{0}' has already been created and it \"\n",
      "/home/cristina/anaconda3/lib/python3.8/site-packages/deap/creator.py:138: RuntimeWarning: A class named 'Individual' has already been created and it will be overwritten. Consider deleting previous creation of that class or rename it.\n",
      "  warnings.warn(\"A class named '{0}' has already been created and it \"\n"
     ]
    },
    {
     "name": "stdout",
     "output_type": "stream",
     "text": [
      " SE HAN INCLUIDO 65 EJEMPLOS SINTÉTICOS\n"
     ]
    },
    {
     "name": "stderr",
     "output_type": "stream",
     "text": [
      "/home/cristina/anaconda3/lib/python3.8/site-packages/deap/creator.py:138: RuntimeWarning: A class named 'FitnessMax' has already been created and it will be overwritten. Consider deleting previous creation of that class or rename it.\n",
      "  warnings.warn(\"A class named '{0}' has already been created and it \"\n",
      "/home/cristina/anaconda3/lib/python3.8/site-packages/deap/creator.py:138: RuntimeWarning: A class named 'Individual' has already been created and it will be overwritten. Consider deleting previous creation of that class or rename it.\n",
      "  warnings.warn(\"A class named '{0}' has already been created and it \"\n"
     ]
    },
    {
     "name": "stdout",
     "output_type": "stream",
     "text": [
      " SE HAN INCLUIDO 74 EJEMPLOS SINTÉTICOS\n"
     ]
    },
    {
     "name": "stderr",
     "output_type": "stream",
     "text": [
      "/home/cristina/anaconda3/lib/python3.8/site-packages/deap/creator.py:138: RuntimeWarning: A class named 'FitnessMax' has already been created and it will be overwritten. Consider deleting previous creation of that class or rename it.\n",
      "  warnings.warn(\"A class named '{0}' has already been created and it \"\n",
      "/home/cristina/anaconda3/lib/python3.8/site-packages/deap/creator.py:138: RuntimeWarning: A class named 'Individual' has already been created and it will be overwritten. Consider deleting previous creation of that class or rename it.\n",
      "  warnings.warn(\"A class named '{0}' has already been created and it \"\n"
     ]
    },
    {
     "name": "stdout",
     "output_type": "stream",
     "text": [
      " SE HAN INCLUIDO 74 EJEMPLOS SINTÉTICOS\n"
     ]
    },
    {
     "name": "stderr",
     "output_type": "stream",
     "text": [
      "/home/cristina/anaconda3/lib/python3.8/site-packages/deap/creator.py:138: RuntimeWarning: A class named 'FitnessMax' has already been created and it will be overwritten. Consider deleting previous creation of that class or rename it.\n",
      "  warnings.warn(\"A class named '{0}' has already been created and it \"\n",
      "/home/cristina/anaconda3/lib/python3.8/site-packages/deap/creator.py:138: RuntimeWarning: A class named 'Individual' has already been created and it will be overwritten. Consider deleting previous creation of that class or rename it.\n",
      "  warnings.warn(\"A class named '{0}' has already been created and it \"\n"
     ]
    },
    {
     "name": "stdout",
     "output_type": "stream",
     "text": [
      " SE HAN INCLUIDO 88 EJEMPLOS SINTÉTICOS\n"
     ]
    },
    {
     "name": "stderr",
     "output_type": "stream",
     "text": [
      "/home/cristina/anaconda3/lib/python3.8/site-packages/deap/creator.py:138: RuntimeWarning: A class named 'FitnessMax' has already been created and it will be overwritten. Consider deleting previous creation of that class or rename it.\n",
      "  warnings.warn(\"A class named '{0}' has already been created and it \"\n",
      "/home/cristina/anaconda3/lib/python3.8/site-packages/deap/creator.py:138: RuntimeWarning: A class named 'Individual' has already been created and it will be overwritten. Consider deleting previous creation of that class or rename it.\n",
      "  warnings.warn(\"A class named '{0}' has already been created and it \"\n"
     ]
    },
    {
     "name": "stdout",
     "output_type": "stream",
     "text": [
      " SE HAN INCLUIDO 65 EJEMPLOS SINTÉTICOS\n"
     ]
    },
    {
     "name": "stderr",
     "output_type": "stream",
     "text": [
      "/home/cristina/anaconda3/lib/python3.8/site-packages/deap/creator.py:138: RuntimeWarning: A class named 'FitnessMax' has already been created and it will be overwritten. Consider deleting previous creation of that class or rename it.\n",
      "  warnings.warn(\"A class named '{0}' has already been created and it \"\n",
      "/home/cristina/anaconda3/lib/python3.8/site-packages/deap/creator.py:138: RuntimeWarning: A class named 'Individual' has already been created and it will be overwritten. Consider deleting previous creation of that class or rename it.\n",
      "  warnings.warn(\"A class named '{0}' has already been created and it \"\n"
     ]
    },
    {
     "name": "stdout",
     "output_type": "stream",
     "text": [
      " SE HAN INCLUIDO 82 EJEMPLOS SINTÉTICOS\n",
      "Gmean parcial: 84.51542547285166\n",
      "[100.0, 74.96030695673291, 82.8078671210825, 57.94085654478071, 84.51542547285166]\n",
      "Rendimiento del clasificador DERSBoost: 80.04489121908955\n",
      "Tiempo medio de entrenamiento: 24.77044677734375\n"
     ]
    },
    {
     "data": {
      "text/plain": [
       "(80.04489121908955, 8.6, 24.77044677734375)"
      ]
     },
     "execution_count": 14,
     "metadata": {},
     "output_type": "execute_result"
    }
   ],
   "source": [
    "train_ensemble_method('ecoli','DERSBoost')"
   ]
  },
  {
   "cell_type": "code",
   "execution_count": null,
   "metadata": {},
   "outputs": [],
   "source": []
  }
 ],
 "metadata": {
  "kernelspec": {
   "display_name": "Python 3",
   "language": "python",
   "name": "python3"
  },
  "language_info": {
   "codemirror_mode": {
    "name": "ipython",
    "version": 3
   },
   "file_extension": ".py",
   "mimetype": "text/x-python",
   "name": "python",
   "nbconvert_exporter": "python",
   "pygments_lexer": "ipython3",
   "version": "3.8.5"
  }
 },
 "nbformat": 4,
 "nbformat_minor": 4
}
